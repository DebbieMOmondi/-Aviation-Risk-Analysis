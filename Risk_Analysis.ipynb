{
 "cells": [
  {
   "cell_type": "markdown",
   "id": "d21c1c71",
   "metadata": {},
   "source": [
    "# Aircraft Risk Analysis Project - Phase 1"
   ]
  },
  {
   "cell_type": "markdown",
   "id": "159b0c9e",
   "metadata": {},
   "source": [
    "## Introduction\n",
    "\n",
    "\n",
    "In today's fast-evolving business landscape, diversification remains crucial to maintaining a competitive edge. This project focuses on a company exploring expansion into the aviation industry, an area with both tremendous potential and inherent operational risks. Safety, in particular, is a critical factor for new entrants who lack direct aviation experience.\n",
    "\n",
    "Using real world aviation incident and survivability data, this project aims to guide investment decisions by highlighting aircraft models that offer the highest levels of safety and operational reliability. Through a careful examination of historical accident records, survivability outcomes, and aircraft safety scores, i provide a clear and data-driven assessment of which models are best suited for strategic fleet acquisition.\n",
    "\n",
    "Beyond serving as a business case, this project also demonstrates key data science skills including data cleaning,dealing missing value, trend analysis, risk evaluation, and visualization. The final deliverables include actionable insights, a prioritized list of recommended aircraft, and an interactive dashboard designed to empower the company's new aviation division with evidence-based decision-making tools.\n",
    "\n"
   ]
  },
  {
   "cell_type": "markdown",
   "id": "b0edc3ab",
   "metadata": {},
   "source": [
    "## Objectives\n",
    "\n",
    "- Analyze historical aircraft accident and survivability data to understand operational risk profiles.\n",
    "- Identify and rank aircraft models based on comprehensive safety performance metrics.\n",
    "- Perform robust data cleaning, missing value handling, and data integration.\n",
    "- Uncover trends in incident severity and survivability across different aircraft types.\n",
    "- Present findings through clear visualizations and a summarized, stakeholder-friendly format.\n",
    "- Build an interactive dashboard to support investment decisions with real-time insights."
   ]
  },
  {
   "cell_type": "markdown",
   "id": "5f761439",
   "metadata": {},
   "source": [
    "## Data Source\n",
    "\n",
    "The dataset comes from the National Transportation Safety Board (NTSB) and includes records of civil aviation accidents and selected incidents in the United States and international waters from 1962 to 2023."
   ]
  },
  {
   "cell_type": "markdown",
   "id": "c5848f7c",
   "metadata": {},
   "source": [
    "## Tools & Libraries\n",
    "\n",
    "- Python (Pandas, NumPy, Matplotlib, Seaborn)\n",
    "- Jupyter Notebook\n",
    "- Data cleaning and wrangling\n",
    "- Exploratory data analysis (EDA)"
   ]
  },
  {
   "cell_type": "markdown",
   "id": "fbe233e6",
   "metadata": {},
   "source": [
    "### Step 1 : Import Libraries"
   ]
  },
  {
   "cell_type": "code",
   "execution_count": 59,
   "id": "70f8f900",
   "metadata": {},
   "outputs": [],
   "source": [
    "#Importing libraries using standard alias\n",
    "import pandas as pd\n",
    "import numpy as np\n",
    "import matplotlib.pyplot as plt\n",
    "import seaborn as sns\n",
    "import calendar\n",
    "\n",
    "%matplotlib inline"
   ]
  },
  {
   "cell_type": "markdown",
   "id": "65d11f81",
   "metadata": {},
   "source": [
    "### Step 2 : Load and Inspect Data"
   ]
  },
  {
   "cell_type": "code",
   "execution_count": 60,
   "id": "5f63c53b",
   "metadata": {},
   "outputs": [
    {
     "data": {
      "text/html": [
       "<div>\n",
       "<style scoped>\n",
       "    .dataframe tbody tr th:only-of-type {\n",
       "        vertical-align: middle;\n",
       "    }\n",
       "\n",
       "    .dataframe tbody tr th {\n",
       "        vertical-align: top;\n",
       "    }\n",
       "\n",
       "    .dataframe thead th {\n",
       "        text-align: right;\n",
       "    }\n",
       "</style>\n",
       "<table border=\"1\" class=\"dataframe\">\n",
       "  <thead>\n",
       "    <tr style=\"text-align: right;\">\n",
       "      <th></th>\n",
       "      <th>Event.Id</th>\n",
       "      <th>Investigation.Type</th>\n",
       "      <th>Accident.Number</th>\n",
       "      <th>Event.Date</th>\n",
       "      <th>Location</th>\n",
       "      <th>Country</th>\n",
       "      <th>Latitude</th>\n",
       "      <th>Longitude</th>\n",
       "      <th>Airport.Code</th>\n",
       "      <th>Airport.Name</th>\n",
       "      <th>...</th>\n",
       "      <th>Purpose.of.flight</th>\n",
       "      <th>Air.carrier</th>\n",
       "      <th>Total.Fatal.Injuries</th>\n",
       "      <th>Total.Serious.Injuries</th>\n",
       "      <th>Total.Minor.Injuries</th>\n",
       "      <th>Total.Uninjured</th>\n",
       "      <th>Weather.Condition</th>\n",
       "      <th>Broad.phase.of.flight</th>\n",
       "      <th>Report.Status</th>\n",
       "      <th>Publication.Date</th>\n",
       "    </tr>\n",
       "  </thead>\n",
       "  <tbody>\n",
       "    <tr>\n",
       "      <th>0</th>\n",
       "      <td>20001218X45444</td>\n",
       "      <td>Accident</td>\n",
       "      <td>SEA87LA080</td>\n",
       "      <td>1948-10-24</td>\n",
       "      <td>MOOSE CREEK, ID</td>\n",
       "      <td>United States</td>\n",
       "      <td>NaN</td>\n",
       "      <td>NaN</td>\n",
       "      <td>NaN</td>\n",
       "      <td>NaN</td>\n",
       "      <td>...</td>\n",
       "      <td>Personal</td>\n",
       "      <td>NaN</td>\n",
       "      <td>2.0</td>\n",
       "      <td>0.0</td>\n",
       "      <td>0.0</td>\n",
       "      <td>0.0</td>\n",
       "      <td>UNK</td>\n",
       "      <td>Cruise</td>\n",
       "      <td>Probable Cause</td>\n",
       "      <td>NaN</td>\n",
       "    </tr>\n",
       "    <tr>\n",
       "      <th>1</th>\n",
       "      <td>20001218X45447</td>\n",
       "      <td>Accident</td>\n",
       "      <td>LAX94LA336</td>\n",
       "      <td>1962-07-19</td>\n",
       "      <td>BRIDGEPORT, CA</td>\n",
       "      <td>United States</td>\n",
       "      <td>NaN</td>\n",
       "      <td>NaN</td>\n",
       "      <td>NaN</td>\n",
       "      <td>NaN</td>\n",
       "      <td>...</td>\n",
       "      <td>Personal</td>\n",
       "      <td>NaN</td>\n",
       "      <td>4.0</td>\n",
       "      <td>0.0</td>\n",
       "      <td>0.0</td>\n",
       "      <td>0.0</td>\n",
       "      <td>UNK</td>\n",
       "      <td>NaN</td>\n",
       "      <td>Probable Cause</td>\n",
       "      <td>19-09-1996</td>\n",
       "    </tr>\n",
       "    <tr>\n",
       "      <th>2</th>\n",
       "      <td>20061025X01555</td>\n",
       "      <td>Accident</td>\n",
       "      <td>NYC07LA005</td>\n",
       "      <td>1974-08-30</td>\n",
       "      <td>Saltville, VA</td>\n",
       "      <td>United States</td>\n",
       "      <td>36.922223</td>\n",
       "      <td>-81.878056</td>\n",
       "      <td>NaN</td>\n",
       "      <td>NaN</td>\n",
       "      <td>...</td>\n",
       "      <td>Personal</td>\n",
       "      <td>NaN</td>\n",
       "      <td>3.0</td>\n",
       "      <td>NaN</td>\n",
       "      <td>NaN</td>\n",
       "      <td>NaN</td>\n",
       "      <td>IMC</td>\n",
       "      <td>Cruise</td>\n",
       "      <td>Probable Cause</td>\n",
       "      <td>26-02-2007</td>\n",
       "    </tr>\n",
       "    <tr>\n",
       "      <th>3</th>\n",
       "      <td>20001218X45448</td>\n",
       "      <td>Accident</td>\n",
       "      <td>LAX96LA321</td>\n",
       "      <td>1977-06-19</td>\n",
       "      <td>EUREKA, CA</td>\n",
       "      <td>United States</td>\n",
       "      <td>NaN</td>\n",
       "      <td>NaN</td>\n",
       "      <td>NaN</td>\n",
       "      <td>NaN</td>\n",
       "      <td>...</td>\n",
       "      <td>Personal</td>\n",
       "      <td>NaN</td>\n",
       "      <td>2.0</td>\n",
       "      <td>0.0</td>\n",
       "      <td>0.0</td>\n",
       "      <td>0.0</td>\n",
       "      <td>IMC</td>\n",
       "      <td>Cruise</td>\n",
       "      <td>Probable Cause</td>\n",
       "      <td>12-09-2000</td>\n",
       "    </tr>\n",
       "    <tr>\n",
       "      <th>4</th>\n",
       "      <td>20041105X01764</td>\n",
       "      <td>Accident</td>\n",
       "      <td>CHI79FA064</td>\n",
       "      <td>1979-08-02</td>\n",
       "      <td>Canton, OH</td>\n",
       "      <td>United States</td>\n",
       "      <td>NaN</td>\n",
       "      <td>NaN</td>\n",
       "      <td>NaN</td>\n",
       "      <td>NaN</td>\n",
       "      <td>...</td>\n",
       "      <td>Personal</td>\n",
       "      <td>NaN</td>\n",
       "      <td>1.0</td>\n",
       "      <td>2.0</td>\n",
       "      <td>NaN</td>\n",
       "      <td>0.0</td>\n",
       "      <td>VMC</td>\n",
       "      <td>Approach</td>\n",
       "      <td>Probable Cause</td>\n",
       "      <td>16-04-1980</td>\n",
       "    </tr>\n",
       "  </tbody>\n",
       "</table>\n",
       "<p>5 rows × 31 columns</p>\n",
       "</div>"
      ],
      "text/plain": [
       "         Event.Id Investigation.Type Accident.Number  Event.Date  \\\n",
       "0  20001218X45444           Accident      SEA87LA080  1948-10-24   \n",
       "1  20001218X45447           Accident      LAX94LA336  1962-07-19   \n",
       "2  20061025X01555           Accident      NYC07LA005  1974-08-30   \n",
       "3  20001218X45448           Accident      LAX96LA321  1977-06-19   \n",
       "4  20041105X01764           Accident      CHI79FA064  1979-08-02   \n",
       "\n",
       "          Location        Country   Latitude   Longitude Airport.Code  \\\n",
       "0  MOOSE CREEK, ID  United States        NaN         NaN          NaN   \n",
       "1   BRIDGEPORT, CA  United States        NaN         NaN          NaN   \n",
       "2    Saltville, VA  United States  36.922223  -81.878056          NaN   \n",
       "3       EUREKA, CA  United States        NaN         NaN          NaN   \n",
       "4       Canton, OH  United States        NaN         NaN          NaN   \n",
       "\n",
       "  Airport.Name  ... Purpose.of.flight Air.carrier Total.Fatal.Injuries  \\\n",
       "0          NaN  ...          Personal         NaN                  2.0   \n",
       "1          NaN  ...          Personal         NaN                  4.0   \n",
       "2          NaN  ...          Personal         NaN                  3.0   \n",
       "3          NaN  ...          Personal         NaN                  2.0   \n",
       "4          NaN  ...          Personal         NaN                  1.0   \n",
       "\n",
       "  Total.Serious.Injuries Total.Minor.Injuries Total.Uninjured  \\\n",
       "0                    0.0                  0.0             0.0   \n",
       "1                    0.0                  0.0             0.0   \n",
       "2                    NaN                  NaN             NaN   \n",
       "3                    0.0                  0.0             0.0   \n",
       "4                    2.0                  NaN             0.0   \n",
       "\n",
       "  Weather.Condition  Broad.phase.of.flight   Report.Status Publication.Date  \n",
       "0               UNK                 Cruise  Probable Cause              NaN  \n",
       "1               UNK                    NaN  Probable Cause       19-09-1996  \n",
       "2               IMC                 Cruise  Probable Cause       26-02-2007  \n",
       "3               IMC                 Cruise  Probable Cause       12-09-2000  \n",
       "4               VMC               Approach  Probable Cause       16-04-1980  \n",
       "\n",
       "[5 rows x 31 columns]"
      ]
     },
     "execution_count": 60,
     "metadata": {},
     "output_type": "execute_result"
    }
   ],
   "source": [
    "#Loading the csv file into the notebook\n",
    "#Adding low_memory=False to allow pandas to read the full file before deciding datatypes\n",
    "#Telling pandas to treat ? , Unknown , N/A and blank spaces as missing values\n",
    "data= pd.read_csv('data/Aviation_Data.csv', low_memory=False, na_values=['?', 'Unknown', 'N/A', ''])\n",
    "\n",
    "#Inspect the first 5 rows of the dataset\n",
    "data.head()"
   ]
  },
  {
   "cell_type": "code",
   "execution_count": 61,
   "id": "7941bbe9",
   "metadata": {},
   "outputs": [
    {
     "name": "stdout",
     "output_type": "stream",
     "text": [
      "The dataset contains 90348 rows and 31 columns.\n"
     ]
    }
   ],
   "source": [
    "# Checking the number of rows and columns in the dataset\n",
    "data.shape\n",
    "\n",
    "# Displaying the dataset's dimensions (rows, columns)\n",
    "print(f\"The dataset contains {data.shape[0]} rows and {data.shape[1]} columns.\")"
   ]
  },
  {
   "cell_type": "code",
   "execution_count": 62,
   "id": "9dce34f6",
   "metadata": {},
   "outputs": [
    {
     "name": "stdout",
     "output_type": "stream",
     "text": [
      "<class 'pandas.core.frame.DataFrame'>\n",
      "RangeIndex: 90348 entries, 0 to 90347\n",
      "Data columns (total 31 columns):\n",
      " #   Column                  Non-Null Count  Dtype  \n",
      "---  ------                  --------------  -----  \n",
      " 0   Event.Id                88889 non-null  object \n",
      " 1   Investigation.Type      90348 non-null  object \n",
      " 2   Accident.Number         88889 non-null  object \n",
      " 3   Event.Date              88889 non-null  object \n",
      " 4   Location                88836 non-null  object \n",
      " 5   Country                 88660 non-null  object \n",
      " 6   Latitude                34382 non-null  object \n",
      " 7   Longitude               34373 non-null  object \n",
      " 8   Airport.Code            50249 non-null  object \n",
      " 9   Airport.Name            52783 non-null  object \n",
      " 10  Injury.Severity         87889 non-null  object \n",
      " 11  Aircraft.damage         85576 non-null  object \n",
      " 12  Aircraft.Category       32273 non-null  object \n",
      " 13  Registration.Number     87569 non-null  object \n",
      " 14  Make                    88805 non-null  object \n",
      " 15  Model                   88796 non-null  object \n",
      " 16  Amateur.Built           88787 non-null  object \n",
      " 17  Number.of.Engines       82805 non-null  float64\n",
      " 18  Engine.Type             79761 non-null  object \n",
      " 19  FAR.Description         32001 non-null  object \n",
      " 20  Schedule                12582 non-null  object \n",
      " 21  Purpose.of.flight       75895 non-null  object \n",
      " 22  Air.carrier             16634 non-null  object \n",
      " 23  Total.Fatal.Injuries    77488 non-null  float64\n",
      " 24  Total.Serious.Injuries  76379 non-null  float64\n",
      " 25  Total.Minor.Injuries    76956 non-null  float64\n",
      " 26  Total.Uninjured         82977 non-null  float64\n",
      " 27  Weather.Condition       84397 non-null  object \n",
      " 28  Broad.phase.of.flight   61176 non-null  object \n",
      " 29  Report.Status           82508 non-null  object \n",
      " 30  Publication.Date        73659 non-null  object \n",
      "dtypes: float64(5), object(26)\n",
      "memory usage: 21.4+ MB\n"
     ]
    }
   ],
   "source": [
    "# Getting a summary of the dataset\n",
    "data.info()"
   ]
  },
  {
   "cell_type": "code",
   "execution_count": 63,
   "id": "2f1d1a83",
   "metadata": {},
   "outputs": [
    {
     "data": {
      "text/plain": [
       "Index(['Event.Id', 'Investigation.Type', 'Accident.Number', 'Event.Date',\n",
       "       'Location', 'Country', 'Latitude', 'Longitude', 'Airport.Code',\n",
       "       'Airport.Name', 'Injury.Severity', 'Aircraft.damage',\n",
       "       'Aircraft.Category', 'Registration.Number', 'Make', 'Model',\n",
       "       'Amateur.Built', 'Number.of.Engines', 'Engine.Type', 'FAR.Description',\n",
       "       'Schedule', 'Purpose.of.flight', 'Air.carrier', 'Total.Fatal.Injuries',\n",
       "       'Total.Serious.Injuries', 'Total.Minor.Injuries', 'Total.Uninjured',\n",
       "       'Weather.Condition', 'Broad.phase.of.flight', 'Report.Status',\n",
       "       'Publication.Date'],\n",
       "      dtype='object')"
      ]
     },
     "execution_count": 63,
     "metadata": {},
     "output_type": "execute_result"
    }
   ],
   "source": [
    "#Looking at all columns present\n",
    "data.columns"
   ]
  },
  {
   "cell_type": "code",
   "execution_count": 64,
   "id": "bf5b5cf7",
   "metadata": {},
   "outputs": [
    {
     "data": {
      "text/html": [
       "<div>\n",
       "<style scoped>\n",
       "    .dataframe tbody tr th:only-of-type {\n",
       "        vertical-align: middle;\n",
       "    }\n",
       "\n",
       "    .dataframe tbody tr th {\n",
       "        vertical-align: top;\n",
       "    }\n",
       "\n",
       "    .dataframe thead th {\n",
       "        text-align: right;\n",
       "    }\n",
       "</style>\n",
       "<table border=\"1\" class=\"dataframe\">\n",
       "  <thead>\n",
       "    <tr style=\"text-align: right;\">\n",
       "      <th></th>\n",
       "      <th>Number.of.Engines</th>\n",
       "      <th>Total.Fatal.Injuries</th>\n",
       "      <th>Total.Serious.Injuries</th>\n",
       "      <th>Total.Minor.Injuries</th>\n",
       "      <th>Total.Uninjured</th>\n",
       "    </tr>\n",
       "  </thead>\n",
       "  <tbody>\n",
       "    <tr>\n",
       "      <th>count</th>\n",
       "      <td>82805.000000</td>\n",
       "      <td>77488.000000</td>\n",
       "      <td>76379.000000</td>\n",
       "      <td>76956.000000</td>\n",
       "      <td>82977.000000</td>\n",
       "    </tr>\n",
       "    <tr>\n",
       "      <th>mean</th>\n",
       "      <td>1.146585</td>\n",
       "      <td>0.647855</td>\n",
       "      <td>0.279881</td>\n",
       "      <td>0.357061</td>\n",
       "      <td>5.325440</td>\n",
       "    </tr>\n",
       "    <tr>\n",
       "      <th>std</th>\n",
       "      <td>0.446510</td>\n",
       "      <td>5.485960</td>\n",
       "      <td>1.544084</td>\n",
       "      <td>2.235625</td>\n",
       "      <td>27.913634</td>\n",
       "    </tr>\n",
       "    <tr>\n",
       "      <th>min</th>\n",
       "      <td>0.000000</td>\n",
       "      <td>0.000000</td>\n",
       "      <td>0.000000</td>\n",
       "      <td>0.000000</td>\n",
       "      <td>0.000000</td>\n",
       "    </tr>\n",
       "    <tr>\n",
       "      <th>25%</th>\n",
       "      <td>1.000000</td>\n",
       "      <td>0.000000</td>\n",
       "      <td>0.000000</td>\n",
       "      <td>0.000000</td>\n",
       "      <td>0.000000</td>\n",
       "    </tr>\n",
       "    <tr>\n",
       "      <th>50%</th>\n",
       "      <td>1.000000</td>\n",
       "      <td>0.000000</td>\n",
       "      <td>0.000000</td>\n",
       "      <td>0.000000</td>\n",
       "      <td>1.000000</td>\n",
       "    </tr>\n",
       "    <tr>\n",
       "      <th>75%</th>\n",
       "      <td>1.000000</td>\n",
       "      <td>0.000000</td>\n",
       "      <td>0.000000</td>\n",
       "      <td>0.000000</td>\n",
       "      <td>2.000000</td>\n",
       "    </tr>\n",
       "    <tr>\n",
       "      <th>max</th>\n",
       "      <td>8.000000</td>\n",
       "      <td>349.000000</td>\n",
       "      <td>161.000000</td>\n",
       "      <td>380.000000</td>\n",
       "      <td>699.000000</td>\n",
       "    </tr>\n",
       "  </tbody>\n",
       "</table>\n",
       "</div>"
      ],
      "text/plain": [
       "       Number.of.Engines  Total.Fatal.Injuries  Total.Serious.Injuries  \\\n",
       "count       82805.000000          77488.000000            76379.000000   \n",
       "mean            1.146585              0.647855                0.279881   \n",
       "std             0.446510              5.485960                1.544084   \n",
       "min             0.000000              0.000000                0.000000   \n",
       "25%             1.000000              0.000000                0.000000   \n",
       "50%             1.000000              0.000000                0.000000   \n",
       "75%             1.000000              0.000000                0.000000   \n",
       "max             8.000000            349.000000              161.000000   \n",
       "\n",
       "       Total.Minor.Injuries  Total.Uninjured  \n",
       "count          76956.000000     82977.000000  \n",
       "mean               0.357061         5.325440  \n",
       "std                2.235625        27.913634  \n",
       "min                0.000000         0.000000  \n",
       "25%                0.000000         0.000000  \n",
       "50%                0.000000         1.000000  \n",
       "75%                0.000000         2.000000  \n",
       "max              380.000000       699.000000  "
      ]
     },
     "execution_count": 64,
     "metadata": {},
     "output_type": "execute_result"
    }
   ],
   "source": [
    "#Getting a summary statistics for numerical columns in the dataset\n",
    "data.describe()"
   ]
  },
  {
   "cell_type": "markdown",
   "id": "0f7e21ef",
   "metadata": {},
   "source": [
    "### Step 3 : Data Cleaning"
   ]
  },
  {
   "cell_type": "code",
   "execution_count": 65,
   "id": "2ab65ddf",
   "metadata": {},
   "outputs": [],
   "source": [
    "# Creating a copy of the cleaned DataFrame to avoid modifying the original\n",
    "cleaned_data = data.copy()"
   ]
  },
  {
   "cell_type": "code",
   "execution_count": 66,
   "id": "bb5e2024",
   "metadata": {},
   "outputs": [
    {
     "name": "stdout",
     "output_type": "stream",
     "text": [
      "<class 'pandas.core.frame.DataFrame'>\n",
      "RangeIndex: 90348 entries, 0 to 90347\n",
      "Data columns (total 31 columns):\n",
      " #   Column                  Non-Null Count  Dtype  \n",
      "---  ------                  --------------  -----  \n",
      " 0   Event.Id                88889 non-null  object \n",
      " 1   Investigation.Type      90348 non-null  object \n",
      " 2   Accident.Number         88889 non-null  object \n",
      " 3   Event.Date              88889 non-null  object \n",
      " 4   Location                88836 non-null  object \n",
      " 5   Country                 88660 non-null  object \n",
      " 6   Latitude                34382 non-null  object \n",
      " 7   Longitude               34373 non-null  object \n",
      " 8   Airport.Code            50249 non-null  object \n",
      " 9   Airport.Name            52783 non-null  object \n",
      " 10  Injury.Severity         87889 non-null  object \n",
      " 11  Aircraft.damage         85576 non-null  object \n",
      " 12  Aircraft.Category       32273 non-null  object \n",
      " 13  Registration.Number     87569 non-null  object \n",
      " 14  Make                    88805 non-null  object \n",
      " 15  Model                   88796 non-null  object \n",
      " 16  Amateur.Built           88787 non-null  object \n",
      " 17  Number.of.Engines       82805 non-null  float64\n",
      " 18  Engine.Type             79761 non-null  object \n",
      " 19  FAR.Description         32001 non-null  object \n",
      " 20  Schedule                12582 non-null  object \n",
      " 21  Purpose.of.flight       75895 non-null  object \n",
      " 22  Air.carrier             16634 non-null  object \n",
      " 23  Total.Fatal.Injuries    77488 non-null  float64\n",
      " 24  Total.Serious.Injuries  76379 non-null  float64\n",
      " 25  Total.Minor.Injuries    76956 non-null  float64\n",
      " 26  Total.Uninjured         82977 non-null  float64\n",
      " 27  Weather.Condition       84397 non-null  object \n",
      " 28  Broad.phase.of.flight   61176 non-null  object \n",
      " 29  Report.Status           82508 non-null  object \n",
      " 30  Publication.Date        73659 non-null  object \n",
      "dtypes: float64(5), object(26)\n",
      "memory usage: 21.4+ MB\n"
     ]
    }
   ],
   "source": [
    "#Inspecting cleaned data\n",
    "cleaned_data.info()"
   ]
  },
  {
   "cell_type": "code",
   "execution_count": 67,
   "id": "54a6ccec",
   "metadata": {},
   "outputs": [
    {
     "data": {
      "text/html": [
       "<div>\n",
       "<style scoped>\n",
       "    .dataframe tbody tr th:only-of-type {\n",
       "        vertical-align: middle;\n",
       "    }\n",
       "\n",
       "    .dataframe tbody tr th {\n",
       "        vertical-align: top;\n",
       "    }\n",
       "\n",
       "    .dataframe thead th {\n",
       "        text-align: right;\n",
       "    }\n",
       "</style>\n",
       "<table border=\"1\" class=\"dataframe\">\n",
       "  <thead>\n",
       "    <tr style=\"text-align: right;\">\n",
       "      <th></th>\n",
       "      <th>Event.Date</th>\n",
       "      <th>Publication.Date</th>\n",
       "    </tr>\n",
       "  </thead>\n",
       "  <tbody>\n",
       "    <tr>\n",
       "      <th>0</th>\n",
       "      <td>1948-10-24</td>\n",
       "      <td>NaT</td>\n",
       "    </tr>\n",
       "    <tr>\n",
       "      <th>1</th>\n",
       "      <td>1962-07-19</td>\n",
       "      <td>1996-09-19</td>\n",
       "    </tr>\n",
       "    <tr>\n",
       "      <th>2</th>\n",
       "      <td>1974-08-30</td>\n",
       "      <td>2007-02-26</td>\n",
       "    </tr>\n",
       "    <tr>\n",
       "      <th>3</th>\n",
       "      <td>1977-06-19</td>\n",
       "      <td>2000-12-09</td>\n",
       "    </tr>\n",
       "    <tr>\n",
       "      <th>4</th>\n",
       "      <td>1979-08-02</td>\n",
       "      <td>1980-04-16</td>\n",
       "    </tr>\n",
       "  </tbody>\n",
       "</table>\n",
       "</div>"
      ],
      "text/plain": [
       "  Event.Date Publication.Date\n",
       "0 1948-10-24              NaT\n",
       "1 1962-07-19       1996-09-19\n",
       "2 1974-08-30       2007-02-26\n",
       "3 1977-06-19       2000-12-09\n",
       "4 1979-08-02       1980-04-16"
      ]
     },
     "execution_count": 67,
     "metadata": {},
     "output_type": "execute_result"
    }
   ],
   "source": [
    "#Changing the Event.Date and Publication.Date columns into datetime\n",
    "cleaned_data['Event.Date']=pd.to_datetime(cleaned_data['Event.Date'])\n",
    "cleaned_data['Publication.Date']=pd.to_datetime(cleaned_data['Publication.Date'])\n",
    "\n",
    "#Checking if it has been applied\n",
    "cleaned_data[['Event.Date','Publication.Date']].head()"
   ]
  },
  {
   "cell_type": "code",
   "execution_count": 68,
   "id": "5cbc97f8",
   "metadata": {},
   "outputs": [
    {
     "data": {
      "text/plain": [
       "True"
      ]
     },
     "execution_count": 68,
     "metadata": {},
     "output_type": "execute_result"
    }
   ],
   "source": [
    "# Checking if there are any duplicate rows\n",
    "cleaned_data.duplicated().any()"
   ]
  },
  {
   "cell_type": "code",
   "execution_count": 69,
   "id": "8a2f1aa3",
   "metadata": {},
   "outputs": [
    {
     "name": "stdout",
     "output_type": "stream",
     "text": [
      "The Cleaned dataset contains 88958 rows and 31 columns.\n"
     ]
    }
   ],
   "source": [
    "# Droping duplicated rows and keeping the first occurrence\n",
    "cleaned_data = cleaned_data.drop_duplicates()\n",
    "\n",
    "#Checking dimensions of our cleaned data after duplicates have been dropped\n",
    "cleaned_data.shape\n",
    "print(f\"The Cleaned dataset contains {cleaned_data.shape[0]} rows and {cleaned_data.shape[1]} columns.\")"
   ]
  },
  {
   "cell_type": "code",
   "execution_count": 70,
   "id": "95ae92ae",
   "metadata": {},
   "outputs": [],
   "source": [
    "#Grouping the numerical values and fill them with the mean\n",
    "numeric_values = cleaned_data.select_dtypes(include=[float, int]).columns\n",
    "cleaned_data[numeric_values] = cleaned_data[numeric_values].fillna(cleaned_data[numeric_values].mean())"
   ]
  },
  {
   "cell_type": "code",
   "execution_count": 71,
   "id": "f3a897c8",
   "metadata": {},
   "outputs": [
    {
     "data": {
      "text/plain": [
       "Number.of.Engines         0\n",
       "Total.Fatal.Injuries      0\n",
       "Total.Serious.Injuries    0\n",
       "Total.Minor.Injuries      0\n",
       "Total.Uninjured           0\n",
       "dtype: int64"
      ]
     },
     "execution_count": 71,
     "metadata": {},
     "output_type": "execute_result"
    }
   ],
   "source": [
    "#Checking for any null values in the numerical values\n",
    "cleaned_data[numeric_values].isna().sum()"
   ]
  },
  {
   "cell_type": "code",
   "execution_count": 72,
   "id": "20dabe0e",
   "metadata": {},
   "outputs": [],
   "source": [
    "# Selecting all object and datetime columns\n",
    "categorical_values = cleaned_data.select_dtypes(include=['object', 'datetime64[ns]']).columns\n",
    "\n",
    "# Looping through each column and filling missing values with the mode\n",
    "for column in categorical_values:\n",
    "    mode_series = cleaned_data[column].mode()\n",
    "\n",
    "    # Only fills if the mode exists\n",
    "    if not mode_series.empty:\n",
    "        mode_value = mode_series.iloc[0]\n",
    "        cleaned_data[column] = cleaned_data[column].fillna(mode_value)\n"
   ]
  },
  {
   "cell_type": "code",
   "execution_count": 73,
   "id": "8447c17a",
   "metadata": {},
   "outputs": [
    {
     "data": {
      "text/plain": [
       "Event.Id                 0\n",
       "Investigation.Type       0\n",
       "Accident.Number          0\n",
       "Event.Date               0\n",
       "Location                 0\n",
       "Country                  0\n",
       "Latitude                 0\n",
       "Longitude                0\n",
       "Airport.Code             0\n",
       "Airport.Name             0\n",
       "Injury.Severity          0\n",
       "Aircraft.damage          0\n",
       "Aircraft.Category        0\n",
       "Registration.Number      0\n",
       "Make                     0\n",
       "Model                    0\n",
       "Amateur.Built            0\n",
       "Engine.Type              0\n",
       "FAR.Description          0\n",
       "Schedule                 0\n",
       "Purpose.of.flight        0\n",
       "Air.carrier              0\n",
       "Weather.Condition        0\n",
       "Broad.phase.of.flight    0\n",
       "Report.Status            0\n",
       "Publication.Date         0\n",
       "dtype: int64"
      ]
     },
     "execution_count": 73,
     "metadata": {},
     "output_type": "execute_result"
    }
   ],
   "source": [
    "#Check for any null values in the categoriacal values\n",
    "cleaned_data[categorical_values].isna().sum()"
   ]
  },
  {
   "cell_type": "code",
   "execution_count": 74,
   "id": "0ed9b725",
   "metadata": {},
   "outputs": [],
   "source": [
    "# Looping through each categorical column and applying strip() for each column\n",
    "for column in categorical_values:\n",
    "    # Converting the column to string type first, then applying strip() and making them lowercase\n",
    "    cleaned_data[column] = cleaned_data[column].astype(str).str.strip().str.capitalize()"
   ]
  },
  {
   "cell_type": "code",
   "execution_count": 75,
   "id": "5c55ad84",
   "metadata": {},
   "outputs": [
    {
     "data": {
      "text/html": [
       "<div>\n",
       "<style scoped>\n",
       "    .dataframe tbody tr th:only-of-type {\n",
       "        vertical-align: middle;\n",
       "    }\n",
       "\n",
       "    .dataframe tbody tr th {\n",
       "        vertical-align: top;\n",
       "    }\n",
       "\n",
       "    .dataframe thead th {\n",
       "        text-align: right;\n",
       "    }\n",
       "</style>\n",
       "<table border=\"1\" class=\"dataframe\">\n",
       "  <thead>\n",
       "    <tr style=\"text-align: right;\">\n",
       "      <th></th>\n",
       "      <th>Number.of.Engines</th>\n",
       "      <th>Total.Fatal.Injuries</th>\n",
       "      <th>Total.Serious.Injuries</th>\n",
       "      <th>Total.Minor.Injuries</th>\n",
       "      <th>Total.Uninjured</th>\n",
       "      <th>Event.Id</th>\n",
       "      <th>Investigation.Type</th>\n",
       "      <th>Accident.Number</th>\n",
       "      <th>Event.Date</th>\n",
       "      <th>Location</th>\n",
       "      <th>...</th>\n",
       "      <th>Amateur.Built</th>\n",
       "      <th>Engine.Type</th>\n",
       "      <th>FAR.Description</th>\n",
       "      <th>Schedule</th>\n",
       "      <th>Purpose.of.flight</th>\n",
       "      <th>Air.carrier</th>\n",
       "      <th>Weather.Condition</th>\n",
       "      <th>Broad.phase.of.flight</th>\n",
       "      <th>Report.Status</th>\n",
       "      <th>Publication.Date</th>\n",
       "    </tr>\n",
       "  </thead>\n",
       "  <tbody>\n",
       "    <tr>\n",
       "      <th>0</th>\n",
       "      <td>1.000000</td>\n",
       "      <td>2.0</td>\n",
       "      <td>0.000000</td>\n",
       "      <td>0.000000</td>\n",
       "      <td>0.00000</td>\n",
       "      <td>20001218x45444</td>\n",
       "      <td>Accident</td>\n",
       "      <td>Sea87la080</td>\n",
       "      <td>1948-10-24</td>\n",
       "      <td>Moose creek, id</td>\n",
       "      <td>...</td>\n",
       "      <td>No</td>\n",
       "      <td>Reciprocating</td>\n",
       "      <td>091</td>\n",
       "      <td>Nsch</td>\n",
       "      <td>Personal</td>\n",
       "      <td>Pilot</td>\n",
       "      <td>Unk</td>\n",
       "      <td>Cruise</td>\n",
       "      <td>Probable cause</td>\n",
       "      <td>2020-09-25</td>\n",
       "    </tr>\n",
       "    <tr>\n",
       "      <th>1</th>\n",
       "      <td>1.000000</td>\n",
       "      <td>4.0</td>\n",
       "      <td>0.000000</td>\n",
       "      <td>0.000000</td>\n",
       "      <td>0.00000</td>\n",
       "      <td>20001218x45447</td>\n",
       "      <td>Accident</td>\n",
       "      <td>Lax94la336</td>\n",
       "      <td>1962-07-19</td>\n",
       "      <td>Bridgeport, ca</td>\n",
       "      <td>...</td>\n",
       "      <td>No</td>\n",
       "      <td>Reciprocating</td>\n",
       "      <td>091</td>\n",
       "      <td>Nsch</td>\n",
       "      <td>Personal</td>\n",
       "      <td>Pilot</td>\n",
       "      <td>Unk</td>\n",
       "      <td>Landing</td>\n",
       "      <td>Probable cause</td>\n",
       "      <td>1996-09-19</td>\n",
       "    </tr>\n",
       "    <tr>\n",
       "      <th>2</th>\n",
       "      <td>1.000000</td>\n",
       "      <td>3.0</td>\n",
       "      <td>0.279881</td>\n",
       "      <td>0.357061</td>\n",
       "      <td>5.32544</td>\n",
       "      <td>20061025x01555</td>\n",
       "      <td>Accident</td>\n",
       "      <td>Nyc07la005</td>\n",
       "      <td>1974-08-30</td>\n",
       "      <td>Saltville, va</td>\n",
       "      <td>...</td>\n",
       "      <td>No</td>\n",
       "      <td>Reciprocating</td>\n",
       "      <td>091</td>\n",
       "      <td>Nsch</td>\n",
       "      <td>Personal</td>\n",
       "      <td>Pilot</td>\n",
       "      <td>Imc</td>\n",
       "      <td>Cruise</td>\n",
       "      <td>Probable cause</td>\n",
       "      <td>2007-02-26</td>\n",
       "    </tr>\n",
       "    <tr>\n",
       "      <th>3</th>\n",
       "      <td>1.000000</td>\n",
       "      <td>2.0</td>\n",
       "      <td>0.000000</td>\n",
       "      <td>0.000000</td>\n",
       "      <td>0.00000</td>\n",
       "      <td>20001218x45448</td>\n",
       "      <td>Accident</td>\n",
       "      <td>Lax96la321</td>\n",
       "      <td>1977-06-19</td>\n",
       "      <td>Eureka, ca</td>\n",
       "      <td>...</td>\n",
       "      <td>No</td>\n",
       "      <td>Reciprocating</td>\n",
       "      <td>091</td>\n",
       "      <td>Nsch</td>\n",
       "      <td>Personal</td>\n",
       "      <td>Pilot</td>\n",
       "      <td>Imc</td>\n",
       "      <td>Cruise</td>\n",
       "      <td>Probable cause</td>\n",
       "      <td>2000-12-09</td>\n",
       "    </tr>\n",
       "    <tr>\n",
       "      <th>4</th>\n",
       "      <td>1.146585</td>\n",
       "      <td>1.0</td>\n",
       "      <td>2.000000</td>\n",
       "      <td>0.357061</td>\n",
       "      <td>0.00000</td>\n",
       "      <td>20041105x01764</td>\n",
       "      <td>Accident</td>\n",
       "      <td>Chi79fa064</td>\n",
       "      <td>1979-08-02</td>\n",
       "      <td>Canton, oh</td>\n",
       "      <td>...</td>\n",
       "      <td>No</td>\n",
       "      <td>Reciprocating</td>\n",
       "      <td>091</td>\n",
       "      <td>Nsch</td>\n",
       "      <td>Personal</td>\n",
       "      <td>Pilot</td>\n",
       "      <td>Vmc</td>\n",
       "      <td>Approach</td>\n",
       "      <td>Probable cause</td>\n",
       "      <td>1980-04-16</td>\n",
       "    </tr>\n",
       "  </tbody>\n",
       "</table>\n",
       "<p>5 rows × 31 columns</p>\n",
       "</div>"
      ],
      "text/plain": [
       "   Number.of.Engines  Total.Fatal.Injuries  Total.Serious.Injuries  \\\n",
       "0           1.000000                   2.0                0.000000   \n",
       "1           1.000000                   4.0                0.000000   \n",
       "2           1.000000                   3.0                0.279881   \n",
       "3           1.000000                   2.0                0.000000   \n",
       "4           1.146585                   1.0                2.000000   \n",
       "\n",
       "   Total.Minor.Injuries  Total.Uninjured        Event.Id Investigation.Type  \\\n",
       "0              0.000000          0.00000  20001218x45444           Accident   \n",
       "1              0.000000          0.00000  20001218x45447           Accident   \n",
       "2              0.357061          5.32544  20061025x01555           Accident   \n",
       "3              0.000000          0.00000  20001218x45448           Accident   \n",
       "4              0.357061          0.00000  20041105x01764           Accident   \n",
       "\n",
       "  Accident.Number  Event.Date         Location  ... Amateur.Built  \\\n",
       "0      Sea87la080  1948-10-24  Moose creek, id  ...            No   \n",
       "1      Lax94la336  1962-07-19   Bridgeport, ca  ...            No   \n",
       "2      Nyc07la005  1974-08-30    Saltville, va  ...            No   \n",
       "3      Lax96la321  1977-06-19       Eureka, ca  ...            No   \n",
       "4      Chi79fa064  1979-08-02       Canton, oh  ...            No   \n",
       "\n",
       "     Engine.Type FAR.Description Schedule Purpose.of.flight Air.carrier  \\\n",
       "0  Reciprocating             091     Nsch          Personal       Pilot   \n",
       "1  Reciprocating             091     Nsch          Personal       Pilot   \n",
       "2  Reciprocating             091     Nsch          Personal       Pilot   \n",
       "3  Reciprocating             091     Nsch          Personal       Pilot   \n",
       "4  Reciprocating             091     Nsch          Personal       Pilot   \n",
       "\n",
       "  Weather.Condition Broad.phase.of.flight   Report.Status Publication.Date  \n",
       "0               Unk                Cruise  Probable cause       2020-09-25  \n",
       "1               Unk               Landing  Probable cause       1996-09-19  \n",
       "2               Imc                Cruise  Probable cause       2007-02-26  \n",
       "3               Imc                Cruise  Probable cause       2000-12-09  \n",
       "4               Vmc              Approach  Probable cause       1980-04-16  \n",
       "\n",
       "[5 rows x 31 columns]"
      ]
     },
     "execution_count": 75,
     "metadata": {},
     "output_type": "execute_result"
    }
   ],
   "source": [
    "# Selecting numeric and categorical data by column names, then combining them back into one DataFrame\n",
    "numerical_data = cleaned_data[numeric_values]\n",
    "categorical_data = cleaned_data[categorical_values]\n",
    "cleaned_data = pd.concat([numerical_data, categorical_data], axis=1)\n",
    "\n",
    "#Checking the 1st 5 rows of the cleaned data\n",
    "cleaned_data.head()"
   ]
  },
  {
   "cell_type": "code",
   "execution_count": 76,
   "id": "b6a1613f",
   "metadata": {},
   "outputs": [
    {
     "data": {
      "text/plain": [
       "0              Stinson\n",
       "1                Piper\n",
       "2               Cessna\n",
       "3             Rockwell\n",
       "4               Cessna\n",
       "5    Mcdonnell douglas\n",
       "6               Cessna\n",
       "7               Cessna\n",
       "8               Cessna\n",
       "9       North american\n",
       "Name: Make, dtype: object"
      ]
     },
     "execution_count": 76,
     "metadata": {},
     "output_type": "execute_result"
    }
   ],
   "source": [
    "#checking the data in the make column\n",
    "cleaned_data['Make'].head(10)"
   ]
  },
  {
   "cell_type": "code",
   "execution_count": 77,
   "id": "3f67a75c",
   "metadata": {},
   "outputs": [
    {
     "name": "stdout",
     "output_type": "stream",
     "text": [
      "<class 'pandas.core.frame.DataFrame'>\n",
      "Int64Index: 88958 entries, 0 to 90347\n",
      "Data columns (total 31 columns):\n",
      " #   Column                  Non-Null Count  Dtype  \n",
      "---  ------                  --------------  -----  \n",
      " 0   Number.of.Engines       88958 non-null  float64\n",
      " 1   Total.Fatal.Injuries    88958 non-null  float64\n",
      " 2   Total.Serious.Injuries  88958 non-null  float64\n",
      " 3   Total.Minor.Injuries    88958 non-null  float64\n",
      " 4   Total.Uninjured         88958 non-null  float64\n",
      " 5   Event.Id                88958 non-null  object \n",
      " 6   Investigation.Type      88958 non-null  object \n",
      " 7   Accident.Number         88958 non-null  object \n",
      " 8   Event.Date              88958 non-null  object \n",
      " 9   Location                88958 non-null  object \n",
      " 10  Country                 88958 non-null  object \n",
      " 11  Latitude                88958 non-null  object \n",
      " 12  Longitude               88958 non-null  object \n",
      " 13  Airport.Code            88958 non-null  object \n",
      " 14  Airport.Name            88958 non-null  object \n",
      " 15  Injury.Severity         88958 non-null  object \n",
      " 16  Aircraft.damage         88958 non-null  object \n",
      " 17  Aircraft.Category       88958 non-null  object \n",
      " 18  Registration.Number     88958 non-null  object \n",
      " 19  Make                    88958 non-null  object \n",
      " 20  Model                   88958 non-null  object \n",
      " 21  Amateur.Built           88958 non-null  object \n",
      " 22  Engine.Type             88958 non-null  object \n",
      " 23  FAR.Description         88958 non-null  object \n",
      " 24  Schedule                88958 non-null  object \n",
      " 25  Purpose.of.flight       88958 non-null  object \n",
      " 26  Air.carrier             88958 non-null  object \n",
      " 27  Weather.Condition       88958 non-null  object \n",
      " 28  Broad.phase.of.flight   88958 non-null  object \n",
      " 29  Report.Status           88958 non-null  object \n",
      " 30  Publication.Date        88958 non-null  object \n",
      "dtypes: float64(5), object(26)\n",
      "memory usage: 21.7+ MB\n"
     ]
    }
   ],
   "source": [
    "#Inspecting information about the data after cleaning\n",
    "cleaned_data.info()"
   ]
  },
  {
   "cell_type": "code",
   "execution_count": 78,
   "id": "8dbd7edd",
   "metadata": {},
   "outputs": [],
   "source": [
    "\n",
    "#Creating a new csv of a cleaned data\n",
    "cleaned_data.to_csv('cleaned_data.csv', index=False)"
   ]
  },
  {
   "cell_type": "markdown",
   "id": "1baa2c3a",
   "metadata": {},
   "source": [
    "'''\n",
    "The dataset has been thoroughly cleaned, with missing values handled. Duplicate rows have been removed, and data inside the columns cleaned. Following these data cleaning steps, the dataset now consists of 31 columns and 88,958 rows. The next step involves visualizing the cleaned data.\n",
    "'''"
   ]
  },
  {
   "cell_type": "markdown",
   "id": "d1cf1b2e",
   "metadata": {},
   "source": [
    "### **Step 4 : Data Analysis and Visualizations**"
   ]
  },
  {
   "cell_type": "code",
   "execution_count": 79,
   "id": "29471ba0",
   "metadata": {},
   "outputs": [
    {
     "data": {
      "text/html": [
       "<div>\n",
       "<style scoped>\n",
       "    .dataframe tbody tr th:only-of-type {\n",
       "        vertical-align: middle;\n",
       "    }\n",
       "\n",
       "    .dataframe tbody tr th {\n",
       "        vertical-align: top;\n",
       "    }\n",
       "\n",
       "    .dataframe thead th {\n",
       "        text-align: right;\n",
       "    }\n",
       "</style>\n",
       "<table border=\"1\" class=\"dataframe\">\n",
       "  <thead>\n",
       "    <tr style=\"text-align: right;\">\n",
       "      <th></th>\n",
       "      <th>Number.of.Engines</th>\n",
       "      <th>Total.Fatal.Injuries</th>\n",
       "      <th>Total.Serious.Injuries</th>\n",
       "      <th>Total.Minor.Injuries</th>\n",
       "      <th>Total.Uninjured</th>\n",
       "    </tr>\n",
       "  </thead>\n",
       "  <tbody>\n",
       "    <tr>\n",
       "      <th>count</th>\n",
       "      <td>88958.000000</td>\n",
       "      <td>88958.000000</td>\n",
       "      <td>88958.000000</td>\n",
       "      <td>88958.000000</td>\n",
       "      <td>88958.000000</td>\n",
       "    </tr>\n",
       "    <tr>\n",
       "      <th>mean</th>\n",
       "      <td>1.146585</td>\n",
       "      <td>0.647855</td>\n",
       "      <td>0.279881</td>\n",
       "      <td>0.357061</td>\n",
       "      <td>5.325440</td>\n",
       "    </tr>\n",
       "    <tr>\n",
       "      <th>std</th>\n",
       "      <td>0.430791</td>\n",
       "      <td>5.120083</td>\n",
       "      <td>1.430754</td>\n",
       "      <td>2.079349</td>\n",
       "      <td>26.958925</td>\n",
       "    </tr>\n",
       "    <tr>\n",
       "      <th>min</th>\n",
       "      <td>0.000000</td>\n",
       "      <td>0.000000</td>\n",
       "      <td>0.000000</td>\n",
       "      <td>0.000000</td>\n",
       "      <td>0.000000</td>\n",
       "    </tr>\n",
       "    <tr>\n",
       "      <th>25%</th>\n",
       "      <td>1.000000</td>\n",
       "      <td>0.000000</td>\n",
       "      <td>0.000000</td>\n",
       "      <td>0.000000</td>\n",
       "      <td>0.000000</td>\n",
       "    </tr>\n",
       "    <tr>\n",
       "      <th>50%</th>\n",
       "      <td>1.000000</td>\n",
       "      <td>0.000000</td>\n",
       "      <td>0.000000</td>\n",
       "      <td>0.000000</td>\n",
       "      <td>1.000000</td>\n",
       "    </tr>\n",
       "    <tr>\n",
       "      <th>75%</th>\n",
       "      <td>1.000000</td>\n",
       "      <td>0.647855</td>\n",
       "      <td>0.279881</td>\n",
       "      <td>0.357061</td>\n",
       "      <td>2.000000</td>\n",
       "    </tr>\n",
       "    <tr>\n",
       "      <th>max</th>\n",
       "      <td>8.000000</td>\n",
       "      <td>349.000000</td>\n",
       "      <td>161.000000</td>\n",
       "      <td>380.000000</td>\n",
       "      <td>699.000000</td>\n",
       "    </tr>\n",
       "  </tbody>\n",
       "</table>\n",
       "</div>"
      ],
      "text/plain": [
       "       Number.of.Engines  Total.Fatal.Injuries  Total.Serious.Injuries  \\\n",
       "count       88958.000000          88958.000000            88958.000000   \n",
       "mean            1.146585              0.647855                0.279881   \n",
       "std             0.430791              5.120083                1.430754   \n",
       "min             0.000000              0.000000                0.000000   \n",
       "25%             1.000000              0.000000                0.000000   \n",
       "50%             1.000000              0.000000                0.000000   \n",
       "75%             1.000000              0.647855                0.279881   \n",
       "max             8.000000            349.000000              161.000000   \n",
       "\n",
       "       Total.Minor.Injuries  Total.Uninjured  \n",
       "count          88958.000000     88958.000000  \n",
       "mean               0.357061         5.325440  \n",
       "std                2.079349        26.958925  \n",
       "min                0.000000         0.000000  \n",
       "25%                0.000000         0.000000  \n",
       "50%                0.000000         1.000000  \n",
       "75%                0.357061         2.000000  \n",
       "max              380.000000       699.000000  "
      ]
     },
     "execution_count": 79,
     "metadata": {},
     "output_type": "execute_result"
    }
   ],
   "source": [
    "#summary statistics for numerical columns in the cleaned dataset\n",
    "cleaned_data.describe()"
   ]
  },
  {
   "cell_type": "markdown",
   "id": "50c06698",
   "metadata": {},
   "source": [
    "##### **Key Analysis:**\n",
    "\n",
    "Fatal Injuries: Majority of the accidents habe no fatalities as seen in the 25%, 50% and 75% percentiles. However, there are extreme cases with upto 349 fatal injuries in one incident\n",
    "\n",
    "Serious and Minor Injuries: Similar to the fatal injuries, majority of the incidents have no serious and minor injuries, but there are some outliers with other 161 serious injuries and 380 minor injuries\n",
    "\n",
    "Uninjured individuals: Most accidesnts have some injured individals with a higher median value of 2 while in other cases many people were uninjured"
   ]
  },
  {
   "cell_type": "markdown",
   "id": "10d55781",
   "metadata": {},
   "source": [
    "#### **Step 4a : Top 10 Safest Aircraft Models**"
   ]
  },
  {
   "cell_type": "markdown",
   "id": "c8b64c99",
   "metadata": {},
   "source": [
    "**Defining the \"Safest\" Aircraft**\n",
    "\n",
    "For our analysis \"Safest\" will be defined through the following creterias.\n",
    "\n",
    "- Low Total Fatal Injuries per aircraft model\n",
    "- Low Total Serious Injuries per aircraft model\n",
    "- High Total Uninjured counts\n",
    "\n",
    "We will calculate a Safety Score for each aircraft model using the following logic:\n",
    "\n",
    "cleaned_data{Safety Score} = cleaned_data{Total Uninjured} - (cleaned_data{Total Fatal Injuries} + cleaned_data{Total Serious Injuries})\n",
    "\n",
    "- The higher the Safety Score, the safer the aircraft is considered.\n",
    "- This score balances survivability and injury severity across all recorded events.\n"
   ]
  },
  {
   "cell_type": "code",
   "execution_count": 80,
   "id": "ec009a92",
   "metadata": {},
   "outputs": [
    {
     "name": "stdout",
     "output_type": "stream",
     "text": [
      "                    Make     Model  Total.Fatal.Injuries  \\\n",
      "3176              Boeing       737           1353.182841   \n",
      "3465              Boeing       777              5.830696   \n",
      "3355              Boeing   747-400             91.422117   \n",
      "3410              Boeing       767            130.591421   \n",
      "11601  Mcdonnell douglas  Dc-10-10            112.943565   \n",
      "11605  Mcdonnell douglas  Dc-10-30             24.534986   \n",
      "3296              Boeing       747             13.126407   \n",
      "3378              Boeing       757             48.534986   \n",
      "3123              Boeing   727-200             58.478552   \n",
      "3241              Boeing   737-300            178.661393   \n",
      "\n",
      "       Total.Serious.Injuries  Total.Uninjured  Safety_Score  \n",
      "3176               389.959164     25462.301758  23719.159753  \n",
      "3465                28.679284      9440.301758   9405.791778  \n",
      "3355                46.078687      6281.301758   6143.800955  \n",
      "3410               111.839642      6370.325440   6127.894377  \n",
      "11601               67.839642      6248.000000   6067.216793  \n",
      "11605               27.119522      5156.325440   5104.670931  \n",
      "3296                77.798806      5063.952637   4973.027425  \n",
      "3378                14.239045      4988.650879   4925.876848  \n",
      "3123                15.239045      4369.325440   4295.607843  \n",
      "3241                43.478090      4071.627198   3849.487716  \n"
     ]
    }
   ],
   "source": [
    "# Grouping by Make and Model\n",
    "grouped = cleaned_data.groupby(['Make', 'Model']).agg({\n",
    "    'Total.Fatal.Injuries': 'sum',\n",
    "    'Total.Serious.Injuries': 'sum',\n",
    "    'Total.Uninjured': 'sum'\n",
    "}).reset_index()\n",
    "\n",
    "# Creating a Safety Score\n",
    "grouped['Safety_Score'] = grouped['Total.Uninjured'] - (grouped['Total.Fatal.Injuries'] + grouped['Total.Serious.Injuries'])\n",
    "\n",
    "# Sorting by Safety Score descending (highest = safest)\n",
    "top_10_safest = grouped.sort_values('Safety_Score', ascending=False).head(10)\n",
    "\n",
    "#Saving to CSV for Tableau\n",
    "top_10_safest.to_csv('top_10_safest_aircraft.csv', index=False)\n",
    "\n",
    "print(top_10_safest)\n"
   ]
  },
  {
   "cell_type": "code",
   "execution_count": 81,
   "id": "d2ecd719",
   "metadata": {},
   "outputs": [
    {
     "data": {
      "image/png": "[encoded data removed]",
      "text/plain": [
       "<Figure size 720x432 with 1 Axes>"
      ]
     },
     "metadata": {},
     "output_type": "display_data"
    }
   ],
   "source": [
    "# Creating a visualization of the top 10 safest aircraft\n",
    "# Loading the top_10_safest dataset\n",
    "top_10_safest = pd.read_csv('top_10_safest_aircraft.csv')\n",
    "\n",
    "# Combining Make and Model columns into a new Make_Model column\n",
    "top_10_safest['Make_Model'] = top_10_safest['Make'] + ' ' + top_10_safest['Model']\n",
    "\n",
    "# Setting the seaborn style for better visuals\n",
    "sns.set(style=\"whitegrid\")\n",
    "\n",
    "# Creating the Horizontal Bar Chart\n",
    "plt.figure(figsize=(10, 6))\n",
    "sns.barplot(data=top_10_safest, y='Make_Model', x='Safety_Score', palette='Blues_d')\n",
    "\n",
    "# Adding labels and title\n",
    "plt.title('Top 10 Safest Aircraft Models', fontsize=16)\n",
    "plt.xlabel('Safety Score', fontsize=12)\n",
    "plt.ylabel('Aircraft Make + Model', fontsize=12)\n",
    "\n",
    "# Showing the plot\n",
    "plt.tight_layout()\n",
    "plt.show()"
   ]
  },
  {
   "cell_type": "markdown",
   "id": "ef30a28d",
   "metadata": {},
   "source": [
    "**Key Insights**\n",
    "\n",
    "  Out of the top 10 safest aircraft models, 8 are manufactured by Boeing. This demonstrates Boeing's significant reputation for safety in the commercial aviation industry.\n",
    "\n",
    "  The Boeing 737 stands out dramatically with a Safety Score of 23,719, far higher than any other aircraft. Despite having a relatively high number of total fatal injuries (~1353), its massive number of uninjured passengers (~25,462) boosts its overall safety profile.\n",
    "\n",
    "  Two models from McDonnell Douglas DC-10-10 and DC-10-30 also appear in the top 10, with decent safety scores (~6067 and ~5105). This indicates their historical reliability.\n",
    "\n",
    "  In general, newer aircraft (e.g., Boeing 777) and larger planes (e.g., Boeing 747-400) tend to perform better in safety evaluations, likely due to advances in technology, materials, and engineering design.\n"
   ]
  },
  {
   "cell_type": "markdown",
   "id": "3f088d92",
   "metadata": {},
   "source": [
    "#### **Step 4b : Relationship between Fatalities and Uninjured Passengers per Event**"
   ]
  },
  {
   "cell_type": "markdown",
   "id": "33bcb7e0",
   "metadata": {},
   "source": [
    "In this section, we are focusing on extracting the number of fatalities and uninjured passengers for the Top 10 Safest Aircraft Models based on the safety score we computed earlier. This will help us visualize the relationship between fatalities and uninjured passengers per event."
   ]
  },
  {
   "cell_type": "code",
   "execution_count": 82,
   "id": "790d7dde",
   "metadata": {},
   "outputs": [],
   "source": [
    "# Mergeing the top_10_safest dataframe with the original data to get Fatalities and Uninjured for plotting\n",
    "filtered_data = cleaned_data[cleaned_data['Model'].isin(top_10_safest['Model'])]\n",
    "\n",
    "# Groupin the data by Make and Model to get Fatalities and Uninjured counts\n",
    "grouped_filtered = filtered_data.groupby(['Make', 'Model']).agg({\n",
    "    'Total.Fatal.Injuries': 'sum',\n",
    "    'Total.Serious.Injuries': 'sum',\n",
    "    'Total.Uninjured': 'sum'\n",
    "}).reset_index()\n",
    "\n",
    "# Calculating Fatalities per Event (Fatalities + Serious Injuries)\n",
    "grouped_filtered['Fatalities_Per_Event'] = grouped_filtered['Total.Fatal.Injuries'] + grouped_filtered['Total.Serious.Injuries']\n",
    "\n",
    "\n",
    "#Creating a new csv of the grouped data for Tableau\n",
    "grouped_filtered.to_csv('grouped_filtered.csv', index=False)\n"
   ]
  },
  {
   "cell_type": "code",
   "execution_count": 83,
   "id": "78762c59",
   "metadata": {},
   "outputs": [
    {
     "data": {
      "image/png": "[encoded data removed]",
      "text/plain": [
       "<Figure size 1008x576 with 1 Axes>"
      ]
     },
     "metadata": {},
     "output_type": "display_data"
    }
   ],
   "source": [
    "\n",
    "# Creating a Scatterplot with a better palette for categories\n",
    "plt.figure(figsize=(14, 8))\n",
    "\n",
    "sns.scatterplot(\n",
    "    data=grouped_filtered,\n",
    "    x='Fatalities_Per_Event',\n",
    "    y='Total.Uninjured',\n",
    "    hue='Model',  # The model will be represented by the color palette\n",
    "    style='Make',\n",
    "    palette='tab10',  # Tab10 is better for categorical colors\n",
    "    s=150\n",
    ")\n",
    "\n",
    "# Title and labels\n",
    "plt.title('Fatalities vs Uninjured Passengers per Event for The\\nTop 10 Safest Aircraft Models', fontsize=16, weight='bold')\n",
    "plt.xlabel('Fatalities per Event', fontsize=14)\n",
    "plt.ylabel('Uninjured Passengers per Event', fontsize=14)\n",
    "\n",
    "\n",
    "# Setting a tighter x and y limit \n",
    "plt.xlim(0, grouped_filtered['Fatalities_Per_Event'].max() * 1.1)\n",
    "plt.ylim(0, grouped_filtered['Total.Uninjured'].max() * 1.1)\n",
    "\n",
    "# Legend positioning\n",
    "plt.legend(bbox_to_anchor=(1.05, 1), loc='upper left', title='Model')\n",
    "\n",
    "# Grid and layout adjustments\n",
    "plt.grid(True, linestyle='--', alpha=0.7)\n",
    "plt.tight_layout()\n",
    "\n",
    "# Show the plot\n",
    "plt.show()\n"
   ]
  },
  {
   "cell_type": "markdown",
   "id": "354bb5df",
   "metadata": {},
   "source": [
    "**Key Insights**\n",
    "\n",
    "Boeing 737 is an outlier with very high fatalities and uninjured counts due to high traffic volume.\n",
    "\n",
    "Boeing 777 shows excellent safety, with very low fatalities and a high number of uninjured passengers.\n",
    "\n",
    "Other Boeing models (747-400, 767, 757) cluster together, indicating consistent and strong safety performance.\n",
    "\n",
    "McDonnell Douglas models have moderate safety, showing slightly higher fatalities and fewer uninjured passengers.\n",
    "\n",
    "Overall, newer aircraft models demonstrate better survival outcomes per event.\n"
   ]
  },
  {
   "cell_type": "markdown",
   "id": "a29cc160",
   "metadata": {},
   "source": [
    "#### **Step 4c : Aircraft Damage Comparison by Make/Model for Top 10 Safest Aircraft**"
   ]
  },
  {
   "cell_type": "markdown",
   "id": "ab9cc4ba",
   "metadata": {},
   "source": [
    "\n",
    "This code analyzes aircraft damage for the top 10 safest aircraft models by grouping, pivoting, and preparing the data for visualization in Tableau This process allows us to clearly compare different damage types across aircraft models and prepare the data for effective visualization and insight generation.\n"
   ]
  },
  {
   "cell_type": "code",
   "execution_count": 84,
   "id": "5ee5af19",
   "metadata": {},
   "outputs": [
    {
     "name": "stdout",
     "output_type": "stream",
     "text": [
      "Aircraft.damage               Make     Model  Destroyed  Minor  Substantial\n",
      "0                           Boeing   727-200          1     17           25\n",
      "1                           Boeing       737         15    124          350\n",
      "2                           Boeing   737-300          5     13           33\n",
      "3                           Boeing       747          2     38           45\n",
      "4                           Boeing   747-400          1      9           19\n",
      "5                           Boeing       757          2     14           43\n",
      "6                           Boeing       767          3     17           48\n",
      "7                           Boeing       777          1     32           62\n",
      "8                           Boeing  Dc-10-30          0      0            2\n",
      "9                          Douglas  Dc-10-10          0      3            0\n",
      "10                         Douglas  Dc-10-30          0      1            3\n",
      "11               Mcdonnell douglas  Dc-10-10          1     16           19\n",
      "12               Mcdonnell douglas  Dc-10-30          2      9           13\n",
      "13               Mcdonnell-douglas  Dc-10-10          0      1            0\n",
      "14               Mcdonnell-douglas  Dc-10-30          0      1            1\n"
     ]
    }
   ],
   "source": [
    "# Filtering the data to focus on the top 10 safest aircraft models\n",
    "filtered_damage_data = cleaned_data[cleaned_data['Model'].isin(top_10_safest['Model'])]\n",
    "\n",
    "# Grouping by Make, Model, and Aircraft Damage and count occurrences\n",
    "damage_grouped = filtered_damage_data.groupby(['Make', 'Model', 'Aircraft.damage']).size().reset_index(name='Count')\n",
    "\n",
    "# Pivoting the table so each type of damage becomes a separate column\n",
    "damage_pivot = damage_grouped.pivot_table(\n",
    "    index=['Make', 'Model'],\n",
    "    columns='Aircraft.damage',\n",
    "    values='Count',\n",
    "    fill_value=0\n",
    ").reset_index()\n",
    "\n",
    "#Checking the pivoted data\n",
    "print(damage_pivot)\n",
    "\n",
    "# Combining Make and Model into one column for cleaner plotting\n",
    "damage_pivot['Make_Model'] = damage_pivot['Make'] + \" \" + damage_pivot['Model']\n",
    "\n",
    "# Transferring the dataframe to CSV for Tableau\n",
    "damage_pivot.to_csv('aircraft_damage_comparison.csv', index=False)\n"
   ]
  },
  {
   "cell_type": "code",
   "execution_count": 85,
   "id": "e66edc99",
   "metadata": {},
   "outputs": [
    {
     "data": {
      "image/png": "[encoded data removed]",
      "text/plain": [
       "<Figure size 1008x576 with 1 Axes>"
      ]
     },
     "metadata": {},
     "output_type": "display_data"
    }
   ],
   "source": [
    "# Plotting a Bar Chart\n",
    "\n",
    "#Setting a color map for different damage types\n",
    "colors = plt.cm.Set2.colors  \n",
    "\n",
    "# Plotting the chart\n",
    "damage_pivot.set_index('Make_Model').plot(\n",
    "    kind='bar',\n",
    "    stacked=True,\n",
    "    figsize=(14, 8),\n",
    "    color=colors\n",
    ")\n",
    "\n",
    "plt.title('Aircraft Damage Comparison by Make/Model (Top 10 Safest Aircraft)', fontsize=16, weight='bold')\n",
    "plt.xlabel('Aircraft Make and Model', fontsize=14)\n",
    "plt.ylabel('Number of Events', fontsize=14)\n",
    "plt.legend(title='Damage Type', bbox_to_anchor=(1.05, 1), loc='upper left')\n",
    "plt.xticks(rotation=45, ha='right')\n",
    "plt.grid(axis='y', linestyle='--', alpha=0.7)\n",
    "plt.tight_layout()\n",
    "plt.show()\n"
   ]
  },
  {
   "cell_type": "markdown",
   "id": "af5f68f0",
   "metadata": {},
   "source": [
    "**Key Insights**\n",
    "\n",
    "Boeing Models tend to have higher counts of Minor and Substantial damage compared to Douglas and Mcdonnell Douglas models. This could suggest more frequent incidents or that these models are more prone to certain damage types.\n",
    "\n",
    "The Dc-10-30 variants from both Douglas and Mcdonnell Douglas have fewer Destroyed or Minor damage incidents, which might indicate better performance in terms of accident severity or simply fewer incidents.\n",
    "\n",
    "Boeing 737 and Boeing 747 seem to be involved in incidents resulting in substantial damage, pointing to either higher usage or specific design factors contributing to increased damage.\n",
    "\n",
    "The Boeing 737 appears to have higher numbers of Substantial and Minor damages, suggesting a need for deeper investigation into operational practices, maintenance, or design features.\n",
    "\n"
   ]
  },
  {
   "cell_type": "markdown",
   "id": "a436b9ac",
   "metadata": {},
   "source": [
    "### **Recommendations**"
   ]
  },
  {
   "cell_type": "markdown",
   "id": "da48ba59",
   "metadata": {},
   "source": [
    "\n",
    "The primary recommendation is to prioritize the acquisition of the Boeing 777. This model consistently demonstrates outstanding safety across all measured dimensions, including very low fatality rates, a high number of uninjured passengers per event, and a strong overall safety score. The Boeing 777 has proven reliability in both survivability and structural integrity, making it the safest and most future-proof choice for fleet expansion.\n",
    "\n",
    "As a secondary option, the Boeing 747-400 and Boeing 767 should also be considered. Both models have established strong safety records, exhibiting good durability with relatively few incidents involving major damage or fatalities. Their track records suggest they would add resilience and flexibility to the fleet. For newer Boeing 737 models, investment should be approached more cautiously. While these aircraft generally show good safety statistics, the sheer size of the global 737 fleet means there is inherently higher exposure to incidents, which could impact the perception of risk even if the aircraft themselves are safe.\n",
    " \n",
    "Finally, it is recommended to avoid significant investment in McDonnell Douglas DC-10 variants. Although some DC-10 models appear in the safety rankings, they are older designs with a relatively higher rate of fatalities per event, which increases operational risk and potential maintenance burdens over time. Choosing to focus investments on the Boeing 777, with supplemental acquisitions of the Boeing 747-400 and 767, offers the best balance of safety, reliability, and operational sustainability.\n",
    "\n",
    "\n"
   ]
  }
 ],
 "metadata": {
  "kernelspec": {
   "display_name": "learn-env",
   "language": "python",
   "name": "python3"
  },
  "language_info": {
   "codemirror_mode": {
    "name": "ipython",
    "version": 3
   },
   "file_extension": ".py",
   "mimetype": "text/x-python",
   "name": "python",
   "nbconvert_exporter": "python",
   "pygments_lexer": "ipython3",
   "version": "3.8.5"
  }
 },
 "nbformat": 4,
 "nbformat_minor": 5
}
