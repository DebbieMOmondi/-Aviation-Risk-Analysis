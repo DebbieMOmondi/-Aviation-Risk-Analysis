{
 "cells": [
  {
   "cell_type": "markdown",
   "id": "d21c1c71",
   "metadata": {},
   "source": [
    "# Aircraft Risk Analysis Project - Phase 1"
   ]
  },
  {
   "cell_type": "markdown",
   "id": "159b0c9e",
   "metadata": {},
   "source": [
    "## Introduction\n",
    "\n",
    "\n",
    "In today's fast-evolving business landscape, diversification is key to staying competitive. This project explores a scenario where a company is looking to expand into the aviation industry—an exciting but high-risk move. While the aviation sector holds strong potential for both commercial and private enterprise, safety remains a top concern, especially for new entrants with limited industry experience.\n",
    "\n",
    "The goal of this project is to use data science techniques to help the company make informed, data-driven decisions as it considers which aircraft to invest in. By examining historical accident data, we can uncover patterns, evaluate safety records, and highlight aircraft models that pose the least operational risk.\n",
    "\n",
    "This project serves as both a business case and a demonstration of key data science skills: data cleaning, missing value imputation, exploratory data analysis, and visualization. The final output will include actionable insights and an interactive dashboard designed to support decision-making by the company’s new aviation division."
   ]
  },
  {
   "cell_type": "markdown",
   "id": "b0edc3ab",
   "metadata": {},
   "source": [
    "## Objectives\n",
    "\n",
    "- Understand trends in aircraft accidents over time  \n",
    "- Identify aircraft with the lowest risk profiles  \n",
    "- Handle missing data and perform necessary cleaning  \n",
    "- Present insights using clear visualizations  \n",
    "- Build an interactive dashboard for stakeholders"
   ]
  },
  {
   "cell_type": "markdown",
   "id": "5f761439",
   "metadata": {},
   "source": [
    "## Data Source\n",
    "\n",
    "The dataset comes from the National Transportation Safety Board (NTSB) and includes records of civil aviation accidents and selected incidents in the United States and international waters from 1962 to 2023."
   ]
  },
  {
   "cell_type": "markdown",
   "id": "c5848f7c",
   "metadata": {},
   "source": [
    "## Tools & Libraries\n",
    "\n",
    "- Python (Pandas, NumPy, Matplotlib, Seaborn)\n",
    "- Jupyter Notebook\n",
    "- Data cleaning and wrangling\n",
    "- Exploratory data analysis (EDA)"
   ]
  },
  {
   "cell_type": "markdown",
   "id": "fbe233e6",
   "metadata": {},
   "source": [
    "### Step 1 : Import Libraries"
   ]
  },
  {
   "cell_type": "code",
   "execution_count": 2,
   "id": "70f8f900",
   "metadata": {},
   "outputs": [],
   "source": [
    "#Importing libraries using standard alias\n",
    "import pandas as pd\n",
    "import numpy as np\n",
    "import matplotlib.pyplot as plt\n",
    "import seaborn as sns\n",
    "import calendar\n",
    "\n",
    "%matplotlib inline"
   ]
  },
  {
   "cell_type": "markdown",
   "id": "65d11f81",
   "metadata": {},
   "source": [
    "### Step 2 : Load and Inspect Data"
   ]
  },
  {
   "cell_type": "code",
   "execution_count": 3,
   "id": "5f63c53b",
   "metadata": {},
   "outputs": [
    {
     "data": {
      "text/html": [
       "<div>\n",
       "<style scoped>\n",
       "    .dataframe tbody tr th:only-of-type {\n",
       "        vertical-align: middle;\n",
       "    }\n",
       "\n",
       "    .dataframe tbody tr th {\n",
       "        vertical-align: top;\n",
       "    }\n",
       "\n",
       "    .dataframe thead th {\n",
       "        text-align: right;\n",
       "    }\n",
       "</style>\n",
       "<table border=\"1\" class=\"dataframe\">\n",
       "  <thead>\n",
       "    <tr style=\"text-align: right;\">\n",
       "      <th></th>\n",
       "      <th>Event.Id</th>\n",
       "      <th>Investigation.Type</th>\n",
       "      <th>Accident.Number</th>\n",
       "      <th>Event.Date</th>\n",
       "      <th>Location</th>\n",
       "      <th>Country</th>\n",
       "      <th>Latitude</th>\n",
       "      <th>Longitude</th>\n",
       "      <th>Airport.Code</th>\n",
       "      <th>Airport.Name</th>\n",
       "      <th>...</th>\n",
       "      <th>Purpose.of.flight</th>\n",
       "      <th>Air.carrier</th>\n",
       "      <th>Total.Fatal.Injuries</th>\n",
       "      <th>Total.Serious.Injuries</th>\n",
       "      <th>Total.Minor.Injuries</th>\n",
       "      <th>Total.Uninjured</th>\n",
       "      <th>Weather.Condition</th>\n",
       "      <th>Broad.phase.of.flight</th>\n",
       "      <th>Report.Status</th>\n",
       "      <th>Publication.Date</th>\n",
       "    </tr>\n",
       "  </thead>\n",
       "  <tbody>\n",
       "    <tr>\n",
       "      <th>0</th>\n",
       "      <td>20001218X45444</td>\n",
       "      <td>Accident</td>\n",
       "      <td>SEA87LA080</td>\n",
       "      <td>1948-10-24</td>\n",
       "      <td>MOOSE CREEK, ID</td>\n",
       "      <td>United States</td>\n",
       "      <td>NaN</td>\n",
       "      <td>NaN</td>\n",
       "      <td>NaN</td>\n",
       "      <td>NaN</td>\n",
       "      <td>...</td>\n",
       "      <td>Personal</td>\n",
       "      <td>NaN</td>\n",
       "      <td>2.0</td>\n",
       "      <td>0.0</td>\n",
       "      <td>0.0</td>\n",
       "      <td>0.0</td>\n",
       "      <td>UNK</td>\n",
       "      <td>Cruise</td>\n",
       "      <td>Probable Cause</td>\n",
       "      <td>NaN</td>\n",
       "    </tr>\n",
       "    <tr>\n",
       "      <th>1</th>\n",
       "      <td>20001218X45447</td>\n",
       "      <td>Accident</td>\n",
       "      <td>LAX94LA336</td>\n",
       "      <td>1962-07-19</td>\n",
       "      <td>BRIDGEPORT, CA</td>\n",
       "      <td>United States</td>\n",
       "      <td>NaN</td>\n",
       "      <td>NaN</td>\n",
       "      <td>NaN</td>\n",
       "      <td>NaN</td>\n",
       "      <td>...</td>\n",
       "      <td>Personal</td>\n",
       "      <td>NaN</td>\n",
       "      <td>4.0</td>\n",
       "      <td>0.0</td>\n",
       "      <td>0.0</td>\n",
       "      <td>0.0</td>\n",
       "      <td>UNK</td>\n",
       "      <td>NaN</td>\n",
       "      <td>Probable Cause</td>\n",
       "      <td>19-09-1996</td>\n",
       "    </tr>\n",
       "    <tr>\n",
       "      <th>2</th>\n",
       "      <td>20061025X01555</td>\n",
       "      <td>Accident</td>\n",
       "      <td>NYC07LA005</td>\n",
       "      <td>1974-08-30</td>\n",
       "      <td>Saltville, VA</td>\n",
       "      <td>United States</td>\n",
       "      <td>36.922223</td>\n",
       "      <td>-81.878056</td>\n",
       "      <td>NaN</td>\n",
       "      <td>NaN</td>\n",
       "      <td>...</td>\n",
       "      <td>Personal</td>\n",
       "      <td>NaN</td>\n",
       "      <td>3.0</td>\n",
       "      <td>NaN</td>\n",
       "      <td>NaN</td>\n",
       "      <td>NaN</td>\n",
       "      <td>IMC</td>\n",
       "      <td>Cruise</td>\n",
       "      <td>Probable Cause</td>\n",
       "      <td>26-02-2007</td>\n",
       "    </tr>\n",
       "    <tr>\n",
       "      <th>3</th>\n",
       "      <td>20001218X45448</td>\n",
       "      <td>Accident</td>\n",
       "      <td>LAX96LA321</td>\n",
       "      <td>1977-06-19</td>\n",
       "      <td>EUREKA, CA</td>\n",
       "      <td>United States</td>\n",
       "      <td>NaN</td>\n",
       "      <td>NaN</td>\n",
       "      <td>NaN</td>\n",
       "      <td>NaN</td>\n",
       "      <td>...</td>\n",
       "      <td>Personal</td>\n",
       "      <td>NaN</td>\n",
       "      <td>2.0</td>\n",
       "      <td>0.0</td>\n",
       "      <td>0.0</td>\n",
       "      <td>0.0</td>\n",
       "      <td>IMC</td>\n",
       "      <td>Cruise</td>\n",
       "      <td>Probable Cause</td>\n",
       "      <td>12-09-2000</td>\n",
       "    </tr>\n",
       "    <tr>\n",
       "      <th>4</th>\n",
       "      <td>20041105X01764</td>\n",
       "      <td>Accident</td>\n",
       "      <td>CHI79FA064</td>\n",
       "      <td>1979-08-02</td>\n",
       "      <td>Canton, OH</td>\n",
       "      <td>United States</td>\n",
       "      <td>NaN</td>\n",
       "      <td>NaN</td>\n",
       "      <td>NaN</td>\n",
       "      <td>NaN</td>\n",
       "      <td>...</td>\n",
       "      <td>Personal</td>\n",
       "      <td>NaN</td>\n",
       "      <td>1.0</td>\n",
       "      <td>2.0</td>\n",
       "      <td>NaN</td>\n",
       "      <td>0.0</td>\n",
       "      <td>VMC</td>\n",
       "      <td>Approach</td>\n",
       "      <td>Probable Cause</td>\n",
       "      <td>16-04-1980</td>\n",
       "    </tr>\n",
       "  </tbody>\n",
       "</table>\n",
       "<p>5 rows × 31 columns</p>\n",
       "</div>"
      ],
      "text/plain": [
       "         Event.Id Investigation.Type Accident.Number  Event.Date  \\\n",
       "0  20001218X45444           Accident      SEA87LA080  1948-10-24   \n",
       "1  20001218X45447           Accident      LAX94LA336  1962-07-19   \n",
       "2  20061025X01555           Accident      NYC07LA005  1974-08-30   \n",
       "3  20001218X45448           Accident      LAX96LA321  1977-06-19   \n",
       "4  20041105X01764           Accident      CHI79FA064  1979-08-02   \n",
       "\n",
       "          Location        Country   Latitude   Longitude Airport.Code  \\\n",
       "0  MOOSE CREEK, ID  United States        NaN         NaN          NaN   \n",
       "1   BRIDGEPORT, CA  United States        NaN         NaN          NaN   \n",
       "2    Saltville, VA  United States  36.922223  -81.878056          NaN   \n",
       "3       EUREKA, CA  United States        NaN         NaN          NaN   \n",
       "4       Canton, OH  United States        NaN         NaN          NaN   \n",
       "\n",
       "  Airport.Name  ... Purpose.of.flight Air.carrier Total.Fatal.Injuries  \\\n",
       "0          NaN  ...          Personal         NaN                  2.0   \n",
       "1          NaN  ...          Personal         NaN                  4.0   \n",
       "2          NaN  ...          Personal         NaN                  3.0   \n",
       "3          NaN  ...          Personal         NaN                  2.0   \n",
       "4          NaN  ...          Personal         NaN                  1.0   \n",
       "\n",
       "  Total.Serious.Injuries Total.Minor.Injuries Total.Uninjured  \\\n",
       "0                    0.0                  0.0             0.0   \n",
       "1                    0.0                  0.0             0.0   \n",
       "2                    NaN                  NaN             NaN   \n",
       "3                    0.0                  0.0             0.0   \n",
       "4                    2.0                  NaN             0.0   \n",
       "\n",
       "  Weather.Condition  Broad.phase.of.flight   Report.Status Publication.Date  \n",
       "0               UNK                 Cruise  Probable Cause              NaN  \n",
       "1               UNK                    NaN  Probable Cause       19-09-1996  \n",
       "2               IMC                 Cruise  Probable Cause       26-02-2007  \n",
       "3               IMC                 Cruise  Probable Cause       12-09-2000  \n",
       "4               VMC               Approach  Probable Cause       16-04-1980  \n",
       "\n",
       "[5 rows x 31 columns]"
      ]
     },
     "execution_count": 3,
     "metadata": {},
     "output_type": "execute_result"
    }
   ],
   "source": [
    "#Loading the csv file into the notebook\n",
    "#Adding low_memory=False to allow pandas to read the full file before deciding datatypes\n",
    "#Telling pandas to treat ? , Unknown , N/A and blank spaces as missing values\n",
    "data= pd.read_csv('data/Aviation_Data.csv', low_memory=False, na_values=['?', 'Unknown', 'N/A', ''])\n",
    "\n",
    "#Inspect the first 5 rows of the dataset\n",
    "data.head()"
   ]
  },
  {
   "cell_type": "code",
   "execution_count": 4,
   "id": "7941bbe9",
   "metadata": {},
   "outputs": [
    {
     "name": "stdout",
     "output_type": "stream",
     "text": [
      "The dataset contains 90348 rows and 31 columns.\n"
     ]
    }
   ],
   "source": [
    "# Checking the number of rows and columns in the dataset\n",
    "data.shape\n",
    "\n",
    "# Displaying the dataset's dimensions (rows, columns)\n",
    "print(f\"The dataset contains {data.shape[0]} rows and {data.shape[1]} columns.\")"
   ]
  },
  {
   "cell_type": "code",
   "execution_count": 5,
   "id": "9dce34f6",
   "metadata": {},
   "outputs": [
    {
     "name": "stdout",
     "output_type": "stream",
     "text": [
      "<class 'pandas.core.frame.DataFrame'>\n",
      "RangeIndex: 90348 entries, 0 to 90347\n",
      "Data columns (total 31 columns):\n",
      " #   Column                  Non-Null Count  Dtype  \n",
      "---  ------                  --------------  -----  \n",
      " 0   Event.Id                88889 non-null  object \n",
      " 1   Investigation.Type      90348 non-null  object \n",
      " 2   Accident.Number         88889 non-null  object \n",
      " 3   Event.Date              88889 non-null  object \n",
      " 4   Location                88836 non-null  object \n",
      " 5   Country                 88660 non-null  object \n",
      " 6   Latitude                34382 non-null  object \n",
      " 7   Longitude               34373 non-null  object \n",
      " 8   Airport.Code            50249 non-null  object \n",
      " 9   Airport.Name            52783 non-null  object \n",
      " 10  Injury.Severity         87889 non-null  object \n",
      " 11  Aircraft.damage         85576 non-null  object \n",
      " 12  Aircraft.Category       32273 non-null  object \n",
      " 13  Registration.Number     87569 non-null  object \n",
      " 14  Make                    88805 non-null  object \n",
      " 15  Model                   88796 non-null  object \n",
      " 16  Amateur.Built           88787 non-null  object \n",
      " 17  Number.of.Engines       82805 non-null  float64\n",
      " 18  Engine.Type             79761 non-null  object \n",
      " 19  FAR.Description         32001 non-null  object \n",
      " 20  Schedule                12582 non-null  object \n",
      " 21  Purpose.of.flight       75895 non-null  object \n",
      " 22  Air.carrier             16634 non-null  object \n",
      " 23  Total.Fatal.Injuries    77488 non-null  float64\n",
      " 24  Total.Serious.Injuries  76379 non-null  float64\n",
      " 25  Total.Minor.Injuries    76956 non-null  float64\n",
      " 26  Total.Uninjured         82977 non-null  float64\n",
      " 27  Weather.Condition       84397 non-null  object \n",
      " 28  Broad.phase.of.flight   61176 non-null  object \n",
      " 29  Report.Status           82508 non-null  object \n",
      " 30  Publication.Date        73659 non-null  object \n",
      "dtypes: float64(5), object(26)\n",
      "memory usage: 21.4+ MB\n"
     ]
    }
   ],
   "source": [
    "# Getting a summary of the dataset\n",
    "data.info()"
   ]
  },
  {
   "cell_type": "code",
   "execution_count": 6,
   "id": "2f1d1a83",
   "metadata": {},
   "outputs": [
    {
     "data": {
      "text/plain": [
       "Index(['Event.Id', 'Investigation.Type', 'Accident.Number', 'Event.Date',\n",
       "       'Location', 'Country', 'Latitude', 'Longitude', 'Airport.Code',\n",
       "       'Airport.Name', 'Injury.Severity', 'Aircraft.damage',\n",
       "       'Aircraft.Category', 'Registration.Number', 'Make', 'Model',\n",
       "       'Amateur.Built', 'Number.of.Engines', 'Engine.Type', 'FAR.Description',\n",
       "       'Schedule', 'Purpose.of.flight', 'Air.carrier', 'Total.Fatal.Injuries',\n",
       "       'Total.Serious.Injuries', 'Total.Minor.Injuries', 'Total.Uninjured',\n",
       "       'Weather.Condition', 'Broad.phase.of.flight', 'Report.Status',\n",
       "       'Publication.Date'],\n",
       "      dtype='object')"
      ]
     },
     "execution_count": 6,
     "metadata": {},
     "output_type": "execute_result"
    }
   ],
   "source": [
    "#Looking at all columns present\n",
    "data.columns"
   ]
  },
  {
   "cell_type": "code",
   "execution_count": 7,
   "id": "bf5b5cf7",
   "metadata": {},
   "outputs": [
    {
     "data": {
      "text/html": [
       "<div>\n",
       "<style scoped>\n",
       "    .dataframe tbody tr th:only-of-type {\n",
       "        vertical-align: middle;\n",
       "    }\n",
       "\n",
       "    .dataframe tbody tr th {\n",
       "        vertical-align: top;\n",
       "    }\n",
       "\n",
       "    .dataframe thead th {\n",
       "        text-align: right;\n",
       "    }\n",
       "</style>\n",
       "<table border=\"1\" class=\"dataframe\">\n",
       "  <thead>\n",
       "    <tr style=\"text-align: right;\">\n",
       "      <th></th>\n",
       "      <th>Number.of.Engines</th>\n",
       "      <th>Total.Fatal.Injuries</th>\n",
       "      <th>Total.Serious.Injuries</th>\n",
       "      <th>Total.Minor.Injuries</th>\n",
       "      <th>Total.Uninjured</th>\n",
       "    </tr>\n",
       "  </thead>\n",
       "  <tbody>\n",
       "    <tr>\n",
       "      <th>count</th>\n",
       "      <td>82805.000000</td>\n",
       "      <td>77488.000000</td>\n",
       "      <td>76379.000000</td>\n",
       "      <td>76956.000000</td>\n",
       "      <td>82977.000000</td>\n",
       "    </tr>\n",
       "    <tr>\n",
       "      <th>mean</th>\n",
       "      <td>1.146585</td>\n",
       "      <td>0.647855</td>\n",
       "      <td>0.279881</td>\n",
       "      <td>0.357061</td>\n",
       "      <td>5.325440</td>\n",
       "    </tr>\n",
       "    <tr>\n",
       "      <th>std</th>\n",
       "      <td>0.446510</td>\n",
       "      <td>5.485960</td>\n",
       "      <td>1.544084</td>\n",
       "      <td>2.235625</td>\n",
       "      <td>27.913634</td>\n",
       "    </tr>\n",
       "    <tr>\n",
       "      <th>min</th>\n",
       "      <td>0.000000</td>\n",
       "      <td>0.000000</td>\n",
       "      <td>0.000000</td>\n",
       "      <td>0.000000</td>\n",
       "      <td>0.000000</td>\n",
       "    </tr>\n",
       "    <tr>\n",
       "      <th>25%</th>\n",
       "      <td>1.000000</td>\n",
       "      <td>0.000000</td>\n",
       "      <td>0.000000</td>\n",
       "      <td>0.000000</td>\n",
       "      <td>0.000000</td>\n",
       "    </tr>\n",
       "    <tr>\n",
       "      <th>50%</th>\n",
       "      <td>1.000000</td>\n",
       "      <td>0.000000</td>\n",
       "      <td>0.000000</td>\n",
       "      <td>0.000000</td>\n",
       "      <td>1.000000</td>\n",
       "    </tr>\n",
       "    <tr>\n",
       "      <th>75%</th>\n",
       "      <td>1.000000</td>\n",
       "      <td>0.000000</td>\n",
       "      <td>0.000000</td>\n",
       "      <td>0.000000</td>\n",
       "      <td>2.000000</td>\n",
       "    </tr>\n",
       "    <tr>\n",
       "      <th>max</th>\n",
       "      <td>8.000000</td>\n",
       "      <td>349.000000</td>\n",
       "      <td>161.000000</td>\n",
       "      <td>380.000000</td>\n",
       "      <td>699.000000</td>\n",
       "    </tr>\n",
       "  </tbody>\n",
       "</table>\n",
       "</div>"
      ],
      "text/plain": [
       "       Number.of.Engines  Total.Fatal.Injuries  Total.Serious.Injuries  \\\n",
       "count       82805.000000          77488.000000            76379.000000   \n",
       "mean            1.146585              0.647855                0.279881   \n",
       "std             0.446510              5.485960                1.544084   \n",
       "min             0.000000              0.000000                0.000000   \n",
       "25%             1.000000              0.000000                0.000000   \n",
       "50%             1.000000              0.000000                0.000000   \n",
       "75%             1.000000              0.000000                0.000000   \n",
       "max             8.000000            349.000000              161.000000   \n",
       "\n",
       "       Total.Minor.Injuries  Total.Uninjured  \n",
       "count          76956.000000     82977.000000  \n",
       "mean               0.357061         5.325440  \n",
       "std                2.235625        27.913634  \n",
       "min                0.000000         0.000000  \n",
       "25%                0.000000         0.000000  \n",
       "50%                0.000000         1.000000  \n",
       "75%                0.000000         2.000000  \n",
       "max              380.000000       699.000000  "
      ]
     },
     "execution_count": 7,
     "metadata": {},
     "output_type": "execute_result"
    }
   ],
   "source": [
    "#Getting a summary statistics for numerical columns in the dataset\n",
    "data.describe()"
   ]
  },
  {
   "cell_type": "markdown",
   "id": "0f7e21ef",
   "metadata": {},
   "source": [
    "### Step 3 : Data Cleaning"
   ]
  },
  {
   "cell_type": "code",
   "execution_count": 8,
   "id": "2ab65ddf",
   "metadata": {},
   "outputs": [],
   "source": [
    "# Creating a copy of the cleaned DataFrame to avoid modifying the original\n",
    "cleaned_data = data.copy()"
   ]
  },
  {
   "cell_type": "code",
   "execution_count": 9,
   "id": "bb5e2024",
   "metadata": {},
   "outputs": [
    {
     "name": "stdout",
     "output_type": "stream",
     "text": [
      "<class 'pandas.core.frame.DataFrame'>\n",
      "RangeIndex: 90348 entries, 0 to 90347\n",
      "Data columns (total 31 columns):\n",
      " #   Column                  Non-Null Count  Dtype  \n",
      "---  ------                  --------------  -----  \n",
      " 0   Event.Id                88889 non-null  object \n",
      " 1   Investigation.Type      90348 non-null  object \n",
      " 2   Accident.Number         88889 non-null  object \n",
      " 3   Event.Date              88889 non-null  object \n",
      " 4   Location                88836 non-null  object \n",
      " 5   Country                 88660 non-null  object \n",
      " 6   Latitude                34382 non-null  object \n",
      " 7   Longitude               34373 non-null  object \n",
      " 8   Airport.Code            50249 non-null  object \n",
      " 9   Airport.Name            52783 non-null  object \n",
      " 10  Injury.Severity         87889 non-null  object \n",
      " 11  Aircraft.damage         85576 non-null  object \n",
      " 12  Aircraft.Category       32273 non-null  object \n",
      " 13  Registration.Number     87569 non-null  object \n",
      " 14  Make                    88805 non-null  object \n",
      " 15  Model                   88796 non-null  object \n",
      " 16  Amateur.Built           88787 non-null  object \n",
      " 17  Number.of.Engines       82805 non-null  float64\n",
      " 18  Engine.Type             79761 non-null  object \n",
      " 19  FAR.Description         32001 non-null  object \n",
      " 20  Schedule                12582 non-null  object \n",
      " 21  Purpose.of.flight       75895 non-null  object \n",
      " 22  Air.carrier             16634 non-null  object \n",
      " 23  Total.Fatal.Injuries    77488 non-null  float64\n",
      " 24  Total.Serious.Injuries  76379 non-null  float64\n",
      " 25  Total.Minor.Injuries    76956 non-null  float64\n",
      " 26  Total.Uninjured         82977 non-null  float64\n",
      " 27  Weather.Condition       84397 non-null  object \n",
      " 28  Broad.phase.of.flight   61176 non-null  object \n",
      " 29  Report.Status           82508 non-null  object \n",
      " 30  Publication.Date        73659 non-null  object \n",
      "dtypes: float64(5), object(26)\n",
      "memory usage: 21.4+ MB\n"
     ]
    }
   ],
   "source": [
    "#Inspecting cleaned data\n",
    "cleaned_data.info()"
   ]
  },
  {
   "cell_type": "code",
   "execution_count": 10,
   "id": "54a6ccec",
   "metadata": {},
   "outputs": [
    {
     "data": {
      "text/html": [
       "<div>\n",
       "<style scoped>\n",
       "    .dataframe tbody tr th:only-of-type {\n",
       "        vertical-align: middle;\n",
       "    }\n",
       "\n",
       "    .dataframe tbody tr th {\n",
       "        vertical-align: top;\n",
       "    }\n",
       "\n",
       "    .dataframe thead th {\n",
       "        text-align: right;\n",
       "    }\n",
       "</style>\n",
       "<table border=\"1\" class=\"dataframe\">\n",
       "  <thead>\n",
       "    <tr style=\"text-align: right;\">\n",
       "      <th></th>\n",
       "      <th>Event.Date</th>\n",
       "      <th>Publication.Date</th>\n",
       "    </tr>\n",
       "  </thead>\n",
       "  <tbody>\n",
       "    <tr>\n",
       "      <th>0</th>\n",
       "      <td>1948-10-24</td>\n",
       "      <td>NaT</td>\n",
       "    </tr>\n",
       "    <tr>\n",
       "      <th>1</th>\n",
       "      <td>1962-07-19</td>\n",
       "      <td>1996-09-19</td>\n",
       "    </tr>\n",
       "    <tr>\n",
       "      <th>2</th>\n",
       "      <td>1974-08-30</td>\n",
       "      <td>2007-02-26</td>\n",
       "    </tr>\n",
       "    <tr>\n",
       "      <th>3</th>\n",
       "      <td>1977-06-19</td>\n",
       "      <td>2000-12-09</td>\n",
       "    </tr>\n",
       "    <tr>\n",
       "      <th>4</th>\n",
       "      <td>1979-08-02</td>\n",
       "      <td>1980-04-16</td>\n",
       "    </tr>\n",
       "  </tbody>\n",
       "</table>\n",
       "</div>"
      ],
      "text/plain": [
       "  Event.Date Publication.Date\n",
       "0 1948-10-24              NaT\n",
       "1 1962-07-19       1996-09-19\n",
       "2 1974-08-30       2007-02-26\n",
       "3 1977-06-19       2000-12-09\n",
       "4 1979-08-02       1980-04-16"
      ]
     },
     "execution_count": 10,
     "metadata": {},
     "output_type": "execute_result"
    }
   ],
   "source": [
    "#Changing the Event.Date and Publication.Date columns into datetime\n",
    "cleaned_data['Event.Date']=pd.to_datetime(cleaned_data['Event.Date'])\n",
    "cleaned_data['Publication.Date']=pd.to_datetime(cleaned_data['Publication.Date'])\n",
    "\n",
    "#Checking if it has been applied\n",
    "cleaned_data[['Event.Date','Publication.Date']].head()"
   ]
  },
  {
   "cell_type": "code",
   "execution_count": 11,
   "id": "5cbc97f8",
   "metadata": {},
   "outputs": [
    {
     "data": {
      "text/plain": [
       "True"
      ]
     },
     "execution_count": 11,
     "metadata": {},
     "output_type": "execute_result"
    }
   ],
   "source": [
    "# Checking if there are any duplicate rows\n",
    "cleaned_data.duplicated().any()"
   ]
  },
  {
   "cell_type": "code",
   "execution_count": 12,
   "id": "8a2f1aa3",
   "metadata": {},
   "outputs": [
    {
     "name": "stdout",
     "output_type": "stream",
     "text": [
      "The Cleaned dataset contains 88958 rows and 31 columns.\n"
     ]
    }
   ],
   "source": [
    "# Droping duplicated rows and keeping the first occurrence\n",
    "cleaned_data = cleaned_data.drop_duplicates()\n",
    "\n",
    "#Checking dimensions of our cleaned data after duplicates have been dropped\n",
    "cleaned_data.shape\n",
    "print(f\"The Cleaned dataset contains {cleaned_data.shape[0]} rows and {cleaned_data.shape[1]} columns.\")"
   ]
  },
  {
   "cell_type": "code",
   "execution_count": 13,
   "id": "95ae92ae",
   "metadata": {},
   "outputs": [],
   "source": [
    "#Grouping the numerical values and fill them with the mean\n",
    "numeric_values = cleaned_data.select_dtypes(include=[float, int]).columns\n",
    "cleaned_data[numeric_values] = cleaned_data[numeric_values].fillna(cleaned_data[numeric_values].mean())"
   ]
  },
  {
   "cell_type": "code",
   "execution_count": 14,
   "id": "f3a897c8",
   "metadata": {},
   "outputs": [
    {
     "data": {
      "text/plain": [
       "Number.of.Engines         0\n",
       "Total.Fatal.Injuries      0\n",
       "Total.Serious.Injuries    0\n",
       "Total.Minor.Injuries      0\n",
       "Total.Uninjured           0\n",
       "dtype: int64"
      ]
     },
     "execution_count": 14,
     "metadata": {},
     "output_type": "execute_result"
    }
   ],
   "source": [
    "#Checking for any null values in the numerical values\n",
    "cleaned_data[numeric_values].isna().sum()"
   ]
  },
  {
   "cell_type": "code",
   "execution_count": 15,
   "id": "20dabe0e",
   "metadata": {},
   "outputs": [],
   "source": [
    "# Selecting all object and datetime columns\n",
    "categorical_values = cleaned_data.select_dtypes(include=['object', 'datetime64[ns]']).columns\n",
    "\n",
    "# Looping through each column and filling missing values with the mode\n",
    "for column in categorical_values:\n",
    "    mode_series = cleaned_data[column].mode()\n",
    "\n",
    "    # Only fills if the mode exists\n",
    "    if not mode_series.empty:\n",
    "        mode_value = mode_series.iloc[0]\n",
    "        cleaned_data[column] = cleaned_data[column].fillna(mode_value)\n"
   ]
  },
  {
   "cell_type": "code",
   "execution_count": 16,
   "id": "8447c17a",
   "metadata": {},
   "outputs": [
    {
     "data": {
      "text/plain": [
       "Event.Id                 0\n",
       "Investigation.Type       0\n",
       "Accident.Number          0\n",
       "Event.Date               0\n",
       "Location                 0\n",
       "Country                  0\n",
       "Latitude                 0\n",
       "Longitude                0\n",
       "Airport.Code             0\n",
       "Airport.Name             0\n",
       "Injury.Severity          0\n",
       "Aircraft.damage          0\n",
       "Aircraft.Category        0\n",
       "Registration.Number      0\n",
       "Make                     0\n",
       "Model                    0\n",
       "Amateur.Built            0\n",
       "Engine.Type              0\n",
       "FAR.Description          0\n",
       "Schedule                 0\n",
       "Purpose.of.flight        0\n",
       "Air.carrier              0\n",
       "Weather.Condition        0\n",
       "Broad.phase.of.flight    0\n",
       "Report.Status            0\n",
       "Publication.Date         0\n",
       "dtype: int64"
      ]
     },
     "execution_count": 16,
     "metadata": {},
     "output_type": "execute_result"
    }
   ],
   "source": [
    "#Check for any null values in the categoriacal values\n",
    "cleaned_data[categorical_values].isna().sum()"
   ]
  },
  {
   "cell_type": "code",
   "execution_count": 17,
   "id": "0ed9b725",
   "metadata": {},
   "outputs": [],
   "source": [
    "# Looping through each categorical column and applying strip() for each column\n",
    "for column in categorical_values:\n",
    "    # Converting the column to string type first, then applying strip() and making them lowercase\n",
    "    cleaned_data[column] = cleaned_data[column].astype(str).str.strip().str.capitalize()"
   ]
  },
  {
   "cell_type": "code",
   "execution_count": 18,
   "id": "5c55ad84",
   "metadata": {},
   "outputs": [
    {
     "data": {
      "text/html": [
       "<div>\n",
       "<style scoped>\n",
       "    .dataframe tbody tr th:only-of-type {\n",
       "        vertical-align: middle;\n",
       "    }\n",
       "\n",
       "    .dataframe tbody tr th {\n",
       "        vertical-align: top;\n",
       "    }\n",
       "\n",
       "    .dataframe thead th {\n",
       "        text-align: right;\n",
       "    }\n",
       "</style>\n",
       "<table border=\"1\" class=\"dataframe\">\n",
       "  <thead>\n",
       "    <tr style=\"text-align: right;\">\n",
       "      <th></th>\n",
       "      <th>Number.of.Engines</th>\n",
       "      <th>Total.Fatal.Injuries</th>\n",
       "      <th>Total.Serious.Injuries</th>\n",
       "      <th>Total.Minor.Injuries</th>\n",
       "      <th>Total.Uninjured</th>\n",
       "      <th>Event.Id</th>\n",
       "      <th>Investigation.Type</th>\n",
       "      <th>Accident.Number</th>\n",
       "      <th>Event.Date</th>\n",
       "      <th>Location</th>\n",
       "      <th>...</th>\n",
       "      <th>Amateur.Built</th>\n",
       "      <th>Engine.Type</th>\n",
       "      <th>FAR.Description</th>\n",
       "      <th>Schedule</th>\n",
       "      <th>Purpose.of.flight</th>\n",
       "      <th>Air.carrier</th>\n",
       "      <th>Weather.Condition</th>\n",
       "      <th>Broad.phase.of.flight</th>\n",
       "      <th>Report.Status</th>\n",
       "      <th>Publication.Date</th>\n",
       "    </tr>\n",
       "  </thead>\n",
       "  <tbody>\n",
       "    <tr>\n",
       "      <th>0</th>\n",
       "      <td>1.000000</td>\n",
       "      <td>2.0</td>\n",
       "      <td>0.000000</td>\n",
       "      <td>0.000000</td>\n",
       "      <td>0.00000</td>\n",
       "      <td>20001218x45444</td>\n",
       "      <td>Accident</td>\n",
       "      <td>Sea87la080</td>\n",
       "      <td>1948-10-24</td>\n",
       "      <td>Moose creek, id</td>\n",
       "      <td>...</td>\n",
       "      <td>No</td>\n",
       "      <td>Reciprocating</td>\n",
       "      <td>091</td>\n",
       "      <td>Nsch</td>\n",
       "      <td>Personal</td>\n",
       "      <td>Pilot</td>\n",
       "      <td>Unk</td>\n",
       "      <td>Cruise</td>\n",
       "      <td>Probable cause</td>\n",
       "      <td>2020-09-25</td>\n",
       "    </tr>\n",
       "    <tr>\n",
       "      <th>1</th>\n",
       "      <td>1.000000</td>\n",
       "      <td>4.0</td>\n",
       "      <td>0.000000</td>\n",
       "      <td>0.000000</td>\n",
       "      <td>0.00000</td>\n",
       "      <td>20001218x45447</td>\n",
       "      <td>Accident</td>\n",
       "      <td>Lax94la336</td>\n",
       "      <td>1962-07-19</td>\n",
       "      <td>Bridgeport, ca</td>\n",
       "      <td>...</td>\n",
       "      <td>No</td>\n",
       "      <td>Reciprocating</td>\n",
       "      <td>091</td>\n",
       "      <td>Nsch</td>\n",
       "      <td>Personal</td>\n",
       "      <td>Pilot</td>\n",
       "      <td>Unk</td>\n",
       "      <td>Landing</td>\n",
       "      <td>Probable cause</td>\n",
       "      <td>1996-09-19</td>\n",
       "    </tr>\n",
       "    <tr>\n",
       "      <th>2</th>\n",
       "      <td>1.000000</td>\n",
       "      <td>3.0</td>\n",
       "      <td>0.279881</td>\n",
       "      <td>0.357061</td>\n",
       "      <td>5.32544</td>\n",
       "      <td>20061025x01555</td>\n",
       "      <td>Accident</td>\n",
       "      <td>Nyc07la005</td>\n",
       "      <td>1974-08-30</td>\n",
       "      <td>Saltville, va</td>\n",
       "      <td>...</td>\n",
       "      <td>No</td>\n",
       "      <td>Reciprocating</td>\n",
       "      <td>091</td>\n",
       "      <td>Nsch</td>\n",
       "      <td>Personal</td>\n",
       "      <td>Pilot</td>\n",
       "      <td>Imc</td>\n",
       "      <td>Cruise</td>\n",
       "      <td>Probable cause</td>\n",
       "      <td>2007-02-26</td>\n",
       "    </tr>\n",
       "    <tr>\n",
       "      <th>3</th>\n",
       "      <td>1.000000</td>\n",
       "      <td>2.0</td>\n",
       "      <td>0.000000</td>\n",
       "      <td>0.000000</td>\n",
       "      <td>0.00000</td>\n",
       "      <td>20001218x45448</td>\n",
       "      <td>Accident</td>\n",
       "      <td>Lax96la321</td>\n",
       "      <td>1977-06-19</td>\n",
       "      <td>Eureka, ca</td>\n",
       "      <td>...</td>\n",
       "      <td>No</td>\n",
       "      <td>Reciprocating</td>\n",
       "      <td>091</td>\n",
       "      <td>Nsch</td>\n",
       "      <td>Personal</td>\n",
       "      <td>Pilot</td>\n",
       "      <td>Imc</td>\n",
       "      <td>Cruise</td>\n",
       "      <td>Probable cause</td>\n",
       "      <td>2000-12-09</td>\n",
       "    </tr>\n",
       "    <tr>\n",
       "      <th>4</th>\n",
       "      <td>1.146585</td>\n",
       "      <td>1.0</td>\n",
       "      <td>2.000000</td>\n",
       "      <td>0.357061</td>\n",
       "      <td>0.00000</td>\n",
       "      <td>20041105x01764</td>\n",
       "      <td>Accident</td>\n",
       "      <td>Chi79fa064</td>\n",
       "      <td>1979-08-02</td>\n",
       "      <td>Canton, oh</td>\n",
       "      <td>...</td>\n",
       "      <td>No</td>\n",
       "      <td>Reciprocating</td>\n",
       "      <td>091</td>\n",
       "      <td>Nsch</td>\n",
       "      <td>Personal</td>\n",
       "      <td>Pilot</td>\n",
       "      <td>Vmc</td>\n",
       "      <td>Approach</td>\n",
       "      <td>Probable cause</td>\n",
       "      <td>1980-04-16</td>\n",
       "    </tr>\n",
       "  </tbody>\n",
       "</table>\n",
       "<p>5 rows × 31 columns</p>\n",
       "</div>"
      ],
      "text/plain": [
       "   Number.of.Engines  Total.Fatal.Injuries  Total.Serious.Injuries  \\\n",
       "0           1.000000                   2.0                0.000000   \n",
       "1           1.000000                   4.0                0.000000   \n",
       "2           1.000000                   3.0                0.279881   \n",
       "3           1.000000                   2.0                0.000000   \n",
       "4           1.146585                   1.0                2.000000   \n",
       "\n",
       "   Total.Minor.Injuries  Total.Uninjured        Event.Id Investigation.Type  \\\n",
       "0              0.000000          0.00000  20001218x45444           Accident   \n",
       "1              0.000000          0.00000  20001218x45447           Accident   \n",
       "2              0.357061          5.32544  20061025x01555           Accident   \n",
       "3              0.000000          0.00000  20001218x45448           Accident   \n",
       "4              0.357061          0.00000  20041105x01764           Accident   \n",
       "\n",
       "  Accident.Number  Event.Date         Location  ... Amateur.Built  \\\n",
       "0      Sea87la080  1948-10-24  Moose creek, id  ...            No   \n",
       "1      Lax94la336  1962-07-19   Bridgeport, ca  ...            No   \n",
       "2      Nyc07la005  1974-08-30    Saltville, va  ...            No   \n",
       "3      Lax96la321  1977-06-19       Eureka, ca  ...            No   \n",
       "4      Chi79fa064  1979-08-02       Canton, oh  ...            No   \n",
       "\n",
       "     Engine.Type FAR.Description Schedule Purpose.of.flight Air.carrier  \\\n",
       "0  Reciprocating             091     Nsch          Personal       Pilot   \n",
       "1  Reciprocating             091     Nsch          Personal       Pilot   \n",
       "2  Reciprocating             091     Nsch          Personal       Pilot   \n",
       "3  Reciprocating             091     Nsch          Personal       Pilot   \n",
       "4  Reciprocating             091     Nsch          Personal       Pilot   \n",
       "\n",
       "  Weather.Condition Broad.phase.of.flight   Report.Status Publication.Date  \n",
       "0               Unk                Cruise  Probable cause       2020-09-25  \n",
       "1               Unk               Landing  Probable cause       1996-09-19  \n",
       "2               Imc                Cruise  Probable cause       2007-02-26  \n",
       "3               Imc                Cruise  Probable cause       2000-12-09  \n",
       "4               Vmc              Approach  Probable cause       1980-04-16  \n",
       "\n",
       "[5 rows x 31 columns]"
      ]
     },
     "execution_count": 18,
     "metadata": {},
     "output_type": "execute_result"
    }
   ],
   "source": [
    "# Selecting numeric and categorical data by column names, then combining them back into one DataFrame\n",
    "numerical_data = cleaned_data[numeric_values]\n",
    "categorical_data = cleaned_data[categorical_values]\n",
    "cleaned_data = pd.concat([numerical_data, categorical_data], axis=1)\n",
    "\n",
    "#Checking the 1st 5 rows of the cleaned data\n",
    "cleaned_data.head()"
   ]
  },
  {
   "cell_type": "code",
   "execution_count": 19,
   "id": "b6a1613f",
   "metadata": {},
   "outputs": [
    {
     "data": {
      "text/plain": [
       "0              Stinson\n",
       "1                Piper\n",
       "2               Cessna\n",
       "3             Rockwell\n",
       "4               Cessna\n",
       "5    Mcdonnell douglas\n",
       "6               Cessna\n",
       "7               Cessna\n",
       "8               Cessna\n",
       "9       North american\n",
       "Name: Make, dtype: object"
      ]
     },
     "execution_count": 19,
     "metadata": {},
     "output_type": "execute_result"
    }
   ],
   "source": [
    "#checking the data in the make column\n",
    "cleaned_data['Make'].head(10)"
   ]
  },
  {
   "cell_type": "code",
   "execution_count": 20,
   "id": "3f67a75c",
   "metadata": {},
   "outputs": [
    {
     "name": "stdout",
     "output_type": "stream",
     "text": [
      "<class 'pandas.core.frame.DataFrame'>\n",
      "Int64Index: 88958 entries, 0 to 90347\n",
      "Data columns (total 31 columns):\n",
      " #   Column                  Non-Null Count  Dtype  \n",
      "---  ------                  --------------  -----  \n",
      " 0   Number.of.Engines       88958 non-null  float64\n",
      " 1   Total.Fatal.Injuries    88958 non-null  float64\n",
      " 2   Total.Serious.Injuries  88958 non-null  float64\n",
      " 3   Total.Minor.Injuries    88958 non-null  float64\n",
      " 4   Total.Uninjured         88958 non-null  float64\n",
      " 5   Event.Id                88958 non-null  object \n",
      " 6   Investigation.Type      88958 non-null  object \n",
      " 7   Accident.Number         88958 non-null  object \n",
      " 8   Event.Date              88958 non-null  object \n",
      " 9   Location                88958 non-null  object \n",
      " 10  Country                 88958 non-null  object \n",
      " 11  Latitude                88958 non-null  object \n",
      " 12  Longitude               88958 non-null  object \n",
      " 13  Airport.Code            88958 non-null  object \n",
      " 14  Airport.Name            88958 non-null  object \n",
      " 15  Injury.Severity         88958 non-null  object \n",
      " 16  Aircraft.damage         88958 non-null  object \n",
      " 17  Aircraft.Category       88958 non-null  object \n",
      " 18  Registration.Number     88958 non-null  object \n",
      " 19  Make                    88958 non-null  object \n",
      " 20  Model                   88958 non-null  object \n",
      " 21  Amateur.Built           88958 non-null  object \n",
      " 22  Engine.Type             88958 non-null  object \n",
      " 23  FAR.Description         88958 non-null  object \n",
      " 24  Schedule                88958 non-null  object \n",
      " 25  Purpose.of.flight       88958 non-null  object \n",
      " 26  Air.carrier             88958 non-null  object \n",
      " 27  Weather.Condition       88958 non-null  object \n",
      " 28  Broad.phase.of.flight   88958 non-null  object \n",
      " 29  Report.Status           88958 non-null  object \n",
      " 30  Publication.Date        88958 non-null  object \n",
      "dtypes: float64(5), object(26)\n",
      "memory usage: 21.7+ MB\n"
     ]
    }
   ],
   "source": [
    "#Inspecting information about the data after cleaning\n",
    "cleaned_data.info()"
   ]
  },
  {
   "cell_type": "code",
   "execution_count": 22,
   "id": "8dbd7edd",
   "metadata": {},
   "outputs": [],
   "source": [
    "\n",
    "#Creating a new csv of a cleaned data\n",
    "cleaned_data.to_csv('cleaned_data.csv', index=False)"
   ]
  },
  {
   "cell_type": "markdown",
   "id": "1baa2c3a",
   "metadata": {},
   "source": [
    "'''\n",
    "The dataset has been thoroughly cleaned, with missing values handled. Duplicate rows have been removed, and data inside the columns cleaned. Following these data cleaning steps, the dataset now consists of 31 columns and 88,958 rows. The next step involves visualizing the cleaned data.\n",
    "'''"
   ]
  },
  {
   "cell_type": "markdown",
   "id": "d1cf1b2e",
   "metadata": {},
   "source": [
    "### Step 4 : Data Analysis and Visualizations"
   ]
  },
  {
   "cell_type": "code",
   "execution_count": null,
   "id": "29471ba0",
   "metadata": {},
   "outputs": [
    {
     "data": {
      "text/html": [
       "<div>\n",
       "<style scoped>\n",
       "    .dataframe tbody tr th:only-of-type {\n",
       "        vertical-align: middle;\n",
       "    }\n",
       "\n",
       "    .dataframe tbody tr th {\n",
       "        vertical-align: top;\n",
       "    }\n",
       "\n",
       "    .dataframe thead th {\n",
       "        text-align: right;\n",
       "    }\n",
       "</style>\n",
       "<table border=\"1\" class=\"dataframe\">\n",
       "  <thead>\n",
       "    <tr style=\"text-align: right;\">\n",
       "      <th></th>\n",
       "      <th>Number.of.Engines</th>\n",
       "      <th>Total.Fatal.Injuries</th>\n",
       "      <th>Total.Serious.Injuries</th>\n",
       "      <th>Total.Minor.Injuries</th>\n",
       "      <th>Total.Uninjured</th>\n",
       "    </tr>\n",
       "  </thead>\n",
       "  <tbody>\n",
       "    <tr>\n",
       "      <th>count</th>\n",
       "      <td>88958.000000</td>\n",
       "      <td>88958.000000</td>\n",
       "      <td>88958.000000</td>\n",
       "      <td>88958.000000</td>\n",
       "      <td>88958.000000</td>\n",
       "    </tr>\n",
       "    <tr>\n",
       "      <th>mean</th>\n",
       "      <td>1.146585</td>\n",
       "      <td>0.647855</td>\n",
       "      <td>0.279881</td>\n",
       "      <td>0.357061</td>\n",
       "      <td>5.325440</td>\n",
       "    </tr>\n",
       "    <tr>\n",
       "      <th>std</th>\n",
       "      <td>0.430791</td>\n",
       "      <td>5.120083</td>\n",
       "      <td>1.430754</td>\n",
       "      <td>2.079349</td>\n",
       "      <td>26.958925</td>\n",
       "    </tr>\n",
       "    <tr>\n",
       "      <th>min</th>\n",
       "      <td>0.000000</td>\n",
       "      <td>0.000000</td>\n",
       "      <td>0.000000</td>\n",
       "      <td>0.000000</td>\n",
       "      <td>0.000000</td>\n",
       "    </tr>\n",
       "    <tr>\n",
       "      <th>25%</th>\n",
       "      <td>1.000000</td>\n",
       "      <td>0.000000</td>\n",
       "      <td>0.000000</td>\n",
       "      <td>0.000000</td>\n",
       "      <td>0.000000</td>\n",
       "    </tr>\n",
       "    <tr>\n",
       "      <th>50%</th>\n",
       "      <td>1.000000</td>\n",
       "      <td>0.000000</td>\n",
       "      <td>0.000000</td>\n",
       "      <td>0.000000</td>\n",
       "      <td>1.000000</td>\n",
       "    </tr>\n",
       "    <tr>\n",
       "      <th>75%</th>\n",
       "      <td>1.000000</td>\n",
       "      <td>0.647855</td>\n",
       "      <td>0.279881</td>\n",
       "      <td>0.357061</td>\n",
       "      <td>2.000000</td>\n",
       "    </tr>\n",
       "    <tr>\n",
       "      <th>max</th>\n",
       "      <td>8.000000</td>\n",
       "      <td>349.000000</td>\n",
       "      <td>161.000000</td>\n",
       "      <td>380.000000</td>\n",
       "      <td>699.000000</td>\n",
       "    </tr>\n",
       "  </tbody>\n",
       "</table>\n",
       "</div>"
      ],
      "text/plain": [
       "       Number.of.Engines  Total.Fatal.Injuries  Total.Serious.Injuries  \\\n",
       "count       88958.000000          88958.000000            88958.000000   \n",
       "mean            1.146585              0.647855                0.279881   \n",
       "std             0.430791              5.120083                1.430754   \n",
       "min             0.000000              0.000000                0.000000   \n",
       "25%             1.000000              0.000000                0.000000   \n",
       "50%             1.000000              0.000000                0.000000   \n",
       "75%             1.000000              0.647855                0.279881   \n",
       "max             8.000000            349.000000              161.000000   \n",
       "\n",
       "       Total.Minor.Injuries  Total.Uninjured  \n",
       "count          88958.000000     88958.000000  \n",
       "mean               0.357061         5.325440  \n",
       "std                2.079349        26.958925  \n",
       "min                0.000000         0.000000  \n",
       "25%                0.000000         0.000000  \n",
       "50%                0.000000         1.000000  \n",
       "75%                0.357061         2.000000  \n",
       "max              380.000000       699.000000  "
      ]
     },
     "execution_count": 21,
     "metadata": {},
     "output_type": "execute_result"
    }
   ],
   "source": [
    "#summary statistics for numerical columns in the cleaned dataset\n",
    "cleaned_data.describe()"
   ]
  },
  {
   "cell_type": "markdown",
   "id": "50c06698",
   "metadata": {},
   "source": [
    "'''\n",
    "Key Analysis:\n",
    "\n",
    "Fatal Injuries: Majority of the accidents habe no fatalities as seen in the 25%, 50% and 75% percentiles. However, there are extreme cases with upto 349 fatal injuries in one incident\n",
    "\n",
    "Serious and Minor Injuries: Similar to the fatal injuries, majority of the incidents have no serious and minor injuries, but there are some outliers with other 161 serious injuries and 380 minor injuries\n",
    "\n",
    "Uninjured individuals: Most accidesnts have some injured individals with a higher median value of 2 while in other cases many people were uninjured\n",
    "'''"
   ]
  },
  {
   "cell_type": "markdown",
   "id": "934f357c",
   "metadata": {},
   "source": [
    "#### Step 4a : Accident Frequency by Aircraft Make"
   ]
  },
  {
   "cell_type": "code",
   "execution_count": null,
   "id": "4c6f166f",
   "metadata": {},
   "outputs": [
    {
     "data": {
      "text/plain": [
       "Index(['Number.of.Engines', 'Total.Fatal.Injuries', 'Total.Serious.Injuries',\n",
       "       'Total.Minor.Injuries', 'Total.Uninjured', 'Event.Id',\n",
       "       'Investigation.Type', 'Accident.Number', 'Event.Date', 'Location',\n",
       "       'Country', 'Latitude', 'Longitude', 'Airport.Code', 'Airport.Name',\n",
       "       'Injury.Severity', 'Aircraft.damage', 'Aircraft.Category',\n",
       "       'Registration.Number', 'Make', 'Model', 'Amateur.Built', 'Engine.Type',\n",
       "       'FAR.Description', 'Schedule', 'Purpose.of.flight', 'Air.carrier',\n",
       "       'Weather.Condition', 'Broad.phase.of.flight', 'Report.Status',\n",
       "       'Publication.Date'],\n",
       "      dtype='object')"
      ]
     },
     "execution_count": 22,
     "metadata": {},
     "output_type": "execute_result"
    }
   ],
   "source": [
    "#Checking the columns i have\n",
    "cleaned_data.columns"
   ]
  },
  {
   "cell_type": "code",
   "execution_count": null,
   "id": "bdf540aa",
   "metadata": {},
   "outputs": [
    {
     "data": {
      "text/plain": [
       "0    Sea87la080\n",
       "1    Lax94la336\n",
       "2    Nyc07la005\n",
       "3    Lax96la321\n",
       "4    Chi79fa064\n",
       "Name: Accident.Number, dtype: object"
      ]
     },
     "execution_count": 23,
     "metadata": {},
     "output_type": "execute_result"
    }
   ],
   "source": [
    "#Check if we can use the accident Number column for analysis\n",
    "cleaned_data['Accident.Number'].head()"
   ]
  },
  {
   "cell_type": "markdown",
   "id": "5e1e1de9",
   "metadata": {},
   "source": [
    "Since the accident number column contains strings we can not use it for analysis. We will therefore create a new column called Total Accidents which will count the number of both minor and serious injuries"
   ]
  },
  {
   "cell_type": "code",
   "execution_count": null,
   "id": "bfbe83f9",
   "metadata": {},
   "outputs": [
    {
     "data": {
      "text/html": [
       "<div>\n",
       "<style scoped>\n",
       "    .dataframe tbody tr th:only-of-type {\n",
       "        vertical-align: middle;\n",
       "    }\n",
       "\n",
       "    .dataframe tbody tr th {\n",
       "        vertical-align: top;\n",
       "    }\n",
       "\n",
       "    .dataframe thead th {\n",
       "        text-align: right;\n",
       "    }\n",
       "</style>\n",
       "<table border=\"1\" class=\"dataframe\">\n",
       "  <thead>\n",
       "    <tr style=\"text-align: right;\">\n",
       "      <th></th>\n",
       "      <th>Make</th>\n",
       "      <th>Model</th>\n",
       "      <th>Total.Serious.Injuries</th>\n",
       "      <th>Total.Minor.Injuries</th>\n",
       "      <th>Total.Accidents</th>\n",
       "    </tr>\n",
       "  </thead>\n",
       "  <tbody>\n",
       "    <tr>\n",
       "      <th>0</th>\n",
       "      <td>Stinson</td>\n",
       "      <td>108-3</td>\n",
       "      <td>0.000000</td>\n",
       "      <td>0.000000</td>\n",
       "      <td>0.000000</td>\n",
       "    </tr>\n",
       "    <tr>\n",
       "      <th>1</th>\n",
       "      <td>Piper</td>\n",
       "      <td>Pa24-180</td>\n",
       "      <td>0.000000</td>\n",
       "      <td>0.000000</td>\n",
       "      <td>0.000000</td>\n",
       "    </tr>\n",
       "    <tr>\n",
       "      <th>2</th>\n",
       "      <td>Cessna</td>\n",
       "      <td>172m</td>\n",
       "      <td>0.279881</td>\n",
       "      <td>0.357061</td>\n",
       "      <td>0.636942</td>\n",
       "    </tr>\n",
       "    <tr>\n",
       "      <th>3</th>\n",
       "      <td>Rockwell</td>\n",
       "      <td>112</td>\n",
       "      <td>0.000000</td>\n",
       "      <td>0.000000</td>\n",
       "      <td>0.000000</td>\n",
       "    </tr>\n",
       "    <tr>\n",
       "      <th>4</th>\n",
       "      <td>Cessna</td>\n",
       "      <td>501</td>\n",
       "      <td>2.000000</td>\n",
       "      <td>0.357061</td>\n",
       "      <td>2.357061</td>\n",
       "    </tr>\n",
       "  </tbody>\n",
       "</table>\n",
       "</div>"
      ],
      "text/plain": [
       "       Make     Model  Total.Serious.Injuries  Total.Minor.Injuries  \\\n",
       "0   Stinson     108-3                0.000000              0.000000   \n",
       "1     Piper  Pa24-180                0.000000              0.000000   \n",
       "2    Cessna      172m                0.279881              0.357061   \n",
       "3  Rockwell       112                0.000000              0.000000   \n",
       "4    Cessna       501                2.000000              0.357061   \n",
       "\n",
       "   Total.Accidents  \n",
       "0         0.000000  \n",
       "1         0.000000  \n",
       "2         0.636942  \n",
       "3         0.000000  \n",
       "4         2.357061  "
      ]
     },
     "execution_count": 24,
     "metadata": {},
     "output_type": "execute_result"
    }
   ],
   "source": [
    "# Create a new column for Total Accidents (sum of Serious and Minor Injuries)\n",
    "cleaned_data['Total.Accidents'] = cleaned_data['Total.Serious.Injuries'] + cleaned_data['Total.Minor.Injuries']\n",
    "\n",
    "# Check if  the new column is added\n",
    "cleaned_data[['Make', 'Model', 'Total.Serious.Injuries', 'Total.Minor.Injuries', 'Total.Accidents']].head()"
   ]
  },
  {
   "cell_type": "markdown",
   "id": "3b417c7e",
   "metadata": {},
   "source": [
    "'''\n",
    "This code analyzes aircraft accident data by counting how many accidents are associated with each aircraft manufacturer listed in the 'Make' column. It first groups the dataset by 'Make' and calculates the number of records (accidents) for each group using .size(), then resets the index to create a new DataFrame with a readable column named 'Total.Accidents'. The results are sorted in descending order to highlight the manufacturers with the most accidents, and finally, the top 10 aircraft makes with the highest accident counts are displayed using .head(10). This provides a quick overview of which aircraft types are most frequently involved in reported incidents.\n",
    "'''"
   ]
  },
  {
   "cell_type": "code",
   "execution_count": null,
   "id": "669fc2c5",
   "metadata": {},
   "outputs": [
    {
     "data": {
      "text/html": [
       "<div>\n",
       "<style scoped>\n",
       "    .dataframe tbody tr th:only-of-type {\n",
       "        vertical-align: middle;\n",
       "    }\n",
       "\n",
       "    .dataframe tbody tr th {\n",
       "        vertical-align: top;\n",
       "    }\n",
       "\n",
       "    .dataframe thead th {\n",
       "        text-align: right;\n",
       "    }\n",
       "</style>\n",
       "<table border=\"1\" class=\"dataframe\">\n",
       "  <thead>\n",
       "    <tr style=\"text-align: right;\">\n",
       "      <th></th>\n",
       "      <th>Make</th>\n",
       "      <th>Total.Accidents</th>\n",
       "    </tr>\n",
       "  </thead>\n",
       "  <tbody>\n",
       "    <tr>\n",
       "      <th>1259</th>\n",
       "      <td>Cessna</td>\n",
       "      <td>27302</td>\n",
       "    </tr>\n",
       "    <tr>\n",
       "      <th>5276</th>\n",
       "      <td>Piper</td>\n",
       "      <td>14870</td>\n",
       "    </tr>\n",
       "    <tr>\n",
       "      <th>638</th>\n",
       "      <td>Beech</td>\n",
       "      <td>5372</td>\n",
       "    </tr>\n",
       "    <tr>\n",
       "      <th>827</th>\n",
       "      <td>Boeing</td>\n",
       "      <td>2745</td>\n",
       "    </tr>\n",
       "    <tr>\n",
       "      <th>658</th>\n",
       "      <td>Bell</td>\n",
       "      <td>2722</td>\n",
       "    </tr>\n",
       "    <tr>\n",
       "      <th>4753</th>\n",
       "      <td>Mooney</td>\n",
       "      <td>1334</td>\n",
       "    </tr>\n",
       "    <tr>\n",
       "      <th>5761</th>\n",
       "      <td>Robinson</td>\n",
       "      <td>1230</td>\n",
       "    </tr>\n",
       "    <tr>\n",
       "      <th>2853</th>\n",
       "      <td>Grumman</td>\n",
       "      <td>1172</td>\n",
       "    </tr>\n",
       "    <tr>\n",
       "      <th>688</th>\n",
       "      <td>Bellanca</td>\n",
       "      <td>1045</td>\n",
       "    </tr>\n",
       "    <tr>\n",
       "      <th>3352</th>\n",
       "      <td>Hughes</td>\n",
       "      <td>932</td>\n",
       "    </tr>\n",
       "  </tbody>\n",
       "</table>\n",
       "</div>"
      ],
      "text/plain": [
       "          Make  Total.Accidents\n",
       "1259    Cessna            27302\n",
       "5276     Piper            14870\n",
       "638      Beech             5372\n",
       "827     Boeing             2745\n",
       "658       Bell             2722\n",
       "4753    Mooney             1334\n",
       "5761  Robinson             1230\n",
       "2853   Grumman             1172\n",
       "688   Bellanca             1045\n",
       "3352    Hughes              932"
      ]
     },
     "execution_count": 46,
     "metadata": {},
     "output_type": "execute_result"
    }
   ],
   "source": [
    "# Count the number of accidents per aircraft make\n",
    "accidents_per_model = cleaned_data.groupby(['Make']).size().reset_index(name='Total.Accidents')\n",
    "\n",
    "# Sort by the accident count for better readability\n",
    "accidents_per_model = accidents_per_model.sort_values(by='Total.Accidents', ascending=False)\n",
    "\n",
    "# Display the top 10 aircraft types with the most accidents\n",
    "accidents_per_model.head(10)"
   ]
  },
  {
   "cell_type": "code",
   "execution_count": null,
   "id": "8faebea1",
   "metadata": {},
   "outputs": [
    {
     "data": {
      "image/png": "[encoded data removed]",
      "text/plain": [
       "<Figure size 864x504 with 1 Axes>"
      ]
     },
     "metadata": {},
     "output_type": "display_data"
    }
   ],
   "source": [
    "#Setting  a modern style\n",
    "sns.set_style(\"whitegrid\")\n",
    "\n",
    "#Setting the figure size\n",
    "plt.figure(figsize=(12, 7))\n",
    "\n",
    "#Limitting the bar graph to only show the top 10 makes\n",
    "top_makes = accidents_per_model.head(10)\n",
    "\n",
    "#Plotting with Seaborn for built-in aesthetics\n",
    "sns.barplot(x='Total.Accidents', y='Make', data=top_makes, palette='Blues_d')\n",
    "\n",
    "#Adding titles and labels with better font size\n",
    "plt.title('Top 10 Aircraft Makes by Accident Frequency', fontsize=16)\n",
    "plt.xlabel('Total Accidents', fontsize=12)\n",
    "plt.ylabel('Aircraft Make', fontsize=12)\n",
    "\n",
    "#Adding value labels on the bars\n",
    "for index, value in enumerate(top_makes['Total.Accidents']):\n",
    "    plt.text(value + 1, index, str(value), va='center', fontsize=10)\n",
    "\n",
    "# Clean layout\n",
    "plt.tight_layout()\n",
    "plt.show()\n"
   ]
  },
  {
   "cell_type": "markdown",
   "id": "e1c9e615",
   "metadata": {},
   "source": [
    "#### Step 4b : Accident Severity by Aircraft make "
   ]
  },
  {
   "cell_type": "code",
   "execution_count": null,
   "id": "210b244f",
   "metadata": {},
   "outputs": [],
   "source": [
    "#Filter fatal accidents\n",
    "fatal_accidents = cleaned_data[cleaned_data['Injury.Severity'] == 'Fatal']"
   ]
  },
  {
   "cell_type": "code",
   "execution_count": null,
   "id": "69419798",
   "metadata": {},
   "outputs": [
    {
     "name": "stdout",
     "output_type": "stream",
     "text": [
      "                               Make  Fatal_Accident_Count\n",
      "0                            3xtrim                     1\n",
      "676               Mccorkle robert b                     1\n",
      "677                        Mcdaniel                     1\n",
      "681  Mcdonnell douglas helicopter c                     1\n",
      "682                  Mcfarland bill                     1\n",
      "683                Mcgrath robert f                     1\n",
      "684             Mchenry george b jr                     1\n",
      "685                     Mchugh tony                     1\n",
      "686                Mckeehan james f                     1\n",
      "687                 Mckenna james e                     1\n"
     ]
    }
   ],
   "source": [
    "fatal_by_make = fatal_accidents.groupby('Make').size().reset_index(name='Fatal_Accident_Count')\n",
    "fatal_by_make = fatal_by_make.sort_values('Fatal_Accident_Count', ascending=True)\n",
    "print(fatal_by_make.head(10))"
   ]
  },
  {
   "cell_type": "code",
   "execution_count": null,
   "id": "cdd8df61",
   "metadata": {},
   "outputs": [
    {
     "data": {
      "image/png": "[encoded data removed]",
      "text/plain": [
       "<Figure size 864x432 with 1 Axes>"
      ]
     },
     "metadata": {},
     "output_type": "display_data"
    }
   ],
   "source": [
    "\n",
    "#Use seaborn style\n",
    "sns.set_style(\"whitegrid\")\n",
    "\n",
    "# Sort descending\n",
    "top_10_fatal = fatal_by_make.sort_values('Fatal_Accident_Count', ascending=False).head(10)\n",
    "\n",
    "plt.figure(figsize=(12, 6))\n",
    "bars = plt.bar(top_10_fatal['Make'], top_10_fatal['Fatal_Accident_Count'], color='firebrick')\n",
    "\n",
    "# Add labels\n",
    "for bar in bars:\n",
    "    height = bar.get_height()\n",
    "    plt.text(bar.get_x() + bar.get_width()/2.0, height + 1, f'{int(height)}', ha='center', va='bottom', fontsize=10)\n",
    "\n",
    "plt.title('Top 10 Aircraft Makes with Fatal Accidents', fontsize=16)\n",
    "plt.xlabel('Aircraft Make')\n",
    "plt.ylabel('Number of Fatal Accidents')\n",
    "plt.xticks(rotation=45)\n",
    "plt.tight_layout()\n",
    "plt.show()\n"
   ]
  },
  {
   "cell_type": "markdown",
   "id": "604b72cf",
   "metadata": {},
   "source": [
    "#### Step 4c :Yearly Accident Trend by Aircraft make "
   ]
  },
  {
   "cell_type": "code",
   "execution_count": null,
   "id": "dce922f4",
   "metadata": {},
   "outputs": [
    {
     "data": {
      "image/png": "[encoded data removed]",
      "text/plain": [
       "<Figure size 1008x432 with 1 Axes>"
      ]
     },
     "metadata": {},
     "output_type": "display_data"
    }
   ],
   "source": [
    "# Ensure 'Event.Date' is datetime type\n",
    "cleaned_data['Event.Date'] = pd.to_datetime(cleaned_data['Event.Date'], errors='coerce')\n",
    "\n",
    "# Extract Year and Month Name\n",
    "cleaned_data['Year'] = cleaned_data['Event.Date'].dt.year\n",
    "cleaned_data['Month'] = cleaned_data['Event.Date'].dt.month_name()\n",
    "\n",
    "# Group by Year and Make\n",
    "accidents_by_year_make = cleaned_data.groupby(['Year', 'Make']).size().reset_index(name='Accident_Count')\n",
    "\n",
    "# Pivot the data to make plotting easier\n",
    "pivot_make_year = accidents_by_year_make.pivot(index='Year', columns='Make', values='Accident_Count').fillna(0)\n",
    "\n",
    "# Plot trends for top 6 makes by total accidents\n",
    "top_6_makes = cleaned_data['Make'].value_counts().tail(6).index\n",
    "pivot_make_year[top_6_makes].plot(figsize=(14, 6), marker='o')\n",
    "plt.title('Yearly Accident Trend by Aircraft Make (Top 6)')\n",
    "plt.ylabel('Number of Accidents')\n",
    "plt.xlabel('Year')\n",
    "plt.grid(True)\n",
    "plt.legend(title='Make')\n",
    "plt.tight_layout()\n",
    "plt.show()\n"
   ]
  },
  {
   "cell_type": "markdown",
   "id": "e7694755",
   "metadata": {},
   "source": [
    "#### Step 4d : Monthly Accident Trend by Aircraft make "
   ]
  },
  {
   "cell_type": "code",
   "execution_count": null,
   "id": "a1872026",
   "metadata": {},
   "outputs": [
    {
     "data": {
      "image/png": "[encoded data removed]",
      "text/plain": [
       "<Figure size 1008x576 with 2 Axes>"
      ]
     },
     "metadata": {},
     "output_type": "display_data"
    }
   ],
   "source": [
    "# Ensure 'Month' is in correct order\n",
    "month_order = list(calendar.month_name)[1:]  # ['January', ..., 'December']\n",
    "cleaned_data['Month'] = pd.Categorical(cleaned_data['Month'], categories=month_order, ordered=True)\n",
    "\n",
    "# Group by Month and Make\n",
    "accidents_by_month_make = cleaned_data.groupby(['Month', 'Make']).size().reset_index(name='Accident_Count')\n",
    "\n",
    "# Pivot for heatmap\n",
    "heatmap_data = accidents_by_month_make.pivot(index='Month', columns='Make', values='Accident_Count').fillna(0)\n",
    "\n",
    "# Optionally, filter to top 10 makes\n",
    "top_makes = cleaned_data['Make'].value_counts().tail(10).index\n",
    "heatmap_data = heatmap_data[top_makes]\n",
    "\n",
    "# Plot heatmap\n",
    "plt.figure(figsize=(14, 8))\n",
    "sns.heatmap(heatmap_data, cmap='YlOrRd', annot=True, fmt='.0f', linewidths=0.5, linecolor='gray')\n",
    "plt.title('Monthly Aircraft Accident Frequency by Make (Top 10)', fontsize=16)\n",
    "plt.xlabel('Aircraft Make')\n",
    "plt.ylabel('Month')\n",
    "plt.tight_layout()\n",
    "plt.show()"
   ]
  },
  {
   "cell_type": "markdown",
   "id": "1b241379",
   "metadata": {},
   "source": [
    "#### Step 4e : Top 10 Countries Where Most Aircraft Accidents Occur"
   ]
  },
  {
   "cell_type": "code",
   "execution_count": null,
   "id": "1832f146",
   "metadata": {},
   "outputs": [
    {
     "data": {
      "text/html": [
       "<div>\n",
       "<style scoped>\n",
       "    .dataframe tbody tr th:only-of-type {\n",
       "        vertical-align: middle;\n",
       "    }\n",
       "\n",
       "    .dataframe tbody tr th {\n",
       "        vertical-align: top;\n",
       "    }\n",
       "\n",
       "    .dataframe thead th {\n",
       "        text-align: right;\n",
       "    }\n",
       "</style>\n",
       "<table border=\"1\" class=\"dataframe\">\n",
       "  <thead>\n",
       "    <tr style=\"text-align: right;\">\n",
       "      <th></th>\n",
       "      <th>Country</th>\n",
       "      <th>Accident_Count</th>\n",
       "    </tr>\n",
       "  </thead>\n",
       "  <tbody>\n",
       "    <tr>\n",
       "      <th>0</th>\n",
       "      <td>United states</td>\n",
       "      <td>82546</td>\n",
       "    </tr>\n",
       "    <tr>\n",
       "      <th>1</th>\n",
       "      <td>Brazil</td>\n",
       "      <td>374</td>\n",
       "    </tr>\n",
       "    <tr>\n",
       "      <th>2</th>\n",
       "      <td>Canada</td>\n",
       "      <td>359</td>\n",
       "    </tr>\n",
       "    <tr>\n",
       "      <th>3</th>\n",
       "      <td>Mexico</td>\n",
       "      <td>358</td>\n",
       "    </tr>\n",
       "    <tr>\n",
       "      <th>4</th>\n",
       "      <td>United kingdom</td>\n",
       "      <td>344</td>\n",
       "    </tr>\n",
       "    <tr>\n",
       "      <th>5</th>\n",
       "      <td>Australia</td>\n",
       "      <td>300</td>\n",
       "    </tr>\n",
       "    <tr>\n",
       "      <th>6</th>\n",
       "      <td>France</td>\n",
       "      <td>236</td>\n",
       "    </tr>\n",
       "    <tr>\n",
       "      <th>7</th>\n",
       "      <td>Spain</td>\n",
       "      <td>226</td>\n",
       "    </tr>\n",
       "    <tr>\n",
       "      <th>8</th>\n",
       "      <td>Bahamas</td>\n",
       "      <td>216</td>\n",
       "    </tr>\n",
       "    <tr>\n",
       "      <th>9</th>\n",
       "      <td>Germany</td>\n",
       "      <td>215</td>\n",
       "    </tr>\n",
       "  </tbody>\n",
       "</table>\n",
       "</div>"
      ],
      "text/plain": [
       "          Country  Accident_Count\n",
       "0   United states           82546\n",
       "1          Brazil             374\n",
       "2          Canada             359\n",
       "3          Mexico             358\n",
       "4  United kingdom             344\n",
       "5       Australia             300\n",
       "6          France             236\n",
       "7           Spain             226\n",
       "8         Bahamas             216\n",
       "9         Germany             215"
      ]
     },
     "execution_count": 37,
     "metadata": {},
     "output_type": "execute_result"
    }
   ],
   "source": [
    "# Count accidents per country\n",
    "accidents_by_country = cleaned_data['Country'].value_counts().reset_index()\n",
    "accidents_by_country.columns = ['Country', 'Accident_Count']\n",
    "accidents_by_country = accidents_by_country.sort_values(by='Accident_Count', ascending=False)\n",
    "accidents_by_country.head(10)\n"
   ]
  },
  {
   "cell_type": "code",
   "execution_count": null,
   "id": "f664ddd5",
   "metadata": {},
   "outputs": [
    {
     "data": {
      "image/png": "[encoded data removed]",
      "text/plain": [
       "<Figure size 864x576 with 1 Axes>"
      ]
     },
     "metadata": {},
     "output_type": "display_data"
    }
   ],
   "source": [
    "plt.figure(figsize=(12, 8))\n",
    "sns.barplot(data=accidents_by_country.head(10), y='Country', x='Accident_Count', palette='magma')\n",
    "plt.title('Top 10 Countries by Aircraft Accidents')\n",
    "plt.xlabel('Number of Accidents')\n",
    "plt.ylabel('Country')\n",
    "plt.tight_layout()\n",
    "plt.show()\n"
   ]
  },
  {
   "cell_type": "markdown",
   "id": "8ae49e12",
   "metadata": {},
   "source": [
    "#### Step 4f : Aircraft Make by Level of Damage"
   ]
  },
  {
   "cell_type": "code",
   "execution_count": null,
   "id": "24986213",
   "metadata": {},
   "outputs": [
    {
     "data": {
      "text/plain": [
       "0          Destroyed\n",
       "1          Destroyed\n",
       "2          Destroyed\n",
       "3          Destroyed\n",
       "4          Destroyed\n",
       "            ...     \n",
       "90343    Substantial\n",
       "90344    Substantial\n",
       "90345    Substantial\n",
       "90346    Substantial\n",
       "90347    Substantial\n",
       "Name: Aircraft.damage, Length: 88958, dtype: object"
      ]
     },
     "execution_count": 35,
     "metadata": {},
     "output_type": "execute_result"
    }
   ],
   "source": [
    "cleaned_data['Aircraft.damage']"
   ]
  },
  {
   "cell_type": "code",
   "execution_count": null,
   "id": "4caf59aa",
   "metadata": {},
   "outputs": [
    {
     "ename": "KeyError",
     "evalue": "'MakeAircraft.damage'",
     "output_type": "error",
     "traceback": [
      "\u001b[1;31m---------------------------------------------------------------------------\u001b[0m",
      "\u001b[1;31mKeyError\u001b[0m                                  Traceback (most recent call last)",
      "\u001b[1;32m<ipython-input-38-650a9f0c57d2>\u001b[0m in \u001b[0;36m<module>\u001b[1;34m\u001b[0m\n\u001b[0;32m      1\u001b[0m damage_by_make = (\n\u001b[1;32m----> 2\u001b[1;33m     \u001b[0mcleaned_data\u001b[0m\u001b[1;33m[\u001b[0m\u001b[0mcleaned_data\u001b[0m\u001b[1;33m[\u001b[0m\u001b[1;34m'Aircraft.damage'\u001b[0m\u001b[1;33m]\u001b[0m\u001b[1;33m.\u001b[0m\u001b[0misin\u001b[0m\u001b[1;33m(\u001b[0m\u001b[1;33m[\u001b[0m\u001b[1;34m'Destroyed'\u001b[0m\u001b[1;33m,\u001b[0m \u001b[1;34m'Substantial'\u001b[0m\u001b[1;33m]\u001b[0m\u001b[1;33m)\u001b[0m\u001b[1;33m]\u001b[0m\u001b[1;33m\u001b[0m\u001b[1;33m\u001b[0m\u001b[0m\n\u001b[0m\u001b[0;32m      3\u001b[0m     \u001b[1;33m.\u001b[0m\u001b[0mgroupby\u001b[0m\u001b[1;33m(\u001b[0m\u001b[1;33m[\u001b[0m\u001b[1;34m'Make'\u001b[0m \u001b[1;34m'Aircraft.damage'\u001b[0m\u001b[1;33m]\u001b[0m\u001b[1;33m)\u001b[0m\u001b[1;33m\u001b[0m\u001b[1;33m\u001b[0m\u001b[0m\n\u001b[0;32m      4\u001b[0m     \u001b[1;33m.\u001b[0m\u001b[0msize\u001b[0m\u001b[1;33m(\u001b[0m\u001b[1;33m)\u001b[0m\u001b[1;33m\u001b[0m\u001b[1;33m\u001b[0m\u001b[0m\n\u001b[0;32m      5\u001b[0m     \u001b[1;33m.\u001b[0m\u001b[0mreset_index\u001b[0m\u001b[1;33m(\u001b[0m\u001b[0mname\u001b[0m\u001b[1;33m=\u001b[0m\u001b[1;34m'Damage_Count'\u001b[0m\u001b[1;33m)\u001b[0m\u001b[1;33m\u001b[0m\u001b[1;33m\u001b[0m\u001b[0m\n",
      "\u001b[1;32mc:\\Users\\Debbie\\AppData\\Local\\anaconda3\\envs\\learn-env\\lib\\site-packages\\pandas\\core\\frame.py\u001b[0m in \u001b[0;36mgroupby\u001b[1;34m(self, by, axis, level, as_index, sort, group_keys, squeeze, observed, dropna)\u001b[0m\n\u001b[0;32m   6509\u001b[0m         \u001b[0maxis\u001b[0m \u001b[1;33m=\u001b[0m \u001b[0mself\u001b[0m\u001b[1;33m.\u001b[0m\u001b[0m_get_axis_number\u001b[0m\u001b[1;33m(\u001b[0m\u001b[0maxis\u001b[0m\u001b[1;33m)\u001b[0m\u001b[1;33m\u001b[0m\u001b[1;33m\u001b[0m\u001b[0m\n\u001b[0;32m   6510\u001b[0m \u001b[1;33m\u001b[0m\u001b[0m\n\u001b[1;32m-> 6511\u001b[1;33m         return DataFrameGroupBy(\n\u001b[0m\u001b[0;32m   6512\u001b[0m             \u001b[0mobj\u001b[0m\u001b[1;33m=\u001b[0m\u001b[0mself\u001b[0m\u001b[1;33m,\u001b[0m\u001b[1;33m\u001b[0m\u001b[1;33m\u001b[0m\u001b[0m\n\u001b[0;32m   6513\u001b[0m             \u001b[0mkeys\u001b[0m\u001b[1;33m=\u001b[0m\u001b[0mby\u001b[0m\u001b[1;33m,\u001b[0m\u001b[1;33m\u001b[0m\u001b[1;33m\u001b[0m\u001b[0m\n",
      "\u001b[1;32mc:\\Users\\Debbie\\AppData\\Local\\anaconda3\\envs\\learn-env\\lib\\site-packages\\pandas\\core\\groupby\\groupby.py\u001b[0m in \u001b[0;36m__init__\u001b[1;34m(self, obj, keys, axis, level, grouper, exclusions, selection, as_index, sort, group_keys, squeeze, observed, mutated, dropna)\u001b[0m\n\u001b[0;32m    523\u001b[0m             \u001b[1;32mfrom\u001b[0m \u001b[0mpandas\u001b[0m\u001b[1;33m.\u001b[0m\u001b[0mcore\u001b[0m\u001b[1;33m.\u001b[0m\u001b[0mgroupby\u001b[0m\u001b[1;33m.\u001b[0m\u001b[0mgrouper\u001b[0m \u001b[1;32mimport\u001b[0m \u001b[0mget_grouper\u001b[0m\u001b[1;33m\u001b[0m\u001b[1;33m\u001b[0m\u001b[0m\n\u001b[0;32m    524\u001b[0m \u001b[1;33m\u001b[0m\u001b[0m\n\u001b[1;32m--> 525\u001b[1;33m             grouper, exclusions, obj = get_grouper(\n\u001b[0m\u001b[0;32m    526\u001b[0m                 \u001b[0mobj\u001b[0m\u001b[1;33m,\u001b[0m\u001b[1;33m\u001b[0m\u001b[1;33m\u001b[0m\u001b[0m\n\u001b[0;32m    527\u001b[0m                 \u001b[0mkeys\u001b[0m\u001b[1;33m,\u001b[0m\u001b[1;33m\u001b[0m\u001b[1;33m\u001b[0m\u001b[0m\n",
      "\u001b[1;32mc:\\Users\\Debbie\\AppData\\Local\\anaconda3\\envs\\learn-env\\lib\\site-packages\\pandas\\core\\groupby\\grouper.py\u001b[0m in \u001b[0;36mget_grouper\u001b[1;34m(obj, key, axis, level, sort, observed, mutated, validate, dropna)\u001b[0m\n\u001b[0;32m    779\u001b[0m                 \u001b[0min_axis\u001b[0m\u001b[1;33m,\u001b[0m \u001b[0mname\u001b[0m\u001b[1;33m,\u001b[0m \u001b[0mlevel\u001b[0m\u001b[1;33m,\u001b[0m \u001b[0mgpr\u001b[0m \u001b[1;33m=\u001b[0m \u001b[1;32mFalse\u001b[0m\u001b[1;33m,\u001b[0m \u001b[1;32mNone\u001b[0m\u001b[1;33m,\u001b[0m \u001b[0mgpr\u001b[0m\u001b[1;33m,\u001b[0m \u001b[1;32mNone\u001b[0m\u001b[1;33m\u001b[0m\u001b[1;33m\u001b[0m\u001b[0m\n\u001b[0;32m    780\u001b[0m             \u001b[1;32melse\u001b[0m\u001b[1;33m:\u001b[0m\u001b[1;33m\u001b[0m\u001b[1;33m\u001b[0m\u001b[0m\n\u001b[1;32m--> 781\u001b[1;33m                 \u001b[1;32mraise\u001b[0m \u001b[0mKeyError\u001b[0m\u001b[1;33m(\u001b[0m\u001b[0mgpr\u001b[0m\u001b[1;33m)\u001b[0m\u001b[1;33m\u001b[0m\u001b[1;33m\u001b[0m\u001b[0m\n\u001b[0m\u001b[0;32m    782\u001b[0m         \u001b[1;32melif\u001b[0m \u001b[0misinstance\u001b[0m\u001b[1;33m(\u001b[0m\u001b[0mgpr\u001b[0m\u001b[1;33m,\u001b[0m \u001b[0mGrouper\u001b[0m\u001b[1;33m)\u001b[0m \u001b[1;32mand\u001b[0m \u001b[0mgpr\u001b[0m\u001b[1;33m.\u001b[0m\u001b[0mkey\u001b[0m \u001b[1;32mis\u001b[0m \u001b[1;32mnot\u001b[0m \u001b[1;32mNone\u001b[0m\u001b[1;33m:\u001b[0m\u001b[1;33m\u001b[0m\u001b[1;33m\u001b[0m\u001b[0m\n\u001b[0;32m    783\u001b[0m             \u001b[1;31m# Add key to exclusions\u001b[0m\u001b[1;33m\u001b[0m\u001b[1;33m\u001b[0m\u001b[1;33m\u001b[0m\u001b[0m\n",
      "\u001b[1;31mKeyError\u001b[0m: 'MakeAircraft.damage'"
     ]
    }
   ],
   "source": [
    "damage_by_make = (\n",
    "    cleaned_data[cleaned_data['Aircraft.damage'].isin(['Destroyed', 'Substantial'])]\n",
    "    .groupby(['Make' 'Aircraft.damage'])\n",
    "    .size()\n",
    "    .reset_index(name='Damage_Count')\n",
    ")"
   ]
  },
  {
   "cell_type": "code",
   "execution_count": null,
   "id": "0734536e",
   "metadata": {},
   "outputs": [],
   "source": [
    "pivot_damage = damage_by_make.pivot_table(\n",
    "    index='Make',\n",
    "    columns='Aircraft.damage',\n",
    "    values='Damage_Count',\n",
    "    fill_value=0\n",
    ").reset_index()\n"
   ]
  },
  {
   "cell_type": "code",
   "execution_count": null,
   "id": "412afd9e",
   "metadata": {},
   "outputs": [],
   "source": [
    "top_damage_comparison = pivot_damage[(pivot_damage['Destroyed'] > 0) | (pivot_damage['Substantial'] > 0)].sort_values(\n",
    "    by=['Destroyed', 'Substantial'], ascending=False\n",
    ").head(15)\n"
   ]
  },
  {
   "cell_type": "code",
   "execution_count": null,
   "id": "0b1974f0",
   "metadata": {},
   "outputs": [
    {
     "data": {
      "image/png": "[encoded data removed]",
      "text/plain": [
       "<Figure size 1008x432 with 1 Axes>"
      ]
     },
     "metadata": {},
     "output_type": "display_data"
    }
   ],
   "source": [
    "top_damage_comparison.set_index(['Make'])[['Destroyed', 'Substantial']].plot(\n",
    "    kind='bar', figsize=(14, 6), color=['crimson', 'orange']\n",
    ")\n",
    "plt.title('Top Aircraft Makes by Damage Severity')\n",
    "plt.xlabel('Aircraft Make')\n",
    "plt.ylabel('Number of Incidents')\n",
    "plt.xticks(rotation=45, ha='right')\n",
    "plt.legend(title='Damage Type')\n",
    "plt.tight_layout()\n",
    "plt.show()\n"
   ]
  },
  {
   "cell_type": "markdown",
   "id": "831fa7b1",
   "metadata": {},
   "source": [
    "#### Step 4g : Purpose of Flight and Safety Analysis"
   ]
  },
  {
   "cell_type": "code",
   "execution_count": null,
   "id": "19ed5e7a",
   "metadata": {},
   "outputs": [
    {
     "data": {
      "text/plain": [
       "Personal                     62511\n",
       "Instructional                10601\n",
       "Aerial application            4712\n",
       "Business                      4018\n",
       "Positioning                   1646\n",
       "Other work use                1264\n",
       "Ferry                          812\n",
       "Aerial observation             794\n",
       "Public aircraft                720\n",
       "Executive/corporate            553\n",
       "Flight test                    405\n",
       "Skydiving                      182\n",
       "External load                  123\n",
       "Public aircraft - federal      105\n",
       "Banner tow                     101\n",
       "Air race show                   99\n",
       "Public aircraft - local         74\n",
       "Public aircraft - state         64\n",
       "Air race/show                   59\n",
       "Glider tow                      53\n",
       "Firefighting                    40\n",
       "Air drop                        11\n",
       "Asho                             6\n",
       "Pubs                             4\n",
       "Publ                             1\n",
       "Name: Purpose.of.flight, dtype: int64"
      ]
     },
     "execution_count": 54,
     "metadata": {},
     "output_type": "execute_result"
    }
   ],
   "source": [
    "# View unique purposes\n",
    "cleaned_data['Purpose.of.flight'].value_counts()\n"
   ]
  },
  {
   "cell_type": "code",
   "execution_count": null,
   "id": "cb55863b",
   "metadata": {},
   "outputs": [
    {
     "data": {
      "text/html": [
       "<div>\n",
       "<style scoped>\n",
       "    .dataframe tbody tr th:only-of-type {\n",
       "        vertical-align: middle;\n",
       "    }\n",
       "\n",
       "    .dataframe tbody tr th {\n",
       "        vertical-align: top;\n",
       "    }\n",
       "\n",
       "    .dataframe thead th {\n",
       "        text-align: right;\n",
       "    }\n",
       "</style>\n",
       "<table border=\"1\" class=\"dataframe\">\n",
       "  <thead>\n",
       "    <tr style=\"text-align: right;\">\n",
       "      <th></th>\n",
       "      <th>Make</th>\n",
       "      <th>Model</th>\n",
       "      <th>Purpose.of.flight</th>\n",
       "      <th>Flight_Count</th>\n",
       "    </tr>\n",
       "  </thead>\n",
       "  <tbody>\n",
       "    <tr>\n",
       "      <th>6274</th>\n",
       "      <td>Cessna</td>\n",
       "      <td>152</td>\n",
       "      <td>Instructional</td>\n",
       "      <td>1444</td>\n",
       "    </tr>\n",
       "    <tr>\n",
       "      <th>6331</th>\n",
       "      <td>Cessna</td>\n",
       "      <td>172</td>\n",
       "      <td>Personal</td>\n",
       "      <td>1203</td>\n",
       "    </tr>\n",
       "    <tr>\n",
       "      <th>6276</th>\n",
       "      <td>Cessna</td>\n",
       "      <td>152</td>\n",
       "      <td>Personal</td>\n",
       "      <td>979</td>\n",
       "    </tr>\n",
       "    <tr>\n",
       "      <th>6453</th>\n",
       "      <td>Cessna</td>\n",
       "      <td>172n</td>\n",
       "      <td>Personal</td>\n",
       "      <td>734</td>\n",
       "    </tr>\n",
       "    <tr>\n",
       "      <th>17766</th>\n",
       "      <td>Piper</td>\n",
       "      <td>Pa-28-140</td>\n",
       "      <td>Personal</td>\n",
       "      <td>703</td>\n",
       "    </tr>\n",
       "    <tr>\n",
       "      <th>6444</th>\n",
       "      <td>Cessna</td>\n",
       "      <td>172m</td>\n",
       "      <td>Personal</td>\n",
       "      <td>572</td>\n",
       "    </tr>\n",
       "    <tr>\n",
       "      <th>6558</th>\n",
       "      <td>Cessna</td>\n",
       "      <td>180</td>\n",
       "      <td>Personal</td>\n",
       "      <td>549</td>\n",
       "    </tr>\n",
       "    <tr>\n",
       "      <th>6183</th>\n",
       "      <td>Cessna</td>\n",
       "      <td>150</td>\n",
       "      <td>Personal</td>\n",
       "      <td>528</td>\n",
       "    </tr>\n",
       "    <tr>\n",
       "      <th>6622</th>\n",
       "      <td>Cessna</td>\n",
       "      <td>182</td>\n",
       "      <td>Personal</td>\n",
       "      <td>513</td>\n",
       "    </tr>\n",
       "    <tr>\n",
       "      <th>4621</th>\n",
       "      <td>Boeing</td>\n",
       "      <td>737</td>\n",
       "      <td>Personal</td>\n",
       "      <td>485</td>\n",
       "    </tr>\n",
       "  </tbody>\n",
       "</table>\n",
       "</div>"
      ],
      "text/plain": [
       "         Make      Model Purpose.of.flight  Flight_Count\n",
       "6274   Cessna        152     Instructional          1444\n",
       "6331   Cessna        172          Personal          1203\n",
       "6276   Cessna        152          Personal           979\n",
       "6453   Cessna       172n          Personal           734\n",
       "17766   Piper  Pa-28-140          Personal           703\n",
       "6444   Cessna       172m          Personal           572\n",
       "6558   Cessna        180          Personal           549\n",
       "6183   Cessna        150          Personal           528\n",
       "6622   Cessna        182          Personal           513\n",
       "4621   Boeing        737          Personal           485"
      ]
     },
     "execution_count": 55,
     "metadata": {},
     "output_type": "execute_result"
    }
   ],
   "source": [
    "usage_by_model_purpose = cleaned_data.groupby(['Make','Model', 'Purpose.of.flight']).size().reset_index(name='Flight_Count')\n",
    "usage_by_model_purpose = usage_by_model_purpose.sort_values(by='Flight_Count', ascending=False)[:10]  # Top 10\n",
    "usage_by_model_purpose.head(10)  # Display top 10 rows\n"
   ]
  },
  {
   "cell_type": "code",
   "execution_count": null,
   "id": "15b32dda",
   "metadata": {},
   "outputs": [],
   "source": [
    "safety_by_purpose = cleaned_data.groupby(['Make', 'Model', 'Purpose.of.flight']).agg({\n",
    "    'Total.Fatal.Injuries': 'sum',\n",
    "    'Total.Serious.Injuries': 'sum',\n",
    "    'Total.Minor.Injuries': 'sum',\n",
    "    'Aircraft.damage': lambda x: (x == 'Destroyed').sum(),\n",
    "    'Event.Id': 'count'\n",
    "}).reset_index().rename(columns={'Event.Id': 'Accident_Count'})\n",
    "\n",
    "# Calculate injury rate and damage rate\n",
    "safety_by_purpose['Total_Injuries'] = safety_by_purpose['Total.Fatal.Injuries'] + safety_by_purpose['Total.Serious.Injuries'] + safety_by_purpose['Total.Minor.Injuries']\n",
    "safety_by_purpose['Injury_Rate'] = safety_by_purpose['Total_Injuries'] / safety_by_purpose['Accident_Count']\n",
    "safety_by_purpose['Destroyed_Rate'] = safety_by_purpose['Aircraft.damage'] / safety_by_purpose['Accident_Count']\n"
   ]
  },
  {
   "cell_type": "code",
   "execution_count": null,
   "id": "cdc50a5e",
   "metadata": {},
   "outputs": [
    {
     "data": {
      "text/plain": [
       "Text(0.5, 0, 'Injury Rate')"
      ]
     },
     "execution_count": 58,
     "metadata": {},
     "output_type": "execute_result"
    },
    {
     "data": {
      "image/png": "[encoded data removed]",
      "text/plain": [
       "<Figure size 864x432 with 1 Axes>"
      ]
     },
     "metadata": {},
     "output_type": "display_data"
    }
   ],
   "source": [
    "filtered = safety_by_purpose[safety_by_purpose['Accident_Count'] >= 5]\n",
    "filtered = filtered.sort_values(by='Injury_Rate', ascending=False).head(10)  # Top 10 by injury rate\n",
    "plt.figure(figsize=(12, 6))\n",
    "sns.barplot(data=filtered, x='Injury_Rate', y='Make', palette='viridis')\n",
    "plt.title('Top 10 Aircraft Makes by Injury Rate')\n",
    "plt.xlabel('Injury Rate')   "
   ]
  },
  {
   "cell_type": "code",
   "execution_count": null,
   "id": "0e54077b",
   "metadata": {},
   "outputs": [],
   "source": []
  }
 ],
 "metadata": {
  "kernelspec": {
   "display_name": "learn-env",
   "language": "python",
   "name": "python3"
  },
  "language_info": {
   "codemirror_mode": {
    "name": "ipython",
    "version": 3
   },
   "file_extension": ".py",
   "mimetype": "text/x-python",
   "name": "python",
   "nbconvert_exporter": "python",
   "pygments_lexer": "ipython3",
   "version": "3.8.5"
  }
 },
 "nbformat": 4,
 "nbformat_minor": 5
}
