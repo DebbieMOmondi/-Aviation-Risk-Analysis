{
 "cells": [
  {
   "cell_type": "markdown",
   "id": "ce6a2ea9",
   "metadata": {},
   "source": [
    "# Aircraft Risk Analysis Project - Phase 1"
   ]
  },
  {
   "cell_type": "markdown",
   "id": "6fcc10fb",
   "metadata": {},
   "source": [
    "## Introduction\n",
    "\n",
    "\n",
    "In today's fast-evolving business landscape, diversification is key to staying competitive. This project explores a scenario where a company is looking to expand into the aviation industry—an exciting but high-risk move. While the aviation sector holds strong potential for both commercial and private enterprise, safety remains a top concern, especially for new entrants with limited industry experience.\n",
    "\n",
    "The goal of this project is to use data science techniques to help the company make informed, data-driven decisions as it considers which aircraft to invest in. By examining historical accident data, we can uncover patterns, evaluate safety records, and highlight aircraft models that pose the least operational risk.\n",
    "\n",
    "This project serves as both a business case and a demonstration of key data science skills: data cleaning, missing value imputation, exploratory data analysis, and visualization. The final output will include actionable insights and an interactive dashboard designed to support decision-making by the company’s new aviation division.\n",
    "\n"
   ]
  },
  {
   "cell_type": "markdown",
   "id": "58592891",
   "metadata": {},
   "source": [
    "## Objectives\n",
    "\n",
    "- Understand trends in aircraft accidents over time  \n",
    "- Identify aircraft with the lowest risk profiles  \n",
    "- Handle missing data and perform necessary cleaning  \n",
    "- Present insights using clear visualizations  \n",
    "- Build an interactive dashboard for stakeholders"
   ]
  },
  {
   "cell_type": "markdown",
   "id": "ffe461da",
   "metadata": {},
   "source": [
    "## Data Source\n",
    "\n",
    "The dataset comes from the National Transportation Safety Board (NTSB) and includes records of civil aviation accidents and selected incidents in the United States and international waters from 1962 to 2023."
   ]
  },
  {
   "cell_type": "markdown",
   "id": "d3981f2c",
   "metadata": {},
   "source": [
    "## Tools & Libraries\n",
    "\n",
    "- Python (Pandas, NumPy, Matplotlib, Seaborn)\n",
    "- Jupyter Notebook\n",
    "- Data cleaning and wrangling\n",
    "- Exploratory data analysis (EDA)"
   ]
  },
  {
   "cell_type": "markdown",
   "id": "4a831a33",
   "metadata": {},
   "source": [
    "### Step 1 : Import Libraries"
   ]
  },
  {
   "cell_type": "code",
   "execution_count": 40,
   "id": "42581759",
   "metadata": {},
   "outputs": [],
   "source": [
    "#Importing libraries using standard alias\n",
    "import pandas as pd\n",
    "import numpy as np\n",
    "import matplotlib.pyplot as plt\n",
    "import seaborn as sns\n",
    "\n",
    "%matplotlib inline"
   ]
  },
  {
   "cell_type": "markdown",
   "id": "52a423c4",
   "metadata": {},
   "source": [
    "### Step 2 : Load and Inspect Data"
   ]
  },
  {
   "cell_type": "code",
   "execution_count": 41,
   "id": "89be5ad9",
   "metadata": {},
   "outputs": [
    {
     "data": {
      "text/html": [
       "<div>\n",
       "<style scoped>\n",
       "    .dataframe tbody tr th:only-of-type {\n",
       "        vertical-align: middle;\n",
       "    }\n",
       "\n",
       "    .dataframe tbody tr th {\n",
       "        vertical-align: top;\n",
       "    }\n",
       "\n",
       "    .dataframe thead th {\n",
       "        text-align: right;\n",
       "    }\n",
       "</style>\n",
       "<table border=\"1\" class=\"dataframe\">\n",
       "  <thead>\n",
       "    <tr style=\"text-align: right;\">\n",
       "      <th></th>\n",
       "      <th>Event.Id</th>\n",
       "      <th>Investigation.Type</th>\n",
       "      <th>Accident.Number</th>\n",
       "      <th>Event.Date</th>\n",
       "      <th>Location</th>\n",
       "      <th>Country</th>\n",
       "      <th>Latitude</th>\n",
       "      <th>Longitude</th>\n",
       "      <th>Airport.Code</th>\n",
       "      <th>Airport.Name</th>\n",
       "      <th>...</th>\n",
       "      <th>Purpose.of.flight</th>\n",
       "      <th>Air.carrier</th>\n",
       "      <th>Total.Fatal.Injuries</th>\n",
       "      <th>Total.Serious.Injuries</th>\n",
       "      <th>Total.Minor.Injuries</th>\n",
       "      <th>Total.Uninjured</th>\n",
       "      <th>Weather.Condition</th>\n",
       "      <th>Broad.phase.of.flight</th>\n",
       "      <th>Report.Status</th>\n",
       "      <th>Publication.Date</th>\n",
       "    </tr>\n",
       "  </thead>\n",
       "  <tbody>\n",
       "    <tr>\n",
       "      <th>0</th>\n",
       "      <td>20001218X45444</td>\n",
       "      <td>Accident</td>\n",
       "      <td>SEA87LA080</td>\n",
       "      <td>1948-10-24</td>\n",
       "      <td>MOOSE CREEK, ID</td>\n",
       "      <td>United States</td>\n",
       "      <td>NaN</td>\n",
       "      <td>NaN</td>\n",
       "      <td>NaN</td>\n",
       "      <td>NaN</td>\n",
       "      <td>...</td>\n",
       "      <td>Personal</td>\n",
       "      <td>NaN</td>\n",
       "      <td>2.0</td>\n",
       "      <td>0.0</td>\n",
       "      <td>0.0</td>\n",
       "      <td>0.0</td>\n",
       "      <td>UNK</td>\n",
       "      <td>Cruise</td>\n",
       "      <td>Probable Cause</td>\n",
       "      <td>NaN</td>\n",
       "    </tr>\n",
       "    <tr>\n",
       "      <th>1</th>\n",
       "      <td>20001218X45447</td>\n",
       "      <td>Accident</td>\n",
       "      <td>LAX94LA336</td>\n",
       "      <td>1962-07-19</td>\n",
       "      <td>BRIDGEPORT, CA</td>\n",
       "      <td>United States</td>\n",
       "      <td>NaN</td>\n",
       "      <td>NaN</td>\n",
       "      <td>NaN</td>\n",
       "      <td>NaN</td>\n",
       "      <td>...</td>\n",
       "      <td>Personal</td>\n",
       "      <td>NaN</td>\n",
       "      <td>4.0</td>\n",
       "      <td>0.0</td>\n",
       "      <td>0.0</td>\n",
       "      <td>0.0</td>\n",
       "      <td>UNK</td>\n",
       "      <td>NaN</td>\n",
       "      <td>Probable Cause</td>\n",
       "      <td>19-09-1996</td>\n",
       "    </tr>\n",
       "    <tr>\n",
       "      <th>2</th>\n",
       "      <td>20061025X01555</td>\n",
       "      <td>Accident</td>\n",
       "      <td>NYC07LA005</td>\n",
       "      <td>1974-08-30</td>\n",
       "      <td>Saltville, VA</td>\n",
       "      <td>United States</td>\n",
       "      <td>36.922223</td>\n",
       "      <td>-81.878056</td>\n",
       "      <td>NaN</td>\n",
       "      <td>NaN</td>\n",
       "      <td>...</td>\n",
       "      <td>Personal</td>\n",
       "      <td>NaN</td>\n",
       "      <td>3.0</td>\n",
       "      <td>NaN</td>\n",
       "      <td>NaN</td>\n",
       "      <td>NaN</td>\n",
       "      <td>IMC</td>\n",
       "      <td>Cruise</td>\n",
       "      <td>Probable Cause</td>\n",
       "      <td>26-02-2007</td>\n",
       "    </tr>\n",
       "    <tr>\n",
       "      <th>3</th>\n",
       "      <td>20001218X45448</td>\n",
       "      <td>Accident</td>\n",
       "      <td>LAX96LA321</td>\n",
       "      <td>1977-06-19</td>\n",
       "      <td>EUREKA, CA</td>\n",
       "      <td>United States</td>\n",
       "      <td>NaN</td>\n",
       "      <td>NaN</td>\n",
       "      <td>NaN</td>\n",
       "      <td>NaN</td>\n",
       "      <td>...</td>\n",
       "      <td>Personal</td>\n",
       "      <td>NaN</td>\n",
       "      <td>2.0</td>\n",
       "      <td>0.0</td>\n",
       "      <td>0.0</td>\n",
       "      <td>0.0</td>\n",
       "      <td>IMC</td>\n",
       "      <td>Cruise</td>\n",
       "      <td>Probable Cause</td>\n",
       "      <td>12-09-2000</td>\n",
       "    </tr>\n",
       "    <tr>\n",
       "      <th>4</th>\n",
       "      <td>20041105X01764</td>\n",
       "      <td>Accident</td>\n",
       "      <td>CHI79FA064</td>\n",
       "      <td>1979-08-02</td>\n",
       "      <td>Canton, OH</td>\n",
       "      <td>United States</td>\n",
       "      <td>NaN</td>\n",
       "      <td>NaN</td>\n",
       "      <td>NaN</td>\n",
       "      <td>NaN</td>\n",
       "      <td>...</td>\n",
       "      <td>Personal</td>\n",
       "      <td>NaN</td>\n",
       "      <td>1.0</td>\n",
       "      <td>2.0</td>\n",
       "      <td>NaN</td>\n",
       "      <td>0.0</td>\n",
       "      <td>VMC</td>\n",
       "      <td>Approach</td>\n",
       "      <td>Probable Cause</td>\n",
       "      <td>16-04-1980</td>\n",
       "    </tr>\n",
       "  </tbody>\n",
       "</table>\n",
       "<p>5 rows × 31 columns</p>\n",
       "</div>"
      ],
      "text/plain": [
       "         Event.Id Investigation.Type Accident.Number  Event.Date  \\\n",
       "0  20001218X45444           Accident      SEA87LA080  1948-10-24   \n",
       "1  20001218X45447           Accident      LAX94LA336  1962-07-19   \n",
       "2  20061025X01555           Accident      NYC07LA005  1974-08-30   \n",
       "3  20001218X45448           Accident      LAX96LA321  1977-06-19   \n",
       "4  20041105X01764           Accident      CHI79FA064  1979-08-02   \n",
       "\n",
       "          Location        Country   Latitude   Longitude Airport.Code  \\\n",
       "0  MOOSE CREEK, ID  United States        NaN         NaN          NaN   \n",
       "1   BRIDGEPORT, CA  United States        NaN         NaN          NaN   \n",
       "2    Saltville, VA  United States  36.922223  -81.878056          NaN   \n",
       "3       EUREKA, CA  United States        NaN         NaN          NaN   \n",
       "4       Canton, OH  United States        NaN         NaN          NaN   \n",
       "\n",
       "  Airport.Name  ... Purpose.of.flight Air.carrier Total.Fatal.Injuries  \\\n",
       "0          NaN  ...          Personal         NaN                  2.0   \n",
       "1          NaN  ...          Personal         NaN                  4.0   \n",
       "2          NaN  ...          Personal         NaN                  3.0   \n",
       "3          NaN  ...          Personal         NaN                  2.0   \n",
       "4          NaN  ...          Personal         NaN                  1.0   \n",
       "\n",
       "  Total.Serious.Injuries Total.Minor.Injuries Total.Uninjured  \\\n",
       "0                    0.0                  0.0             0.0   \n",
       "1                    0.0                  0.0             0.0   \n",
       "2                    NaN                  NaN             NaN   \n",
       "3                    0.0                  0.0             0.0   \n",
       "4                    2.0                  NaN             0.0   \n",
       "\n",
       "  Weather.Condition  Broad.phase.of.flight   Report.Status Publication.Date  \n",
       "0               UNK                 Cruise  Probable Cause              NaN  \n",
       "1               UNK                    NaN  Probable Cause       19-09-1996  \n",
       "2               IMC                 Cruise  Probable Cause       26-02-2007  \n",
       "3               IMC                 Cruise  Probable Cause       12-09-2000  \n",
       "4               VMC               Approach  Probable Cause       16-04-1980  \n",
       "\n",
       "[5 rows x 31 columns]"
      ]
     },
     "execution_count": 41,
     "metadata": {},
     "output_type": "execute_result"
    }
   ],
   "source": [
    "#Loading the csv file into the notebook\n",
    "#Adding low_memory=False to allow pandas to read the full file before deciding datatypes\n",
    "#Telling pandas to treat ? , Unknown , N/A and blank spaces as missing values\n",
    "data= pd.read_csv('data/Aviation_Data.csv', low_memory=False, na_values=['?', 'Unknown', 'N/A', ''])\n",
    "\n",
    "#Inspect the first 5 rows of the dataset\n",
    "data.head()"
   ]
  },
  {
   "cell_type": "code",
   "execution_count": 42,
   "id": "db65d5d3",
   "metadata": {},
   "outputs": [
    {
     "name": "stdout",
     "output_type": "stream",
     "text": [
      "The dataset contains 90348 rows and 31 columns.\n"
     ]
    }
   ],
   "source": [
    "# Checking the number of rows and columns in the dataset\n",
    "data.shape\n",
    "\n",
    "# Displaying the dataset's dimensions (rows, columns)\n",
    "print(f\"The dataset contains {data.shape[0]} rows and {data.shape[1]} columns.\")\n"
   ]
  },
  {
   "cell_type": "code",
   "execution_count": 43,
   "id": "0b434748",
   "metadata": {},
   "outputs": [
    {
     "name": "stdout",
     "output_type": "stream",
     "text": [
      "<class 'pandas.core.frame.DataFrame'>\n",
      "RangeIndex: 90348 entries, 0 to 90347\n",
      "Data columns (total 31 columns):\n",
      " #   Column                  Non-Null Count  Dtype  \n",
      "---  ------                  --------------  -----  \n",
      " 0   Event.Id                88889 non-null  object \n",
      " 1   Investigation.Type      90348 non-null  object \n",
      " 2   Accident.Number         88889 non-null  object \n",
      " 3   Event.Date              88889 non-null  object \n",
      " 4   Location                88836 non-null  object \n",
      " 5   Country                 88660 non-null  object \n",
      " 6   Latitude                34382 non-null  object \n",
      " 7   Longitude               34373 non-null  object \n",
      " 8   Airport.Code            50249 non-null  object \n",
      " 9   Airport.Name            52783 non-null  object \n",
      " 10  Injury.Severity         87889 non-null  object \n",
      " 11  Aircraft.damage         85576 non-null  object \n",
      " 12  Aircraft.Category       32273 non-null  object \n",
      " 13  Registration.Number     87569 non-null  object \n",
      " 14  Make                    88805 non-null  object \n",
      " 15  Model                   88796 non-null  object \n",
      " 16  Amateur.Built           88787 non-null  object \n",
      " 17  Number.of.Engines       82805 non-null  float64\n",
      " 18  Engine.Type             79761 non-null  object \n",
      " 19  FAR.Description         32001 non-null  object \n",
      " 20  Schedule                12582 non-null  object \n",
      " 21  Purpose.of.flight       75895 non-null  object \n",
      " 22  Air.carrier             16634 non-null  object \n",
      " 23  Total.Fatal.Injuries    77488 non-null  float64\n",
      " 24  Total.Serious.Injuries  76379 non-null  float64\n",
      " 25  Total.Minor.Injuries    76956 non-null  float64\n",
      " 26  Total.Uninjured         82977 non-null  float64\n",
      " 27  Weather.Condition       84397 non-null  object \n",
      " 28  Broad.phase.of.flight   61176 non-null  object \n",
      " 29  Report.Status           82508 non-null  object \n",
      " 30  Publication.Date        73659 non-null  object \n",
      "dtypes: float64(5), object(26)\n",
      "memory usage: 21.4+ MB\n"
     ]
    }
   ],
   "source": [
    "# Getting a summary of the dataset\n",
    "data.info()"
   ]
  },
  {
   "cell_type": "code",
   "execution_count": 44,
   "id": "8b0ac188",
   "metadata": {},
   "outputs": [
    {
     "data": {
      "text/plain": [
       "Index(['Event.Id', 'Investigation.Type', 'Accident.Number', 'Event.Date',\n",
       "       'Location', 'Country', 'Latitude', 'Longitude', 'Airport.Code',\n",
       "       'Airport.Name', 'Injury.Severity', 'Aircraft.damage',\n",
       "       'Aircraft.Category', 'Registration.Number', 'Make', 'Model',\n",
       "       'Amateur.Built', 'Number.of.Engines', 'Engine.Type', 'FAR.Description',\n",
       "       'Schedule', 'Purpose.of.flight', 'Air.carrier', 'Total.Fatal.Injuries',\n",
       "       'Total.Serious.Injuries', 'Total.Minor.Injuries', 'Total.Uninjured',\n",
       "       'Weather.Condition', 'Broad.phase.of.flight', 'Report.Status',\n",
       "       'Publication.Date'],\n",
       "      dtype='object')"
      ]
     },
     "execution_count": 44,
     "metadata": {},
     "output_type": "execute_result"
    }
   ],
   "source": [
    "#Looking at all columns present\n",
    "data.columns"
   ]
  },
  {
   "cell_type": "code",
   "execution_count": 45,
   "id": "93166d74",
   "metadata": {},
   "outputs": [
    {
     "data": {
      "text/html": [
       "<div>\n",
       "<style scoped>\n",
       "    .dataframe tbody tr th:only-of-type {\n",
       "        vertical-align: middle;\n",
       "    }\n",
       "\n",
       "    .dataframe tbody tr th {\n",
       "        vertical-align: top;\n",
       "    }\n",
       "\n",
       "    .dataframe thead th {\n",
       "        text-align: right;\n",
       "    }\n",
       "</style>\n",
       "<table border=\"1\" class=\"dataframe\">\n",
       "  <thead>\n",
       "    <tr style=\"text-align: right;\">\n",
       "      <th></th>\n",
       "      <th>Number.of.Engines</th>\n",
       "      <th>Total.Fatal.Injuries</th>\n",
       "      <th>Total.Serious.Injuries</th>\n",
       "      <th>Total.Minor.Injuries</th>\n",
       "      <th>Total.Uninjured</th>\n",
       "    </tr>\n",
       "  </thead>\n",
       "  <tbody>\n",
       "    <tr>\n",
       "      <th>count</th>\n",
       "      <td>82805.000000</td>\n",
       "      <td>77488.000000</td>\n",
       "      <td>76379.000000</td>\n",
       "      <td>76956.000000</td>\n",
       "      <td>82977.000000</td>\n",
       "    </tr>\n",
       "    <tr>\n",
       "      <th>mean</th>\n",
       "      <td>1.146585</td>\n",
       "      <td>0.647855</td>\n",
       "      <td>0.279881</td>\n",
       "      <td>0.357061</td>\n",
       "      <td>5.325440</td>\n",
       "    </tr>\n",
       "    <tr>\n",
       "      <th>std</th>\n",
       "      <td>0.446510</td>\n",
       "      <td>5.485960</td>\n",
       "      <td>1.544084</td>\n",
       "      <td>2.235625</td>\n",
       "      <td>27.913634</td>\n",
       "    </tr>\n",
       "    <tr>\n",
       "      <th>min</th>\n",
       "      <td>0.000000</td>\n",
       "      <td>0.000000</td>\n",
       "      <td>0.000000</td>\n",
       "      <td>0.000000</td>\n",
       "      <td>0.000000</td>\n",
       "    </tr>\n",
       "    <tr>\n",
       "      <th>25%</th>\n",
       "      <td>1.000000</td>\n",
       "      <td>0.000000</td>\n",
       "      <td>0.000000</td>\n",
       "      <td>0.000000</td>\n",
       "      <td>0.000000</td>\n",
       "    </tr>\n",
       "    <tr>\n",
       "      <th>50%</th>\n",
       "      <td>1.000000</td>\n",
       "      <td>0.000000</td>\n",
       "      <td>0.000000</td>\n",
       "      <td>0.000000</td>\n",
       "      <td>1.000000</td>\n",
       "    </tr>\n",
       "    <tr>\n",
       "      <th>75%</th>\n",
       "      <td>1.000000</td>\n",
       "      <td>0.000000</td>\n",
       "      <td>0.000000</td>\n",
       "      <td>0.000000</td>\n",
       "      <td>2.000000</td>\n",
       "    </tr>\n",
       "    <tr>\n",
       "      <th>max</th>\n",
       "      <td>8.000000</td>\n",
       "      <td>349.000000</td>\n",
       "      <td>161.000000</td>\n",
       "      <td>380.000000</td>\n",
       "      <td>699.000000</td>\n",
       "    </tr>\n",
       "  </tbody>\n",
       "</table>\n",
       "</div>"
      ],
      "text/plain": [
       "       Number.of.Engines  Total.Fatal.Injuries  Total.Serious.Injuries  \\\n",
       "count       82805.000000          77488.000000            76379.000000   \n",
       "mean            1.146585              0.647855                0.279881   \n",
       "std             0.446510              5.485960                1.544084   \n",
       "min             0.000000              0.000000                0.000000   \n",
       "25%             1.000000              0.000000                0.000000   \n",
       "50%             1.000000              0.000000                0.000000   \n",
       "75%             1.000000              0.000000                0.000000   \n",
       "max             8.000000            349.000000              161.000000   \n",
       "\n",
       "       Total.Minor.Injuries  Total.Uninjured  \n",
       "count          76956.000000     82977.000000  \n",
       "mean               0.357061         5.325440  \n",
       "std                2.235625        27.913634  \n",
       "min                0.000000         0.000000  \n",
       "25%                0.000000         0.000000  \n",
       "50%                0.000000         1.000000  \n",
       "75%                0.000000         2.000000  \n",
       "max              380.000000       699.000000  "
      ]
     },
     "execution_count": 45,
     "metadata": {},
     "output_type": "execute_result"
    }
   ],
   "source": [
    "#Getting a summary statistics for numerical columns in the dataset\n",
    "data.describe()"
   ]
  },
  {
   "cell_type": "markdown",
   "id": "a6d7f50f",
   "metadata": {},
   "source": [
    "### Step 3 : Data Cleaning"
   ]
  },
  {
   "cell_type": "code",
   "execution_count": 46,
   "id": "de6ac2be",
   "metadata": {},
   "outputs": [],
   "source": [
    "# Creating a copy of the cleaned DataFrame to avoid modifying the original\n",
    "cleaned_data = data.copy()"
   ]
  },
  {
   "cell_type": "code",
   "execution_count": 47,
   "id": "134eab6b",
   "metadata": {},
   "outputs": [
    {
     "name": "stdout",
     "output_type": "stream",
     "text": [
      "<class 'pandas.core.frame.DataFrame'>\n",
      "RangeIndex: 90348 entries, 0 to 90347\n",
      "Data columns (total 31 columns):\n",
      " #   Column                  Non-Null Count  Dtype  \n",
      "---  ------                  --------------  -----  \n",
      " 0   Event.Id                88889 non-null  object \n",
      " 1   Investigation.Type      90348 non-null  object \n",
      " 2   Accident.Number         88889 non-null  object \n",
      " 3   Event.Date              88889 non-null  object \n",
      " 4   Location                88836 non-null  object \n",
      " 5   Country                 88660 non-null  object \n",
      " 6   Latitude                34382 non-null  object \n",
      " 7   Longitude               34373 non-null  object \n",
      " 8   Airport.Code            50249 non-null  object \n",
      " 9   Airport.Name            52783 non-null  object \n",
      " 10  Injury.Severity         87889 non-null  object \n",
      " 11  Aircraft.damage         85576 non-null  object \n",
      " 12  Aircraft.Category       32273 non-null  object \n",
      " 13  Registration.Number     87569 non-null  object \n",
      " 14  Make                    88805 non-null  object \n",
      " 15  Model                   88796 non-null  object \n",
      " 16  Amateur.Built           88787 non-null  object \n",
      " 17  Number.of.Engines       82805 non-null  float64\n",
      " 18  Engine.Type             79761 non-null  object \n",
      " 19  FAR.Description         32001 non-null  object \n",
      " 20  Schedule                12582 non-null  object \n",
      " 21  Purpose.of.flight       75895 non-null  object \n",
      " 22  Air.carrier             16634 non-null  object \n",
      " 23  Total.Fatal.Injuries    77488 non-null  float64\n",
      " 24  Total.Serious.Injuries  76379 non-null  float64\n",
      " 25  Total.Minor.Injuries    76956 non-null  float64\n",
      " 26  Total.Uninjured         82977 non-null  float64\n",
      " 27  Weather.Condition       84397 non-null  object \n",
      " 28  Broad.phase.of.flight   61176 non-null  object \n",
      " 29  Report.Status           82508 non-null  object \n",
      " 30  Publication.Date        73659 non-null  object \n",
      "dtypes: float64(5), object(26)\n",
      "memory usage: 21.4+ MB\n"
     ]
    }
   ],
   "source": [
    "#Inspecting cleaned data\n",
    "cleaned_data.info()"
   ]
  },
  {
   "cell_type": "code",
   "execution_count": 48,
   "id": "1dff1a1e",
   "metadata": {},
   "outputs": [
    {
     "data": {
      "text/html": [
       "<div>\n",
       "<style scoped>\n",
       "    .dataframe tbody tr th:only-of-type {\n",
       "        vertical-align: middle;\n",
       "    }\n",
       "\n",
       "    .dataframe tbody tr th {\n",
       "        vertical-align: top;\n",
       "    }\n",
       "\n",
       "    .dataframe thead th {\n",
       "        text-align: right;\n",
       "    }\n",
       "</style>\n",
       "<table border=\"1\" class=\"dataframe\">\n",
       "  <thead>\n",
       "    <tr style=\"text-align: right;\">\n",
       "      <th></th>\n",
       "      <th>Event.Date</th>\n",
       "      <th>Publication.Date</th>\n",
       "    </tr>\n",
       "  </thead>\n",
       "  <tbody>\n",
       "    <tr>\n",
       "      <th>0</th>\n",
       "      <td>1948-10-24</td>\n",
       "      <td>NaT</td>\n",
       "    </tr>\n",
       "    <tr>\n",
       "      <th>1</th>\n",
       "      <td>1962-07-19</td>\n",
       "      <td>1996-09-19</td>\n",
       "    </tr>\n",
       "    <tr>\n",
       "      <th>2</th>\n",
       "      <td>1974-08-30</td>\n",
       "      <td>2007-02-26</td>\n",
       "    </tr>\n",
       "    <tr>\n",
       "      <th>3</th>\n",
       "      <td>1977-06-19</td>\n",
       "      <td>2000-12-09</td>\n",
       "    </tr>\n",
       "    <tr>\n",
       "      <th>4</th>\n",
       "      <td>1979-08-02</td>\n",
       "      <td>1980-04-16</td>\n",
       "    </tr>\n",
       "  </tbody>\n",
       "</table>\n",
       "</div>"
      ],
      "text/plain": [
       "  Event.Date Publication.Date\n",
       "0 1948-10-24              NaT\n",
       "1 1962-07-19       1996-09-19\n",
       "2 1974-08-30       2007-02-26\n",
       "3 1977-06-19       2000-12-09\n",
       "4 1979-08-02       1980-04-16"
      ]
     },
     "execution_count": 48,
     "metadata": {},
     "output_type": "execute_result"
    }
   ],
   "source": [
    "#Changing the Event.Date and Publication.Date columns into datetime\n",
    "cleaned_data['Event.Date']=pd.to_datetime(cleaned_data['Event.Date'])\n",
    "cleaned_data['Publication.Date']=pd.to_datetime(cleaned_data['Publication.Date'])\n",
    "\n",
    "#Checking if it has been applied\n",
    "cleaned_data[['Event.Date','Publication.Date']].head()"
   ]
  },
  {
   "cell_type": "code",
   "execution_count": 50,
   "id": "9710ce40",
   "metadata": {},
   "outputs": [
    {
     "data": {
      "text/plain": [
       "True"
      ]
     },
     "execution_count": 50,
     "metadata": {},
     "output_type": "execute_result"
    }
   ],
   "source": [
    "# Checking if there are any duplicate rows\n",
    "cleaned_data.duplicated().any()\n"
   ]
  },
  {
   "cell_type": "code",
   "execution_count": 51,
   "id": "e0c4bb77",
   "metadata": {},
   "outputs": [
    {
     "name": "stdout",
     "output_type": "stream",
     "text": [
      "The Cleaned dataset contains 88958 rows and 31 columns.\n"
     ]
    }
   ],
   "source": [
    "# Droping duplicated rows and keeping the first occurrence\n",
    "cleaned_data = cleaned_data.drop_duplicates()\n",
    "\n",
    "#Checking dimensions of our cleaned data after duplicates have been dropped\n",
    "cleaned_data.shape\n",
    "print(f\"The Cleaned dataset contains {cleaned_data.shape[0]} rows and {cleaned_data.shape[1]} columns.\")\n"
   ]
  },
  {
   "cell_type": "code",
   "execution_count": 52,
   "id": "c7f058fc",
   "metadata": {},
   "outputs": [],
   "source": [
    "#Grouping the numerical values and fill them with the mean\n",
    "numeric_values = cleaned_data.select_dtypes(include=[float, int]).columns\n",
    "cleaned_data[numeric_values] = cleaned_data[numeric_values].fillna(cleaned_data[numeric_values].mean())\n"
   ]
  },
  {
   "cell_type": "code",
   "execution_count": 53,
   "id": "101b4fca",
   "metadata": {},
   "outputs": [
    {
     "data": {
      "text/plain": [
       "Number.of.Engines         0\n",
       "Total.Fatal.Injuries      0\n",
       "Total.Serious.Injuries    0\n",
       "Total.Minor.Injuries      0\n",
       "Total.Uninjured           0\n",
       "dtype: int64"
      ]
     },
     "execution_count": 53,
     "metadata": {},
     "output_type": "execute_result"
    }
   ],
   "source": [
    "#Checking for any null values in the numerical values\n",
    "cleaned_data[numeric_values].isna().sum()"
   ]
  },
  {
   "cell_type": "code",
   "execution_count": 73,
   "id": "79a2377e",
   "metadata": {},
   "outputs": [
    {
     "name": "stdout",
     "output_type": "stream",
     "text": [
      "Event.Id: []\n",
      "Investigation.Type: []\n",
      "Accident.Number: []\n",
      "Location: []\n",
      "Country: []\n",
      "Latitude: []\n",
      "Longitude: []\n",
      "Airport.Code: []\n",
      "Airport.Name: []\n",
      "Injury.Severity: []\n",
      "Aircraft.damage: []\n",
      "Aircraft.Category: []\n",
      "Registration.Number: []\n",
      "Make: []\n",
      "Model: []\n",
      "Amateur.Built: []\n",
      "Engine.Type: []\n",
      "FAR.Description: []\n",
      "Schedule: []\n",
      "Purpose.of.flight: []\n",
      "Air.carrier: []\n",
      "Weather.Condition: []\n",
      "Broad.phase.of.flight: []\n",
      "Report.Status: []\n"
     ]
    }
   ],
   "source": [
    "for column in cleaned_data.select_dtypes(include='object').columns:\n",
    "    unique_types = cleaned_data[column].dropna().map(type).unique()\n",
    "    print(f\"{column}: {unique_types}\")"
   ]
  },
  {
   "cell_type": "code",
   "execution_count": 71,
   "id": "c39e94c0",
   "metadata": {},
   "outputs": [],
   "source": [
    "#Group the categorical values and fill them with the mode\n",
    "categorical_values= cleaned_data.select_dtypes(include=['object', 'datetime64[ns]']).columns\n",
    "\n",
    "for column in categorical_values:\n",
    "    mode_series = cleaned_data[column].mode()\n",
    "    if not mode_series.empty:\n",
    "        mode_value = mode_series.iloc[0]\n",
    "        cleaned_data[column] = cleaned_data[column].fillna(mode_value)\n"
   ]
  },
  {
   "cell_type": "code",
   "execution_count": 72,
   "id": "e7a3b236",
   "metadata": {},
   "outputs": [
    {
     "data": {
      "text/plain": [
       "Event.Id                 88958\n",
       "Investigation.Type       88958\n",
       "Accident.Number          88958\n",
       "Event.Date                   0\n",
       "Location                 88958\n",
       "Country                  88958\n",
       "Latitude                 88958\n",
       "Longitude                88958\n",
       "Airport.Code             88958\n",
       "Airport.Name             88958\n",
       "Injury.Severity          88958\n",
       "Aircraft.damage          88958\n",
       "Aircraft.Category        88958\n",
       "Registration.Number      88958\n",
       "Make                     88958\n",
       "Model                    88958\n",
       "Amateur.Built            88958\n",
       "Engine.Type              88958\n",
       "FAR.Description          88958\n",
       "Schedule                 88958\n",
       "Purpose.of.flight        88958\n",
       "Air.carrier              88958\n",
       "Weather.Condition        88958\n",
       "Broad.phase.of.flight    88958\n",
       "Report.Status            88958\n",
       "Publication.Date             0\n",
       "dtype: int64"
      ]
     },
     "execution_count": 72,
     "metadata": {},
     "output_type": "execute_result"
    }
   ],
   "source": [
    "#Check for any null values in the categorical values\n",
    "cleaned_data[categorical_values].isna().sum()"
   ]
  },
  {
   "cell_type": "code",
   "execution_count": null,
   "id": "f3c7a78c",
   "metadata": {},
   "outputs": [],
   "source": [
    "# Select numeric and categorical data by column names, then combine them back into one DataFrame\n",
    "numerical_data = cleaned_data[numeric_values]\n",
    "categorical_data = cleaned_data[categorical_values]\n",
    "cleaned_data = pd.concat([numerical_data, categorical_data], axis=1)\n",
    "\n",
    "#Check the 1st 5 rows of the cleaned data\n",
    "cleaned_data.head()"
   ]
  },
  {
   "cell_type": "code",
   "execution_count": null,
   "id": "25d993f5",
   "metadata": {},
   "outputs": [],
   "source": [
    "#Check the columns\n",
    "cleaned_data.columns"
   ]
  },
  {
   "cell_type": "code",
   "execution_count": null,
   "id": "3143ade2",
   "metadata": {},
   "outputs": [],
   "source": [
    "# Display the summary of the DataFrame to check data types, non-null counts, and memory usage\n",
    "cleaned_data.info()\n"
   ]
  },
  {
   "cell_type": "markdown",
   "id": "20e45bf1",
   "metadata": {},
   "source": [
    "'''\n",
    "The dataset has been thoroughly cleaned, with missing values handled. Duplicate rows have been removed, and columns with more than 50% of their values missing have been excluded. Following these data cleaning steps, the dataset now consists of 25 columns and 88,895 rows. The next step involves visualizing the cleaned data.\n",
    "'''"
   ]
  },
  {
   "cell_type": "markdown",
   "id": "63f863fe",
   "metadata": {},
   "source": [
    "### Step 4 : Data Analysis and Visualizations"
   ]
  },
  {
   "cell_type": "code",
   "execution_count": null,
   "id": "2dbfe3a7",
   "metadata": {},
   "outputs": [],
   "source": [
    "#summary statistics for numerical columns in the cleaned dataset\n",
    "cleaned_data.describe()"
   ]
  },
  {
   "cell_type": "markdown",
   "id": "7e378ddd",
   "metadata": {},
   "source": [
    "'''\n",
    "Key Analysis:\n",
    "\n",
    "Fatal Injuries: Majority of the accidents habe no fatalities as seen in the 25%, 50% and 75% percentiles. However, there are extreme cases with upto 349 fatal injuries in one incident\n",
    "\n",
    "Serious and Minor Injuries: Similar to the fatal injuries, majority of the incidents have no serious and minor injuries, but there are some outliers with other 161 serious injuries and 380 minor injuries\n",
    "\n",
    "Uninjured individuals: Most accidesnts have some injured individals with a higher median value of 2 while in other cases many people were uninjured\n",
    "'''"
   ]
  },
  {
   "cell_type": "markdown",
   "id": "50a5a6ab",
   "metadata": {},
   "source": [
    "#### Step 4a : Accident Frequency by Aircraft Make"
   ]
  },
  {
   "cell_type": "code",
   "execution_count": null,
   "id": "2937f5ca",
   "metadata": {},
   "outputs": [],
   "source": [
    "#Check the columns we have\n",
    "cleaned_data.columns"
   ]
  },
  {
   "cell_type": "code",
   "execution_count": null,
   "id": "f5e23a3d",
   "metadata": {},
   "outputs": [],
   "source": [
    "#Check if we can use the accident Number column\n",
    "cleaned_data['Accident.Number'].head()"
   ]
  },
  {
   "cell_type": "code",
   "execution_count": null,
   "id": "d3b5d20f",
   "metadata": {},
   "outputs": [],
   "source": [
    "# Create a new column for Total Accidents (sum of Serious and Minor Injuries)\n",
    "cleaned_data['Total.Accidents'] = cleaned_data['Total.Serious.Injuries'] + cleaned_data['Total.Minor.Injuries']\n",
    "\n",
    "# Check if  the new column is added\n",
    "cleaned_data[['Make', 'Model', 'Total.Serious.Injuries', 'Total.Minor.Injuries', 'Total.Accidents']].head()"
   ]
  },
  {
   "cell_type": "code",
   "execution_count": null,
   "id": "07cb5b84",
   "metadata": {},
   "outputs": [],
   "source": [
    "# Count the number of accidents per aircraft make\n",
    "accidents_per_model = cleaned_data.groupby('Make').size().reset_index(name='Total.Accidents')\n",
    "\n",
    "# Sort by the accident count for better readability\n",
    "accidents_per_model = accidents_per_model.sort_values(by='Total.Accidents', ascending=False)\n",
    "\n",
    "# Display the top 10 aircraft types with the most accidents\n",
    "accidents_per_model.head(10)\n"
   ]
  },
  {
   "cell_type": "code",
   "execution_count": null,
   "id": "bc8da9d0",
   "metadata": {},
   "outputs": [],
   "source": [
    "#Plot a bar Graph to show the relationship between make and Total accidents\n",
    "plt.figure(figsize=(10,6))\n",
    "\n",
    "#Limit the bar graph to only show the top 10 makes\n",
    "top_makes = accidents_per_model.head(10)\n",
    "bars = plt.bar(top_makes['Make'],top_makes['Total.Accidents'], color='skyblue')\n",
    "\n",
    "plt.title('Accident Frequency by Aircract Make')\n",
    "\n",
    "plt.xlabel('Make')\n",
    "plt.ylabel('Total Accidents')\n",
    "plt.show()"
   ]
  },
  {
   "cell_type": "markdown",
   "id": "f75ef8b8",
   "metadata": {},
   "source": [
    "#### Step 4b : Accident Severity by Aircraft make "
   ]
  },
  {
   "cell_type": "code",
   "execution_count": null,
   "id": "16eb5b67",
   "metadata": {},
   "outputs": [],
   "source": []
  },
  {
   "cell_type": "code",
   "execution_count": null,
   "id": "c7e495fd",
   "metadata": {},
   "outputs": [],
   "source": [
    "#Filter fatal accidents\n",
    "fatal_accidents = cleaned_data[cleaned_data['Injury.Severity'] == 'Fatal']\n",
    "fatal_accidents"
   ]
  },
  {
   "cell_type": "code",
   "execution_count": null,
   "id": "a3bc9937",
   "metadata": {},
   "outputs": [],
   "source": [
    "#Group by aircraft make and count\n",
    "fatal_by_make = fatal_accidents.groupby('Make').size().reset_index(name='Fatal_Accident_Count')\n",
    "fatal_by_make = fatal_by_make.sort_values('Fatal_Accident_Count', ascending=False)\n",
    "print(fatal_by_make.head(10))"
   ]
  },
  {
   "cell_type": "code",
   "execution_count": null,
   "id": "806073bc",
   "metadata": {},
   "outputs": [],
   "source": []
  }
 ],
 "metadata": {
  "kernelspec": {
   "display_name": "learn-env",
   "language": "python",
   "name": "python3"
  },
  "language_info": {
   "codemirror_mode": {
    "name": "ipython",
    "version": 3
   },
   "file_extension": ".py",
   "mimetype": "text/x-python",
   "name": "python",
   "nbconvert_exporter": "python",
   "pygments_lexer": "ipython3",
   "version": "3.8.5"
  }
 },
 "nbformat": 4,
 "nbformat_minor": 5
}
